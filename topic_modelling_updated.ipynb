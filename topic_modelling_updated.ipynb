{
 "cells": [
  {
   "cell_type": "code",
   "execution_count": 8,
   "metadata": {},
   "outputs": [
    {
     "name": "stdout",
     "output_type": "stream",
     "text": [
      "Requirement already satisfied: spacy in /Users/moksha/opt/anaconda3/lib/python3.8/site-packages (3.0.6)\n",
      "Requirement already satisfied: requests<3.0.0,>=2.13.0 in /Users/moksha/opt/anaconda3/lib/python3.8/site-packages (from spacy) (2.24.0)\n",
      "Requirement already satisfied: typer<0.4.0,>=0.3.0 in /Users/moksha/opt/anaconda3/lib/python3.8/site-packages (from spacy) (0.3.2)\n",
      "Requirement already satisfied: tqdm<5.0.0,>=4.38.0 in /Users/moksha/opt/anaconda3/lib/python3.8/site-packages (from spacy) (4.47.0)\n",
      "Requirement already satisfied: spacy-legacy<3.1.0,>=3.0.4 in /Users/moksha/opt/anaconda3/lib/python3.8/site-packages (from spacy) (3.0.6)\n",
      "Requirement already satisfied: numpy>=1.15.0 in /Users/moksha/opt/anaconda3/lib/python3.8/site-packages (from spacy) (1.19.5)\n",
      "Requirement already satisfied: pydantic<1.8.0,>=1.7.1 in /Users/moksha/opt/anaconda3/lib/python3.8/site-packages (from spacy) (1.7.4)\n",
      "Requirement already satisfied: thinc<8.1.0,>=8.0.3 in /Users/moksha/opt/anaconda3/lib/python3.8/site-packages (from spacy) (8.0.7)\n",
      "Requirement already satisfied: murmurhash<1.1.0,>=0.28.0 in /Users/moksha/opt/anaconda3/lib/python3.8/site-packages (from spacy) (1.0.5)\n",
      "Requirement already satisfied: srsly<3.0.0,>=2.4.1 in /Users/moksha/opt/anaconda3/lib/python3.8/site-packages (from spacy) (2.4.1)\n",
      "Requirement already satisfied: packaging>=20.0 in /Users/moksha/opt/anaconda3/lib/python3.8/site-packages (from spacy) (20.4)\n",
      "Requirement already satisfied: cymem<2.1.0,>=2.0.2 in /Users/moksha/opt/anaconda3/lib/python3.8/site-packages (from spacy) (2.0.5)\n",
      "Requirement already satisfied: wasabi<1.1.0,>=0.8.1 in /Users/moksha/opt/anaconda3/lib/python3.8/site-packages (from spacy) (0.8.2)\n",
      "Requirement already satisfied: pathy>=0.3.5 in /Users/moksha/opt/anaconda3/lib/python3.8/site-packages (from spacy) (0.6.0)\n",
      "Requirement already satisfied: jinja2 in /Users/moksha/opt/anaconda3/lib/python3.8/site-packages (from spacy) (2.11.2)\n",
      "Requirement already satisfied: preshed<3.1.0,>=3.0.2 in /Users/moksha/opt/anaconda3/lib/python3.8/site-packages (from spacy) (3.0.5)\n",
      "Requirement already satisfied: catalogue<2.1.0,>=2.0.3 in /Users/moksha/opt/anaconda3/lib/python3.8/site-packages (from spacy) (2.0.4)\n",
      "Requirement already satisfied: blis<0.8.0,>=0.4.0 in /Users/moksha/opt/anaconda3/lib/python3.8/site-packages (from spacy) (0.7.4)\n",
      "Requirement already satisfied: setuptools in /Users/moksha/opt/anaconda3/lib/python3.8/site-packages (from spacy) (50.3.0)\n",
      "Requirement already satisfied: chardet<4,>=3.0.2 in /Users/moksha/opt/anaconda3/lib/python3.8/site-packages (from requests<3.0.0,>=2.13.0->spacy) (3.0.4)\n",
      "Requirement already satisfied: idna<3,>=2.5 in /Users/moksha/opt/anaconda3/lib/python3.8/site-packages (from requests<3.0.0,>=2.13.0->spacy) (2.10)\n",
      "Requirement already satisfied: urllib3!=1.25.0,!=1.25.1,<1.26,>=1.21.1 in /Users/moksha/opt/anaconda3/lib/python3.8/site-packages (from requests<3.0.0,>=2.13.0->spacy) (1.25.9)\n",
      "Requirement already satisfied: certifi>=2017.4.17 in /Users/moksha/opt/anaconda3/lib/python3.8/site-packages (from requests<3.0.0,>=2.13.0->spacy) (2020.6.20)\n",
      "Requirement already satisfied: click<7.2.0,>=7.1.1 in /Users/moksha/opt/anaconda3/lib/python3.8/site-packages (from typer<0.4.0,>=0.3.0->spacy) (7.1.2)\n",
      "Requirement already satisfied: pyparsing>=2.0.2 in /Users/moksha/opt/anaconda3/lib/python3.8/site-packages (from packaging>=20.0->spacy) (2.4.7)\n",
      "Requirement already satisfied: six in /Users/moksha/opt/anaconda3/lib/python3.8/site-packages (from packaging>=20.0->spacy) (1.15.0)\n",
      "Requirement already satisfied: smart-open<6.0.0,>=5.0.0 in /Users/moksha/opt/anaconda3/lib/python3.8/site-packages (from pathy>=0.3.5->spacy) (5.1.0)\n",
      "Requirement already satisfied: MarkupSafe>=0.23 in /Users/moksha/opt/anaconda3/lib/python3.8/site-packages (from jinja2->spacy) (1.1.1)\n",
      "Note: you may need to restart the kernel to use updated packages.\n"
     ]
    }
   ],
   "source": [
    "pip install spacy"
   ]
  },
  {
   "cell_type": "code",
   "execution_count": 1,
   "metadata": {},
   "outputs": [],
   "source": [
    "import spacy\n",
    "from spacy.lang.en import English\n"
   ]
  },
  {
   "cell_type": "code",
   "execution_count": 2,
   "metadata": {},
   "outputs": [],
   "source": [
    "import pandas as pd"
   ]
  },
  {
   "cell_type": "code",
   "execution_count": 3,
   "metadata": {},
   "outputs": [],
   "source": [
    "parser = English()\n"
   ]
  },
  {
   "cell_type": "code",
   "execution_count": 4,
   "metadata": {},
   "outputs": [],
   "source": [
    "def tokenize(text):\n",
    "    lda_tokens = []\n",
    "    tokens = parser(text)\n",
    "    for token in tokens:\n",
    "        if token.orth_.isspace():\n",
    "            continue\n",
    "        else:\n",
    "            lda_tokens.append(token.lower_)\n",
    "    return lda_tokens"
   ]
  },
  {
   "cell_type": "code",
   "execution_count": 5,
   "metadata": {},
   "outputs": [
    {
     "name": "stderr",
     "output_type": "stream",
     "text": [
      "[nltk_data] Downloading package wordnet to /Users/moksha/nltk_data...\n",
      "[nltk_data]   Package wordnet is already up-to-date!\n"
     ]
    },
    {
     "data": {
      "text/plain": [
       "True"
      ]
     },
     "execution_count": 5,
     "metadata": {},
     "output_type": "execute_result"
    }
   ],
   "source": [
    "import nltk\n",
    "nltk.download('wordnet')"
   ]
  },
  {
   "cell_type": "code",
   "execution_count": 6,
   "metadata": {},
   "outputs": [],
   "source": [
    "from nltk.corpus import wordnet as wn"
   ]
  },
  {
   "cell_type": "code",
   "execution_count": 7,
   "metadata": {},
   "outputs": [],
   "source": [
    "def get_lemma(word):\n",
    "    lemma = wn.morphy(word)\n",
    "    if lemma is None:\n",
    "        return word\n",
    "    else:\n",
    "        return lemma\n"
   ]
  },
  {
   "cell_type": "code",
   "execution_count": 8,
   "metadata": {},
   "outputs": [],
   "source": [
    "from nltk.stem.wordnet import WordNetLemmatizer"
   ]
  },
  {
   "cell_type": "code",
   "execution_count": 9,
   "metadata": {},
   "outputs": [],
   "source": [
    "def get_lemma2(word):\n",
    "    return WordNetLemmatizer().lemmatize(word)"
   ]
  },
  {
   "cell_type": "code",
   "execution_count": 10,
   "metadata": {},
   "outputs": [
    {
     "name": "stderr",
     "output_type": "stream",
     "text": [
      "[nltk_data] Downloading package stopwords to\n",
      "[nltk_data]     /Users/moksha/nltk_data...\n",
      "[nltk_data]   Package stopwords is already up-to-date!\n"
     ]
    }
   ],
   "source": [
    "nltk.download('stopwords')\n",
    "en_stop = set(nltk.corpus.stopwords.words('english'))"
   ]
  },
  {
   "cell_type": "code",
   "execution_count": 11,
   "metadata": {},
   "outputs": [],
   "source": [
    "en_stop.add('movie')\n",
    "en_stop.add('film')\n",
    "en_stop.add('story')\n",
    "en_stop.add('like')\n",
    "en_stop.add('feel')\n",
    "en_stop.add('see')\n",
    "en_stop.add('watch')"
   ]
  },
  {
   "cell_type": "code",
   "execution_count": 12,
   "metadata": {},
   "outputs": [],
   "source": [
    "def prepare_text_for_lda(text):\n",
    "    tokens = tokenize(text)\n",
    "    tokens = [token for token in tokens if len(token) > 3]\n",
    "    tokens = [token for token in tokens if token not in en_stop]\n",
    "    tokens = [get_lemma(token) for token in tokens]\n",
    "    return tokens\n"
   ]
  },
  {
   "cell_type": "code",
   "execution_count": 13,
   "metadata": {},
   "outputs": [],
   "source": [
    "df = pd.read_csv('tf_idf_summarized.csv', index_col = 0)\n"
   ]
  },
  {
   "cell_type": "code",
   "execution_count": 14,
   "metadata": {},
   "outputs": [
    {
     "data": {
      "text/html": [
       "<div>\n",
       "<style scoped>\n",
       "    .dataframe tbody tr th:only-of-type {\n",
       "        vertical-align: middle;\n",
       "    }\n",
       "\n",
       "    .dataframe tbody tr th {\n",
       "        vertical-align: top;\n",
       "    }\n",
       "\n",
       "    .dataframe thead th {\n",
       "        text-align: right;\n",
       "    }\n",
       "</style>\n",
       "<table border=\"1\" class=\"dataframe\">\n",
       "  <thead>\n",
       "    <tr style=\"text-align: right;\">\n",
       "      <th></th>\n",
       "      <th>movie</th>\n",
       "      <th>summary</th>\n",
       "    </tr>\n",
       "  </thead>\n",
       "  <tbody>\n",
       "    <tr>\n",
       "      <th>0</th>\n",
       "      <td>chicken_run</td>\n",
       "      <td>its plump chickens maintain that strange  hapt...</td>\n",
       "    </tr>\n",
       "    <tr>\n",
       "      <th>1</th>\n",
       "      <td>the_taste_of_others</td>\n",
       "      <td>succeeds with believable characters and situat...</td>\n",
       "    </tr>\n",
       "    <tr>\n",
       "      <th>2</th>\n",
       "      <td>yi_yi</td>\n",
       "      <td>this intimate family portrait peels away layer...</td>\n",
       "    </tr>\n",
       "    <tr>\n",
       "      <th>3</th>\n",
       "      <td>memento</td>\n",
       "      <td>i can t remember when a movie has seemed so cl...</td>\n",
       "    </tr>\n",
       "    <tr>\n",
       "      <th>4</th>\n",
       "      <td>the_life_and_times_of_hank_greenberg</td>\n",
       "      <td>writer director aviva kempner crafted this lov...</td>\n",
       "    </tr>\n",
       "    <tr>\n",
       "      <th>...</th>\n",
       "      <td>...</td>\n",
       "      <td>...</td>\n",
       "    </tr>\n",
       "    <tr>\n",
       "      <th>2095</th>\n",
       "      <td>emma_2020</td>\n",
       "      <td>if anyone were to push emma woodhouse into a l...</td>\n",
       "    </tr>\n",
       "    <tr>\n",
       "      <th>2096</th>\n",
       "      <td>yes_god_yes</td>\n",
       "      <td>karen maine s script confronts catholicism s b...</td>\n",
       "    </tr>\n",
       "    <tr>\n",
       "      <th>2097</th>\n",
       "      <td>blood_on_her_name</td>\n",
       "      <td>allowing the viewer to piece things together o...</td>\n",
       "    </tr>\n",
       "    <tr>\n",
       "      <th>2098</th>\n",
       "      <td>sylvies_love</td>\n",
       "      <td>a sublimely versatile and aching performance b...</td>\n",
       "    </tr>\n",
       "    <tr>\n",
       "      <th>2099</th>\n",
       "      <td>mank</td>\n",
       "      <td>more than a magnificent technical achievement ...</td>\n",
       "    </tr>\n",
       "  </tbody>\n",
       "</table>\n",
       "<p>2100 rows × 2 columns</p>\n",
       "</div>"
      ],
      "text/plain": [
       "                                     movie  \\\n",
       "0                              chicken_run   \n",
       "1                      the_taste_of_others   \n",
       "2                                    yi_yi   \n",
       "3                                  memento   \n",
       "4     the_life_and_times_of_hank_greenberg   \n",
       "...                                    ...   \n",
       "2095                             emma_2020   \n",
       "2096                           yes_god_yes   \n",
       "2097                     blood_on_her_name   \n",
       "2098                          sylvies_love   \n",
       "2099                                  mank   \n",
       "\n",
       "                                                summary  \n",
       "0     its plump chickens maintain that strange  hapt...  \n",
       "1     succeeds with believable characters and situat...  \n",
       "2     this intimate family portrait peels away layer...  \n",
       "3     i can t remember when a movie has seemed so cl...  \n",
       "4     writer director aviva kempner crafted this lov...  \n",
       "...                                                 ...  \n",
       "2095  if anyone were to push emma woodhouse into a l...  \n",
       "2096  karen maine s script confronts catholicism s b...  \n",
       "2097  allowing the viewer to piece things together o...  \n",
       "2098  a sublimely versatile and aching performance b...  \n",
       "2099  more than a magnificent technical achievement ...  \n",
       "\n",
       "[2100 rows x 2 columns]"
      ]
     },
     "execution_count": 14,
     "metadata": {},
     "output_type": "execute_result"
    }
   ],
   "source": [
    "df"
   ]
  },
  {
   "cell_type": "code",
   "execution_count": 15,
   "metadata": {},
   "outputs": [],
   "source": [
    "df_2 = pd.read_csv('critic_reviews.csv')[['review']]"
   ]
  },
  {
   "cell_type": "code",
   "execution_count": 16,
   "metadata": {},
   "outputs": [
    {
     "data": {
      "text/html": [
       "<div>\n",
       "<style scoped>\n",
       "    .dataframe tbody tr th:only-of-type {\n",
       "        vertical-align: middle;\n",
       "    }\n",
       "\n",
       "    .dataframe tbody tr th {\n",
       "        vertical-align: top;\n",
       "    }\n",
       "\n",
       "    .dataframe thead th {\n",
       "        text-align: right;\n",
       "    }\n",
       "</style>\n",
       "<table border=\"1\" class=\"dataframe\">\n",
       "  <thead>\n",
       "    <tr style=\"text-align: right;\">\n",
       "      <th></th>\n",
       "      <th>review</th>\n",
       "    </tr>\n",
       "  </thead>\n",
       "  <tbody>\n",
       "    <tr>\n",
       "      <th>0</th>\n",
       "      <td>Chicken Run, if anything, offers an alternativ...</td>\n",
       "    </tr>\n",
       "    <tr>\n",
       "      <th>1</th>\n",
       "      <td>Its plump chickens maintain that strange, hapt...</td>\n",
       "    </tr>\n",
       "    <tr>\n",
       "      <th>2</th>\n",
       "      <td>Even without Wallace and Gromit, most of the t...</td>\n",
       "    </tr>\n",
       "    <tr>\n",
       "      <th>3</th>\n",
       "      <td>It coaxes you to laugh and cry, flatters your ...</td>\n",
       "    </tr>\n",
       "    <tr>\n",
       "      <th>4</th>\n",
       "      <td>Chicken Run is a charmingly conceived entertai...</td>\n",
       "    </tr>\n",
       "    <tr>\n",
       "      <th>...</th>\n",
       "      <td>...</td>\n",
       "    </tr>\n",
       "    <tr>\n",
       "      <th>41252</th>\n",
       "      <td>Mank is a tale of triumph, the kind that's bee...</td>\n",
       "    </tr>\n",
       "    <tr>\n",
       "      <th>41253</th>\n",
       "      <td>A worthy, eminently watchable entry in the ann...</td>\n",
       "    </tr>\n",
       "    <tr>\n",
       "      <th>41254</th>\n",
       "      <td>Although Fincher's attention to detail results...</td>\n",
       "    </tr>\n",
       "    <tr>\n",
       "      <th>41255</th>\n",
       "      <td>It is pure pleasure to see a film that respect...</td>\n",
       "    </tr>\n",
       "    <tr>\n",
       "      <th>41256</th>\n",
       "      <td>A film at war with itself-simultaneously heart...</td>\n",
       "    </tr>\n",
       "  </tbody>\n",
       "</table>\n",
       "<p>41257 rows × 1 columns</p>\n",
       "</div>"
      ],
      "text/plain": [
       "                                                  review\n",
       "0      Chicken Run, if anything, offers an alternativ...\n",
       "1      Its plump chickens maintain that strange, hapt...\n",
       "2      Even without Wallace and Gromit, most of the t...\n",
       "3      It coaxes you to laugh and cry, flatters your ...\n",
       "4      Chicken Run is a charmingly conceived entertai...\n",
       "...                                                  ...\n",
       "41252  Mank is a tale of triumph, the kind that's bee...\n",
       "41253  A worthy, eminently watchable entry in the ann...\n",
       "41254  Although Fincher's attention to detail results...\n",
       "41255  It is pure pleasure to see a film that respect...\n",
       "41256  A film at war with itself-simultaneously heart...\n",
       "\n",
       "[41257 rows x 1 columns]"
      ]
     },
     "execution_count": 16,
     "metadata": {},
     "output_type": "execute_result"
    }
   ],
   "source": [
    "df_2"
   ]
  },
  {
   "cell_type": "code",
   "execution_count": 17,
   "metadata": {},
   "outputs": [
    {
     "name": "stdout",
     "output_type": "stream",
     "text": [
      "['avoid', 'traffic', 'take', 'amaze', 'place']\n",
      "['percent', 'engross', 'tour', 'attractively', 'seamy', 'side', 'life', 'fascinate', 'character', 'study', 'despite', 'novelist', 'hero']\n",
      "['life', 'people', 'inside', 'shack', 'full', 'surprise', 'well', 'grim', 'confirmation', 'things', 'know', 'also', 'significantly', 'shape', 'experience']\n",
      "['shrewd', 'tender', 'equal', 'measure', 'thirteen', 'days', 'insider', 'drama', 'excellence']\n",
      "['shadow', 'vampire', 'consistently', 'inventively', 'strange', 'likely', 'keep', 'hour']\n",
      "['falls', 'short', 'challenge', 'aspire']\n",
      "['times', 'disturb', 'always', 'intense', 'flick', 'offer', 'acid', 'trip', 'viewers', 'first', 'hand', 'look', 'four', 'people', 'become', 'trap', 'hell']\n",
      "['wonderful', 'adult', 'older', 'teens']\n",
      "[]\n",
      "['hill', 'gang', 'buddyfests', 'pretend', 'teamwork', 'valor', 'really', 'star', 'cronyism']\n",
      "['toss', 'along', 'replacement', 'give', 'bonus', 'point', 'least', 'social', 'conscience']\n",
      "['sturdy', 'grip', 'well', 'balance', 'somewhat', 'artificial']\n",
      "['bitter', 'confection', 'chock', 'full', 'rusty', 'barb', 'woeful', 'inexorable', 'slide', 'doom', 'worse']\n",
      "['certainly', 'performance', 'worthwhile']\n",
      "['sweet', 'evocation', 'world', 'verge', 'change']\n",
      "['adam', 'rest', 'almost', 'entirely', 'shoulder', 'stuart', 'townsend', 'bring', 'duplicitous', 'title', 'character', 'winningly', 'light', 'touch']\n",
      "['channels', 'self', 'evident', 'symptom', 'urban', 'malaise', 'authentic', 'texture', 'seemingly', 'spontaneous', 'gesture']\n",
      "[]\n",
      "['laughable', 'moment', 'excitement', 'moment', 'sheer', 'idiocy', 'moment', 'sheer', 'idiotic', 'excitement']\n",
      "['even', 'flaw', 'techine', 'merit', 'attention']\n",
      "['history', 'guide', 'family', 'whether', 'young', 'probably', 'want', 'monster', 'university']\n",
      "['epic', 'work', 'accomplish', 'skill', 'grace']\n",
      "['ways', 'lagaan', 'quintessential', 'bollywood', 'except', 'much', 'much', 'better']\n",
      "['entertain', 'atmospheric', 'revenge', 'tale']\n",
      "['good', 'good', 'looking', 'feature', 'best', 'soundtrack', 'years', 'also', 'slick', 'schematic', 'weak', 'feeling', 'overly', 'indebted', 'tarantino']\n",
      "['much', 'motion', 'picture', 'employ', 'preparation', 'consumption', 'food', 'element', 'mostly', 'martha', 'provide', 'perfect', 'blend', 'cinematic', 'nourishment', 'gratification']\n",
      "['marvelously', 'nasty', 'comedy']\n",
      "['best', 'teenage', 'werewolf', 'ever', 'make']\n",
      "['times', 'flatly', 'deadpan', 'hylner', 'others', 'passionately', 'eccentric', 'abril', 'lola', 'reykjavik', 'least', 'dedicatedly', 'unexpected']\n",
      "['mini', 'masterpiece', 'marks', 'arrival', 'brave', 'talent', 'gyllenhaal', 'kelly', 'cult', 'glory', 'beckon']\n",
      "['first', 'time', 'director', 'writer', 'richard', 'kelly', 'draw', 'number', 'intrigue', 'elements', 'without', 'include', 'single', 'crucial', 'pull', 'everything', 'together']\n",
      "['captivate', 'dark', 'vision']\n",
      "[]\n",
      "['slow', 'savvy', 'look', 'love']\n",
      "['harry', 'potter', 'first', 'venture', 'onto', 'screen', 'solid', 'blockbuster']\n",
      "['inventive', 'animate', 'take', 'linklater', 'back', 'roots', 'austin', 'slacker', 'represent', 'summation', 'philosophical', 'concern', 'define', 'spokesperson']\n",
      "['inspire', 'pairing', 'channing', 'stile', 'create', 'real', 'dramatic', 'firework']\n",
      "['performance', 'nothing', 'else', 'embody', 'standard', 'excellence', 'iris', 'murdoch', 'would', 'surely', 'cheer']\n",
      "['magnificent', 'endure', 'bond', 'eccentric', 'astound', 'soul', 'somehow', 'manage', 'find', 'hold', 'dear', 'life']\n",
      "['bias', 'historical', 'reconstruction', 'extreme', 'physical', 'peril']\n",
      "['schroeder', 'craft', 'whiplash', 'urgency']\n",
      "['take', 'clever', 'schoolboy', 'make', 'elaborately', 'empty', 'ritchie', 'snatch']\n",
      "[]\n",
      "['manage', 'find', 'magic', 'documentary', 'style', 'manage', 'find', 'erotic', 'commonplace']\n",
      "['great', 'shake', 'domestic', 'comedy']\n",
      "['seem', 'le', 'fictional', 'tour', 'freud', 'forget', 'file']\n",
      "['excitement', 'tension', 'come', 'never', 'knowing', 'chopper', 'really', 'going', 'lose']\n",
      "['entertain', 'african', 'american', 'comedy', 'manners', 'ever', 'make']\n",
      "['hanratty', 'strictly', 'factual', 'character', 'call', \"o'reilly\", 'book', 'real', 'name', 'either', 'performance', 'hanks', 'give', 'make', 'wish', 'abagnale', 'strictly', 'factual', 'either', 'dicaprio', 'make', 'attractive', 'counterfeit']\n",
      "['audiard', 'third', 'rank', 'international', 'filmmaker']\n",
      "['occasionally', 'strain', 'crowd', 'pleasing', 'moment', 'pump', 'drama', 'toward', 'earn', 'indulgence']\n",
      "['bawdy', 'funny', 'exhilarate', 'chicago', 'great', 'entertainment']\n",
      "['triumphant', 'documentary']\n",
      "['refreshingly', 'keen', 'ability', 'everything', 'multiple', 'angle']\n",
      "['trouble', 'powerful']\n",
      "['skillfully', 'make', 'ultimately', 'annoying', 'drama']\n",
      "['though', 'initially', 'seem', 'putting', 'monster', 'ball', 'slowly', 'quietly', 'get', 'skin']\n",
      "['jason', 'patric', 'liotta', 'make', 'splendidly', 'cast', 'pair']\n",
      "['kind', 'fashion', 'biopic', 'make', 'want', 'read', 'book']\n",
      "['silence', 'nearly', 'years', 'junge', 'describe', 'great', 'clarity', 'circumstances', 'employment', 'daily', 'business', 'hitler', 'reign', 'include', 'last', 'days', 'bunker']\n",
      "['good', 'shrink', 'moretti', 'watch', 'unflinching', 'compassionate']\n",
      "['somewhat', 'crudely', 'construct', 'grip', 'quest', 'look', 'person', 'rack', 'self', 'loathing', 'become', 'enemy', 'race']\n",
      "['stuff', 'watchable', 'first', 'time', 'do', 'least', 'nonlethal', 'entertainment']\n",
      "['provide', 'nearly', 'much', 'pleasure', 'greatest', 'hit', 'although', 'quite', 'much', 'hearing', 'start', 'first', 'time']\n",
      "['time', 'honor', 'tradition', 'kid', 'film', 'mix', 'broad', 'display', 'physical', 'cruelty', 'sweet', 'message', 'case', 'need', 'member', 'herd', 'look']\n",
      "['serious', 'thoughtful']\n",
      "['left', 'feeling', 'scorsese', 'great', 'show', 'means', 'doubt', 'know']\n",
      "['beautiful', 'grim', 'tale']\n",
      "['classic', 'storytelling', 'style', 'border', 'corniness', 'deft', 'tragicomic', 'touch', 'heroic', 'refusal', 'safety', 'irony', 'haynes', 'manage', 'produce', 'something']\n",
      "['haynes', 'simply', 'take', 'norman', 'rockwell', 'setting', 'release', 'hound', 'either', 'deal', 'issue', 'directly', 'gently', 'sirk', 'audience']\n",
      "['remarkable', 'profoundly', 'experience']\n",
      "['director', 'remind', 'film', 'require', 'breakneck', 'pace', 'ridiculous', 'twist', 'effective']\n",
      "['great', 'comic', 'book']\n",
      "['caricaturises', 'every', 'character', 'save', 'lead', 'player', 'sympathiser', 'obvious', 'manner']\n",
      "['appeal', 'oddly', 'suspenseful']\n",
      "['collection', 'indie', 'clichs', 'refresh', 'slap', 'face', 'five', 'week', 'kipper']\n",
      "['charmingly', 'slender', 'fable', 'love', 'language', 'enmity', 'sauna']\n",
      "['resist', 'town', 'natural', 'history', 'museum', 'fill', 'stuff', 'polar', 'bear', 'wild', 'place', 'town']\n",
      "[]\n",
      "['without', 'straining', 'definitive', 'deeply', 'engross', 'biography', 'make', 'strong', 'case', 'charles', 'bukowski', 'major', 'american', 'poet']\n",
      "['airbrush', 'good', 'nothing', 'stop', 'putting', 'lump', 'throat']\n",
      "['pretty', 'lethargic', 'stuff']\n",
      "['might', 'well', 'title', 'james', 'cameron', 'holiday']\n",
      "['well', 'act', 'honestly', 'write', 'stops', 'bother', 'know', 'going']\n",
      "['notably', 'cinematic', 'storytelling', 'deft', 'shading', 'byler', 'elicit', 'thesps', 'piece', 'dramatics', 'understate', 'artful', 'approach', 'composition', 'movement']\n",
      "['burton', 'show', 'rivalry', 'father', 'rancor', 'seem', 'calm', 'lyricism', 'father', 'conflict', 'mean', 'dramatic', 'crux', 'forceful', 'actor', 'would', 'given', 'much', 'need', 'bite']\n",
      "[]\n",
      "['arguing', 'french', 'virtue', 'seem', 'delicacy', 'really', 'suit', 'uneducated', 'palate']\n",
      "['without', 'didactic', 'documentary', 'raise', 'important', 'issue', 'bias', 'objectivity']\n",
      "['say', 'need', 'photo', 'kid', 'excite', 'wide', 'eye', 'reaction', 'realize', 'outside', 'world', 'pay', 'attention']\n",
      "['tense', 'first', 'rate', 'thriller']\n",
      "['always', 'look', 'great', 'even']\n",
      "['madness', 'tragedy', 'aviator', 'much', 'belief', 'crazy', 'dream', 'reaching', 'recklessness', 'accomplishment']\n",
      "['piffle', 'superior', 'piffle']\n",
      "['impassioned', 'polemic', 'fill', 'information', 'sure', 'break', 'dinner', 'table', 'conversation']\n",
      "['kind', 'remind', 'love', 'movie', 'much', 'fill', 'unexpected', 'energy', 'ambition', 'intelligence', 'give', 'hope', 'future']\n",
      "['filmgoers', 'mood', 'round', 'fascinate', 'documentary', 'george', 'butler']\n",
      "['reflect', 'growing', 'interpenetration', 'many', 'individual', 'national', 'cinema', 'cultural', 'conglomerate', 'reflect', 'irresistible', 'tide', 'cinematic', 'globalization']\n",
      "['feel', 'elegy', 'aging', 'rock', 'pixie']\n",
      "['filmmaker', 'include', 'good', 'behind', 'scene', 'footage', 'unfettered', 'access', 'sometimes', 'feel', 'long', 'college', 'fraternity', 'stunt']\n",
      "['brutal', 'brilliant', 'depress', 'rivet']\n",
      "['beautifully', 'make', 'unsurpassingly', 'creepy', 'rare', 'remake', 'something', 'contemporary']\n",
      "['thriller', 'mystery', 'buff', 'might', 'find', 'narrative', 'slow', 'thriller', 'elements', 'introduce', 'nearly', 'half', 'mystery', 'start', 'even', 'later', 'dandy', 'payoff', 'reward', 'patient']\n",
      "['theater', 'fan', 'whose', 'numbers', 'continue', 'dwindle', 'cherish', 'rest', 'broadway', 'remembrance', 'great', 'time', 'long', 'go']\n",
      "['silly', 'sick', 'surreal', 'triumph', 'style', 'message', 'entertainment', 'value']\n",
      "['tsai', 'hugely', 'popular', 'critic', 'believe', 'part', 'critic', 'actually', 'something', 'watching', 'film', 'girl', 'limping', 'hallway', 'take', 'note', 'regular', 'theatergoer', 'helplessly']\n",
      "['pretty', 'good', 'picture', 'wrap', 'around', 'great', 'oscar', 'contender', 'performance']\n",
      "['lack', 'originality', 'make', 'sheer', 'bravado', 'really', 'nice', 'clothes']\n"
     ]
    },
    {
     "name": "stdout",
     "output_type": "stream",
     "text": [
      "['latest', 'hong', 'kong', 'reign', 'comic', 'star', 'director', 'stephen', 'chow', 'celebration', 'hong', 'kong', 'action', 'cinema', 'mock', 'gravity', 'emotional', 'physical']\n",
      "['amid', 'intense', 'teaching', 'hasidic', 'tenet', 'life', 'challenge', 'test', 'surprise', 'warm', 'funny', 'relationship', 'heart']\n",
      "['ending', 'sublime', 'piece', 'almost', 'make', 'overwhelm', 'slightness']\n",
      "['million', 'offer', 'deft', 'mixture', 'reality', 'fantasy', 'unexpected', 'place']\n",
      "['miyazaki', 'vision', 'extraordinary', 'howl', 'move', 'castle', 'confirm', 'fascination', 'transformation', 'dangerous', 'journey', 'strange', 'adventure']\n",
      "['enchant', 'flash', 'classic', 'miyazaki', 'nag', 'sense', 'something', 'essential', 'miss']\n",
      "['miyazaki', 'appeal', 'crosse', 'generation', 'adult', 'audience', 'draw', 'depth', 'variety', 'vision', 'kid', 'exactly', 'reason']\n",
      "['trippy', 'tribute', 'l.a.', 'noir', 'blaze', 'running', 'time', 'genre', 'bust', 'blitzkrieg', 'attack', 'hollywood', 'pretentiousness', 'full', 'pulp', 'paperback', 'myriad', 'filmic', 'offshoot', 'lampoon']\n",
      "['whole', 'embarrassment', 'moment', 'clammy', 'vulnerability', 'world', 'turn', 'stare']\n",
      "['want', 'lucas', 'take', 'direct', 'style', 'reliance', 'blue', 'screen', 'cheesy', 'tendency', 'reference', 'imagination', 'fertile', 'ever']\n",
      "['fiennes', 'carry', 'carr', 'spirit', 'slow', 'burning', 'performance', 'operate', 'front', 'powerful', 'indictment', 'third', 'world', 'abuse', 'pharmaceutical', 'company', 'widower', 'move', 'investigation', 'shatter', 'relationship']\n",
      "['could', 'exercise', 'mock', 'provincial', 'writer', 'director', 'angus', 'mclachlan', 'phil', 'morrison', 'north', 'carolina', 'side', 'meeting', 'opposite', 'humanise', 'demonise']\n",
      "['roughrider', 'persevere', 'director', 'serrill', 'take', 'time', 'find', 'real', 'heart', 'game']\n",
      "['character', 'drive', 'noir', 'violence', 'serve', 'higher', 'purpose', 'shock', 'titillate', 'audience']\n",
      "['howard', 'skillfully', 'deliver', 'primal', 'heart', 'pounding', 'satisfaction', 'promise', 'boxing', 'tale']\n",
      "['fluffy', 'outsider', 'meringue', 'downright', 'impossible', 'swallow']\n",
      "['fiercely', 'original', 'crime', 'anthology', 'hit', 'right', 'eyes', 'striking', 'blend', 'school', 'noir', 'newfangled', 'comicbook', 'visuals']\n",
      "['decleir', 'tough', 'vulnerability', 'bring', 'mind', 'classic', 'screen', 'heavy', 'cobb', 'richard', 'widmark', 'give', 'otherwise', 'standard', 'police', 'procedural', 'extraordinary', 'grace', 'power']\n",
      "['beyond', 'gates', 'tragedy', 'writ', 'large', 'indictment', 'international', 'community', 'nothing', 'stop']\n",
      "['lewis', 'astonishingly', 'elastic', 'discipline', 'performance', 'invest', 'keane', 'richly', 'ambiguous', 'heartbreaking', 'inner', 'life', 'peace', 'manage', 'form', 'tenuous', 'human', 'connection']\n",
      "['straight', 'craig', 'good', 'indeed', 'everything', 'performance', 'show', 'cunning', 'grace']\n",
      "['best', 'tape', 'serve', 'exploration', 'soldier', 'mentality', 'least', 'mentality', 'folks', 'volunteer', 'iraq']\n",
      "['spirit', 'hardboiled', 'american', 'western', '1950s', 'wend', 'moody', 'panoramic', 'chinese', 'chase', 'thriller']\n",
      "['much', 'glorify', 'sitcom', 'deftly', 'dramatize', 'conflict', 'desire', 'individuality', 'audience', 'applaud']\n",
      "['life', 'others', 'powerful', 'quiet', 'construct', 'hide', 'thought', 'secret', 'desire']\n",
      "['even', 'volver', 'sound', 'high', 'concept', 'know', 'almodóvar', 'smart', 'enough', 'rest', 'laugh', 'alone', 'extend', 'premise', 'dark', 'though', 'occasionally', 'tidy', 'psychological', 'territory']\n",
      "[]\n",
      "['rare', 'iranian', 'thoughtful', 'thought', 'provoke', 'also']\n",
      "['rich', 'point', 'comedy', 'arise', 'sense', 'woman', 'alike', 'trap', 'absurd', 'insoluble', 'predicament']\n",
      "['own', 'role', 'tuya', 'deliver', 'wide', 'range', 'performance', 'might', 'call', 'star', 'making', 'already', 'suggest', 'confidence', 'establish', 'star']\n",
      "['frank', 'slightly', 'scary', 'america', 'cherish', 'democratic', 'privilege', 'freedom', 'speech', 'welcome', 'long', 'anything', 'controversial']\n",
      "[]\n",
      "['eckhart', 'sure', 'hand', 'performance', 'hold', 'picture', 'together']\n",
      "['relax', 'meander', 'offer', 'valuable', 'insight', 'major', 'artist', 'think', 'works']\n",
      "['stunt', 'work', 'ridiculously', 'hyperactive', 'muscular', 'feat', 'absolute', 'confidence', 'expect', 'adrenalizing', 'time', 'movie', 'summer']\n",
      "['long', 'given', 'repetition', 'care', 'excite', 'unpredictable', 'inversion', 'language', 'powerful']\n",
      "['need', 'drag', 'kicking', 'screaming', 'mind']\n",
      "['imagine', 'march', 'penguin', 'soundtrack', 'maybe', 'inconvenient', 'truth', 'gore', 'best', 'donald', \"o'connor\", 'impression', 'quite', 'mash', 'intend', 'cooler', 'south', 'pole', 'skinny']\n",
      "['boozy', 'weekend', 'bender', 'action', 'flick', 'lovely', 'look', 'perhaps', 'little', 'silly']\n",
      "['difference', 'monster', 'house', 'animate', 'movie', 'little', 'thing', 'call', 'actually', 'trot', 'cheeky', 'character', 'spew', 'gratuitous', 'culture', 'reference']\n",
      "[]\n",
      "['take', 'juno', 'minutes', 'calm', 'joke', 'reflex', 'check', 'fall', 'love', 'thing']\n",
      "[]\n",
      "['devastate', 'exposure', 'america', 'iniquitous', 'healthcare', 'system', 'coolly', 'marshal', 'amusingly', 'detail', 'moore']\n",
      "['though', 'focus', 'occasionally', 'stray', 'emerge', 'fascinate', 'exploration', 'powerful', 'indictment', 'pressing', 'national', 'problem', 'moore', 'big', 'best', 'impassioned', 'work']\n",
      "['downey', 'perfect', 'alcoholic', 'wastrel', 'crime', 'reporter', 'paul', 'averi', 'mark', 'raffalo', 'dependable', 'david']\n",
      "[]\n",
      "['china', 'public', 'image', 'suffer', 'another', 'blow', 'yangtze', 'docu', 'mentary', 'chinese', 'canadian', 'yung', 'chang']\n",
      "['mangold', 'deliver', 'taut', 'modern', 'take', 'lesser', 'classic', 'preserve', 'high', 'noon', 'theme', 'right', 'thing', 'odds', 'inject', 'modern', 'pacing', 'urgency', 'without', 'going', 'overboard']\n",
      "['hard', 'fisted', 'punch', 'reality', 'base', 'filmmaker', 'experience', 'growing', 'england', 'midland', '1983']\n",
      "['assure', 'sharp', 'savage', 'jenkins', 'second', 'feature', 'length', 'never', 'know']\n",
      "['critical', 'mass', 'kind', 'flick', 'argue', 'subgenre', 'nerdsploitation']\n",
      "['subversively', 'hilarious', 'well', 'strangely', 'touching', 'feature', 'scene', 'homer', 'direct', 'across', 'landscape', 'twin', 'shadow', 'woman', 'mountainous', 'chest']\n",
      "[]\n",
      "['genuinely', 'sweet', 'uplifting', 'documentary', 'see', 'quite']\n",
      "['gere', 'prof', 'range', 'ageing', 'romantic', 'lead', 'multi', 'layer', 'tale', 'public', 'fraud', 'self', 'deception']\n",
      "['word', 'however', 'come', 'immediately', 'mind']\n",
      "['special', 'effects', 'suggest', 'narnia', 'romp', 'dark', 'sorrowful', 'landscape', 'explore', 'brilliantly', 'true', 'nuance', 'heartfelt', 'sincerity']\n",
      "['affect', 'inquest', 'nature', 'courage', 'mortality', 'grief', 'healing', 'power', 'faith']\n",
      "['tense', 'fascinate', 'worthwhile']\n",
      "['vicariously', 'participate', 'daily', 'ritual', 'find', 'ground', 'level', 'spiritual', 'worship', 'hard', 'recall', 'similar', 'documentary', 'bring', 'viewers', 'palpably', 'close', 'sacred', 'experience']\n",
      "[]\n",
      "['bone', 'weariness', 'pervade', 'every', 'inch', 'even', 'light', 'bleach', 'vitality']\n",
      "['something', 'smell', 'right', 'charlie', 'wilson', 'particularly', 'concern', 'specific', 'fact', 'left', 'telling', 'left', 'feel', 'compromise', 'dodgy']\n",
      "['decent', 'enough', 'contain', 'greene', 'sentimentalise', 'career']\n",
      "['exactly', 'happy', 'ending', 'least', 'acknowledgment', 'character', 'develop', 'long', 'credits', 'roll', 'sometimes', 'best', 'hope']\n",
      "['moody', 'thoughtful']\n",
      "['astonish', 'visual', 'indictment', 'inhumanity', 'mother', 'earth', 'see', 'documentary', 'prism', 'jennifer', 'baichwal']\n",
      "['burtynsky', 'call', 'whole', 'thinking', 'world', 'economy', 'ecology', 'though', 'never', 'say', 'wrong']\n",
      "['personal', 'ruin', 'certainly', 'echo', 'mickey', 'life', 'would', 'fair', 'playing', 'sure', 'rourke', 'performance', 'must', 'inform', 'past', 'different', 'well', 'peculiarly', 'powerful']\n",
      "['lovely', 'bloodsucker', 'flick', 'quite', 'transcend', 'well', 'chew', 'genre']\n",
      "[]\n",
      "['trouble', 'water', 'choppy', 'overly', 'long', 'times', 'almost', 'indecipherable', 'indelible']\n",
      "['time', 'place', 'situation', 'going', 'change', 'soon', 'director', 'smith', 'take', 'time', 'establish', 'people', 'landscape', 'striking', 'contrast', 'life', 'rich', 'poor']\n",
      "['director', 'garrone', 'messy', 'storytelling', 'compound', 'already', 'messy', 'history', 'powerful', 'filmmaker', 'though', 'fearless', 'know', 'body', 'bury', 'show']\n",
      "['chief', 'focus', 'bonding', 'woman', 'rely', 'support', 'really', 'appreciate', 'place', 'hair']\n",
      "['beirut', 'beauty', 'salon', 'caramel', 'take', 'place', 'woman', 'various', 'shape', 'size', 'age', 'background', 'gather', 'bond', 'gossip']\n",
      "['actor', 'city', 'experimental', 'fiction', 'nonfiction', 'hybrid', 'bring', 'existential', 'reality', 'short', 'touching', 'performance']\n",
      "['attract', 'older', 'moviegoer', 'curious', 'generation', 'represent', 'onscreen', 'come', 'naturally', 'doubtful', 'general', 'audience', 'incline']\n",
      "['poignant', 'lightly', 'philosophical', 'beautifully', 'perform']\n",
      "['though', 'filmmaking', 'playful', 'times', 'essentially', 'percent', 'message', 'percent', 'sometimes', 'message', 'important', 'enough', 'make', 'consideration', 'seem', 'irrelevant']\n"
     ]
    },
    {
     "name": "stdout",
     "output_type": "stream",
     "text": [
      "['look', 'milk', 'kindness', 'cinematic', 'world', 'dardennes', 'brother']\n",
      "['efficiently', 'grip', 'horror', 'romp']\n",
      "['vision', 'neither', 'grim', 'wallow', 'falsely', 'cheerful', 'compassionate', 'unblinking', 'help', 'admire', 'genuine', 'strength', 'character', 'accept', 'special', 'challenge']\n",
      "['auspicious', 'import', 'sign', 'bright', 'young', 'filmmaking', 'australia']\n",
      "['warmly', 'make', 'slightly', 'offbeat', 'friendly', 'devotion', 'also', 'happen', 'western', 'every', 'grizzle', 'wizened']\n",
      "['distinctive', 'promise', 'voice', 'come', 'info', 'bite', 'aesthetic', 'youtube', 'generation', 'antonio', 'campos', 'whose', 'debut', 'feature', 'afterschool', 'put', 'intrigue', 'spin', 'high', 'school', 'tragedy']\n",
      "['see', 'paris', \"t'aime\", 'york', 'story', 'know', 'rate', 'return', 'urban', 'omnibus', 'variable', 'expect', 'minor', 'pleasure', 'fine']\n",
      "['although', 'minor', 'work', 'chabrol', 'would', 'major', 'work', 'director', 'still', 'fascinate', 'even', 'flaw']\n",
      "['overall', 'impression', 'unbridle', 'enthusiasm', 'part', 'maker', 'predecessor', 'brave', 'universe', 'abrams', 'crew', 'explore']\n",
      "['nothing', 'else', 'afghan', 'star', 'offer', 'reminder', 'much', 'change', 'afghanistan', 'late', 'kabul', 'secular', 'orient', 'city', 'university', 'thrive', 'nightclub', 'scene', 'rise', 'taliban']\n",
      "['performance', 'outstanding', 'many', 'laugh', 'loud', 'moment', 'confirm', 'fact', 'laugh', 'loud']\n",
      "['straightforward', 'history', 'lesson', 'cast', 'daniel', 'ellsberg', 'leak', 'pentagon', 'papers', 'first', 'shot', 'bring', 'nixon', 'regime']\n",
      "['sense', 'writer', 'director', 'ramin', 'bahrani', 'mystify', 'america', 'abandonment', 'elderly', 'whiff', 'disapproval', 'treatment', 'theme', 'whiff']\n",
      "['left', 'impression', 'vivacious', 'pioneer', 'warm', 'mean', 'fuzzy']\n",
      "['beautifully', 'lensed', 'intelligently', 'craft']\n",
      "['divo', 'suppose', 'felt', 'indignation', 'suppose', 'also', 'felt', 'godfather', 'film', 'present', 'mesmerize', 'figure', 'simply', 'regard', 'astonish']\n",
      "['israeli', 'take', 'side', 'female', 'underscore', 'message', 'little', 'le', 'machismo', 'might', 'save', 'tree']\n",
      "['kind', 'confident', 'debut', 'radiate', 'personality', 'visual', 'flair', 'retain', 'quietly', 'fluttering', 'heart']\n",
      "['striking', 'imagery', 'year', 'haneke', 'easy', 'dissect', 'even', 'le', 'shake']\n",
      "['christian', 'mckay', 'eerily', 'accurate', 'rollick', 'impersonation', 'define', 'good', 'half', 'fireball', 'charisma', 'chutzpah', 'virtuosity', 'obstinacy']\n",
      "['much', 'happen', 'wisp', 'barely', 'minutes', 'much', 'necessary', 'finding', 'mood', 'letting', 'sneak', 'envelop', 'watcher']\n",
      "['matt', 'damon', 'share', 'something', 'excite', 'look', 'slow', 'burning', 'intelligence', 'leaf', 'feeling', 'unsettle', 'seduce']\n",
      "['bandslam', 'consistently', 'exceed', 'current', 'teen', 'flick', 'standard', 'thanks', 'snarky', 'humour', 'strong', 'musical', 'sequence', 'ability', 'convey', 'excitement', 'character', 'performing', 'form', 'friendship']\n",
      "['overall', 'delicious']\n",
      "['black', 'dynamite', 'stir', 'pleasant', 'memory']\n",
      "['usually', 'much', 'film', 'male', 'throw', 'violence', 'problem', 'come', 'intensely', 'mature', 'piece', 'work', 'feature', 'intensely', 'mature', 'performance', 'involve', 'bother']\n",
      "['poetry', 'artist', 'diverse', 'walker', 'evans', 'james', 'agee', 'harry', 'smith', 'found', 'raw', 'desperate', 'kind']\n",
      "['banksy', 'prof', 'talent', 'extend', 'beyond', 'spray', 'camera']\n",
      "['discover', 'contain', 'horrific', 'image', 'starvation', 'poverty', 'humiliation', 'intersperse', 'surreal', 'scene', 'well', 'dress', 'jew', 'enjoy', 'restaurant', 'dinner', 'urban', 'stroll']\n",
      "['desperation', 'fulfillment', 'anxiety', 'warmth', 'pain', 'contentment', 'come', 'together', 'darkly', 'splendid', 'another', 'year']\n",
      "['stops', 'track', 'listen', 'musician', 'play', 'offering', 'witness', 'travail', 'ingenuity']\n",
      "['fascinate', 'enlighten', 'look', 'dark', 'side', 'show', 'business', 'issue', 'come', 'part', 'decade']\n",
      "['assayas', 'return', 'hulk', 'seethe', 'intermittently', 'sublime', 'five', 'half', 'hour', 'manage', 'draw', 'together', 'elements', 'distinct', 'style']\n",
      "['central', 'relationship', 'break', 'enrapture', 'heart', 'benjamin', 'irene', 'slow', 'waltz', 'round', 'still', 'reach', 'touching', 'keeping', 'pulse', 'racing', 'ever', 'accelerate', 'pace']\n",
      "['denzel', 'washington', 'chris', 'pine', 'versus', 'runaway', 'train', 'enough', 'much', 'need']\n",
      "['downer']\n",
      "['take', 'gibney', 'almost', 'hours', 'build', 'argument', 'regard', 'airing', 'spitzer', 'laundry', 'watch', 'twice', 'length', 'inexplicable']\n",
      "['creaky', 'foreshadowing', 'problem', 'run', 'place', 'second', 'half', 'though', 'duvall', 'manage', 'pull', 'back', 'track', 'climactic', 'soliloquy', 'sober', 'silence', 'carnivalesque', 'funeral', 'party']\n",
      "['well', 'act', 'plodding']\n",
      "['despicable', 'darn', 'cute', 'know', 'cute', 'lofty', 'level', 'message', 'storytelling', 'entertain', 'do', 'correctly']\n",
      "['historical', 'backdrop', 'fascinate', 'important', 'part', 'pervasive', 'sense', 'director', 'philipp', 'stölzl', 'screenwriter', 'soft', 'pedal', 'much', 'possible', 'order', 'exalt', 'hero']\n",
      "['imagine', 'sparseness', 'classic', 'oaters', 'match', 'energy', 'martial', 'arts', 'movie', 'work']\n",
      "['mother', 'child', 'dutiful', 'overly', 'sincere', 'impression', 'easily', 'wash', 'away']\n",
      "['hard', 'imagine', 'fan', 'leaving', 'final', 'potter', 'deep', 'disappointment', 'satisfy', 'conclusion']\n",
      "['comedic', 'gold']\n",
      "['favorite', 'fozzie', 'bear', 'miss', 'piggy', 'original', 'grumpy', 'statler', 'waldorf', 'along', 'number', 'celebrity', 'amuse', 'cameo']\n",
      "['full', 'horror', 'bridesmaid', 'show', 'wiig', 'persuade', 'something', 'genuinely', 'love', 'sisterly', 'found', 'incredible', 'ordeal']\n",
      "['wholesome', 'educational', 'teach', 'right', 'wrong', 'bring', 'important', 'environmental', 'issue']\n",
      "['methodical', 'coolly', 'absorb', 'boardroom', 'thriller']\n",
      "['give', 'inflate', 'price', 'admission', 'theater', 'screen', 'along', 'come', 'worth', 'money', 'fact', 'make', 'puss', 'boot', 'stand', 'imaginative', 'staging']\n",
      "['skillfully', 'make', 'performance', 'convincingly', 'real', 'hardy', 'sensational', 'reach', 'cathartic', 'winning', 'finish', 'achieve', 'surprise', 'compassion', 'honesty']\n",
      "['lifetime', 'character', 'make', 'fascinate', 'documentary', 'subject', 'producer', 'director', 'garbus', 'bobby', 'fischer', 'world']\n",
      "['trapero', 'stylistic', 'showmanship', 'eventually', 'pay', 'bravura', 'single', 'take', 'climax', 'camera', 'navigate', 'physical', 'emotional', 'space', 'fatalistic', 'urgency', 'despair', 'noir']\n",
      "['massive', 'amount', 'artistry', 'go', 'cinematography', 'lighting', 'design', 'make', 'sumptuous', 'pleasing', 'behold', 'tangle']\n",
      "['found', 'dreaming', 'days', 'willis', 'would', 'take', 'rest', 'hard', 'character', 'cameo', 'unexpected', 'depth', 'pathos', 'pulp', 'fiction', 'nobody', 'fool', 'others', 'cling', 'stoic', 'longevity', 'shoot', 'people']\n",
      "['haneke', 'give', 'amour', 'love', 'compassionate', 'powerful', 'intelligent', 'treat', 'protagonist', 'audience', 'respect']\n",
      "['travesty', 'encourage', 'military', 'culture', 'blame', 'victim', 'policy', 'direct', 'soldier', 'refer', 'complaint', 'command', 'officer', 'typically', 'result', 'action', 'even', 'reprisal', 'speaking']\n",
      "['monsieur', 'lazhar', 'good', 'really', 'good']\n",
      "['feat', 'lewis', 'near', 'thing', '21st', 'century', 'biopic', 'seance']\n",
      "['miserable', 'individual', 'tend', 'make', 'interest', 'subject', 'matter', 'would', 'biography', 'without', 'willfully', 'eccentric', 'lead']\n",
      "['think', 'clint', 'eastwood', 'changeling', 'multiply', 'power', 'reality']\n",
      "['beverly', 'dollarhide', 'nicholas', 'mother', 'say', 'period', 'disappearance', 'main', 'goal', 'life', 'time', 'think', 'apparently', 'filmmaker', 'take']\n",
      "['layton', 'dazzle', 'excite', 'edge', 'seat', 'experience', 'superior', 'hollywood', 'mystery', 'likely', 'long', 'time']\n",
      "['fan', 'ursula', 'meier', 'last', 'strikingly', 'offbeat', 'domestic', 'drama', 'home', 'auteur', 'auteur', 'emulation', 'comedown', 'still', 'stirring', 'work']\n",
      "['inspirational', 'academic', 'story', 'much', 'better']\n",
      "['take', 'rough', 'material', 'life', 'transform', 'universal', 'urgent', 'offering', 'firsthand', 'witness', 'event', 'often', 'portray', 'distant', 'impossible', 'understand']\n"
     ]
    },
    {
     "name": "stdout",
     "output_type": "stream",
     "text": [
      "['burton', 'best', 'since', '1994', 'wood', 'even', '1990', 'edward', 'scissorhands']\n",
      "['native', 'brazilian', 'doubt', 'pick', 'allusion', 'outsider', 'neighbor', 'sound', 'beautiful', 'scarily', 'assure', 'debut', 'collection', 'small', 'moment', 'pointillist', 'wonder']\n",
      "['writer', 'director', 'kleber', 'mendonça', 'filho', 'arrest', 'energetically', 'oblique', 'debut']\n",
      "['base', 'chronicle', 'clear', 'trank', 'right', 'stuff', 'move', 'budget', 'fantasy', 'movie', 'want', 'ways', 'already', 'beat', 'studio', 'game']\n",
      "['filmmaker', 'say', 'already', 'dreaming', 'sequel', 'need', 'hurry', 'whatever', 'treasure', 'pirate', 'well', 'bury']\n",
      "['enormously', 'entertain', 'endlessly', 'quotable', 'perfectly', 'cast', 'pack', 'full', 'rich', 'acting', 'ensemble', 'cast', 'year', 'result', 'ever', 'slightly', 'hollow']\n",
      "['place', 'somehow', 'retain', 'sweet', 'tonal', 'cohesiveness']\n",
      "['third', 'feature', 'gift', 'physical', 'comedian', 'abel', 'gordon', 'romy', 'gracefully', 'build', 'distinctive', 'brand', 'burlesque', 'humour']\n",
      "['casual', 'fan', 'twist', 'chair', 'uncomfortably', 'wishing', 'roadie', 'would', 'walk', 'wipe', 'neil', 'young', 'hards', 'cherish', 'spittle']\n",
      "['passionate', 'latin', 'band', 'music', 'make', 'anyone', 'grow', 'listening', 'vibrant', 'rhythm']\n",
      "['unlike', 'film', 'become', 'critic', 'darling', 'impossible', 'pretension', 'edgy', 'think', 'hide', 'subtext']\n",
      "['many', 'series', 'subject', 'seem', 'settling', 'bliss', 'commit', 'foreclose', 'possibility', 'come', 'alongside']\n",
      "['certainly', 'move', 'suppress', 'know', 'bath', 'smiling', 'madness']\n",
      "['ultimately', 'tough', 'worth', 'seeing', 'gritty', 'honesty', 'strong', 'cast']\n",
      "['decent', 'piece', 'work', 'fussy', 'good']\n",
      "['hilarious', 'touching', 'france', 'lubricate', 'juice', 'allow', 'jean', 'godard', 'bande', 'part', 'slip', 'smoothly', 'street', 'paris']\n",
      "['fairly', 'close', 'great', 'lovely', 'young', 'people', 'formula', 'picture', 'original', 'truthful', 'move', 'phenomenon', 'young', 'particular', 'character', 'specific', 'vivid', 'actual', 'people']\n",
      "['lead', 'contribute', 'fresh', 'genuine', 'performance', 'might', 'musty', 'academic', 'exercise', 'gain', 'tension', 'cohen', 'deft', 'juxtapose', 'vocal', 'narration', 'character', 'detail', 'majestic', 'artwork']\n",
      "['exhilarate', 'sadness', 'amount', 'cinematic', 'poetry']\n",
      "['another', 'inkling', 'style', 'limitation', 'perhaps', 'responsible', 'lower', 'visibility', 'stateside', 'compare', 'countryman', 'john', 'wong']\n",
      "['reich', 'funny', 'poignant', 'passionate']\n",
      "['theme', 'numerous', 'vary', 'concern', 'drug', 'surveillance', 'disease', 'alienation', 'impeccable', 'albeit', 'deeply', 'bury', 'logic']\n",
      "['even', 'minutes', 'longer', 'might', 'constitute', 'koch', 'overload', 'luckily', 'barsky', 'know', 'enough', 'enough', 'even', 'subject']\n",
      "['first', 'writing', 'oscar', 'winning', 'screenplay', 'descendants', 'looking', 'encore', 'tough', 'faxon', 'rash', 'leverage', 'make', 'leap', 'direct', 'small', 'budget', 'bighearted', 'coming', 'comedy']\n",
      "['unexpected', 'irresistible', 'cross', 'meatball', 'storm', 'back', 'best', 'summer']\n",
      "['thriller', 'hitchcock', 'mould', 'side', 'effects', 'great', 'character', 'well', 'act', 'without', 'entirely', 'likeable', 'make', 'jeopardy', 'enjoyable', 'putting', 'clinical', 'remove']\n",
      "['vasyukov', 'herzog', 'unite', 'fascination', 'particular', 'thrive', 'harsh', 'conditions', 'earth']\n",
      "['cinema', 'always', 'best', 'place', 'time', 'travel', 'rarely', 'anchor', 'reality', 'richard', 'linklater', 'boyhood']\n",
      "['simple', 'shiver', 'inducing', 'tale', 'auspicious', 'feature', 'debut', 'australian', 'writer', 'director', 'jennifer', 'kent', 'make', 'better', 'horror', 'movie', 'recent', 'times']\n",
      "['inspire', 'documentary', 'critic', 'anyone', 'love', 'cinema']\n",
      "['feeding', 'sweet', 'buffet', 'sate', 'cinephiles', 'want', 'call', 'front', 'desk', 'extend', 'stay']\n",
      "['thick', 'summer', 'hollywood', 'busy', 'crank', 'cookie', 'cutter', 'superhero', 'movie', 'giant', 'robot', 'sequel', 'along', 'come', 'snowpiercer', 'show', 'everyone', 'do']\n",
      "['audience', 'intuitively', 'search', 'someone', 'root', 'garca', 'gloria', 'practically', 'every', 'frame', 'fit', 'bill', 'perfectly']\n",
      "['might', 'engross', 'smart', 'daring', 'ape', 'ever']\n",
      "['captain', 'america', 'winter', 'soldier', 'neatly', 'entertainingly', 'put', 'motion', 'change', 'marvel', 'universe', 'still', 'stick', 'charm', 'easy', 'feat', 'hero']\n",
      "['batra', 'character', 'delight', 'mumbai', 'infuse', 'intense', 'desi', 'flavour', 'inhabit', 'part', 'world']\n",
      "['funny', 'happy', 'movie', 'ever', 'see', 'early', 'adolescent', 'girl', 'wayward', 'fitful', 'joyousness']\n",
      "['must', 'anyone', 'love', 'theater', 'acting', 'especially', 'individual', 'elaine', 'stritch', 'unafraid', 'bare', 'soul', 'gain', 'insight', 'complicate', 'essence', 'human', 'condition']\n",
      "['overall', 'success', 'hang', 'cumberbatch', 'date', 'fine', 'performance', 'screen']\n",
      "['origin', 'ripe', 'innocence', 'loss', 'anime', 'inflect', 'treat', 'hark', 'back', 'disney', 'hearted', 'heritage', 'even', 'look', 'forward', 'towards', 'world', 'innovation']\n",
      "['writer', 'director', 'john', 'michael', 'mcdonagh', 'paint', 'rich', 'portrait', 'priestly', 'life', 'life', 'general', 'concentrate', 'details']\n",
      "['shot', 'lurid', 'colors', 'drizzle', 'squelchy', 'synthesizer', 'score', 'adam', 'wingard', 'bloody', 'thriller', 'enamor', 'john', 'carpenter', 'might', 'well', 'passing', 'mash', 'note', 'social', 'study']\n",
      "['progressively', 'mount', 'tension', 'understanding', 'gradually', 'realize', 'homosexuality', 'inextricable', 'central', 'metaphor', 'compromise', 'vision']\n",
      "['intermittently', 'interest', 'occasionally', 'compel', 'history', 'feminist', 'movement', 'early', 'days']\n",
      "['close', 'curtain', 'see', 'express', 'something', 'plight', 'artist', 'internal', 'exile', 'house', 'caspian', 'home', 'also', 'prison', 'represent', 'entire', 'country', 'spiritual', 'incarceration']\n",
      "['hard', 'important', 'witness']\n",
      "['enjoyable', 'visually', 'stun', 'romp', 'scenic', 'alaskan', 'wilderness', 'small', 'family', 'bear']\n",
      "['machine', 'roar', 'full', 'throttle', 'solid', 'hours']\n",
      "['force', 'awaken', 'abrams', 'begin', 'important', 'reclamation', 'project', 'time', 'complete', 'erasure', 'cultural', 'memory', 'phantom', 'menace', 'sequel']\n",
      "['rogue', 'nation', 'terrific', 'best', 'action', 'summer', 'without', 'title', 'also', 'arguably', 'best', 'mission', 'impossible', 'impressive', 'fifth', 'installment', 'series']\n",
      "['christopher', 'guest', 'widow', 'peak', 'shadow', 'depict', 'suppose', 'zealand', 'documentary', 'board', 'go', 'gruesomely', 'hilariously', 'awry']\n",
      "['gorgeously', 'make', 'piece', 'taking', 'place', 'tunnel', 'underneath', 'border', 'convey', 'chaos', 'without', 'ever', 'looking', 'incoherent', 'throbbing', 'jóhann', 'jóhannsson', 'score', 'sound', 'things', 'horizon']\n",
      "['emerge', 'earth', 'self', 'mock', 'savvy', 'philosopher', 'combination', 'madame', 'pompadour', 'borscht', 'belt', 'standup', 'iris', 'glasses', 'recall', 'george', 'burns']\n",
      "['define', 'damage', 'sexuality', 'quality', 'make', 'picture', 'revolutionary', 'insight', 'writing', 'direction', 'bracing', 'humanity', 'playing', 'make', 'great']\n",
      "['portmanteau', 'film', 'common', 'usually', 'successful', 'argentine', 'writer', 'director', 'damián', 'szifron', 'fashion', 'collection', 'payback', 'story', 'visual', 'flair', 'wicked', 'sense', 'humour']\n",
      "['imagine', 'courtroom', 'drama', 'particular', 'place', 'left', 'along', 'come', 'chaitanya', 'tamhane', 'fiendishly', 'clever', 'debut', 'feature']\n",
      "['taxi', 'slight', 'loose', 'exude', 'vivacity', 'making', 'much', 'eloquent', 'protest', 'solemn', 'introvert', 'close', 'curtain']\n",
      "['view', 'perspective', 'young', 'bedouin', 'theeb', 'presage', 'treacherous', 'partitioning', 'arab', 'land', 'great', 'well', 'terrible', 'echo', 'colonialism', 'continue', 'plague', 'today']\n",
      "['rarely', 'documentary', 'powerfully', 'polemic', 'gapingly', 'spectacular', 'sherpa']\n",
      "['present', 'portrait', 'start', 'economist', 'discover', 'vocation', 'travel', 'world', 'immerse', 'self', 'impose', 'task', 'encounter', 'extreme', 'human', 'behaviour']\n",
      "['steve', 'job', 'actor', 'performance', 'outweigh', 'every', 'area', 'negative', 'take', 'worth']\n",
      "['transcendental', 'meditation', 'damned', 'nice']\n",
      "['great', 'idea', 'exist', 'marvel', 'machine', 'working', 'remorselessly', 'massive', 'back', 'catalogue']\n",
      "['actor', 'terrific', 'though', 'writer', 'editor', 'director', 'brett', 'haley', 'settle', 'little']\n",
      "['though', 'ultimately', 'bloody', 'gory', 'affair', 'full', 'sinister', 'citizenry', 'country', 'conspiracy', 'revengeful', 'revenant', 'make', 'washere', 'stay', 'burn', 'brain', 'special', 'brand', 'irrationality', 'much', 'resolve', 'perpetuate']\n",
      "['marnie', 'lack', 'densely', 'mystical', 'immersive', 'quality', 'ghibli', 'best', 'feature', 'characteristically', 'exquisite', 'hand', 'draw', 'animation', 'sensitivity', 'precarious', 'friable', 'quality', 'adolescent', 'girl', 'self', 'worth']\n",
      "['finding', 'dory', 'enjoyable', 'right', 'even', 'powerful', 'sense', 'déjà', 'keep', 'approaching', 'pinnacle', 'disney', 'pixar', 'collaboration']\n",
      "['real', 'captain', 'america', 'civil', 'sense', 'inevitability', 'acceptance', 'sometimes', 'things', 'change', 'change']\n"
     ]
    },
    {
     "name": "stdout",
     "output_type": "stream",
     "text": [
      "['mouse', 'house', 'sumptuous', 'looking', 'film', 'animation', 'standpoint']\n",
      "['strictly', 'love', 'eye', 'problem', 'pic', 'scenic', 'wanderlust']\n",
      "['doctor', 'strange', 'weird', 'marvel', 'good', 'thing', 'effects', 'impressive', 'character', 'development', 'insufficient']\n",
      "['wailing', 'succeed', 'combining', 'mood', 'deep', 'unease', 'visceral', 'gore', 'buddy', 'comedy', 'hallucinogenic', 'horror', 'trope', 'recipe', 'yield', 'among', 'things', 'atypical', 'exorcism', 'helm', 'intense', 'korean', 'shaman']\n",
      "['hard', 'press', 'find', 'lavishly', 'stage', 'stage', 'chunk', 'pulp', 'nonsense']\n",
      "['nothing', 'love', 'witch', 'good', 'thing', 'seriously', 'doubt', 'captivate', 'marvelous', 'murderous', 'whimsy', 'assuredly']\n",
      "['honestly', 'know', 'expect', 'do', 'exactly', 'sure', 'happen']\n",
      "['filmmaker', 'jeff', 'nichols', 'take', 'shelter', 'recreate', 'world', 'live', 'richard', 'mildred', 'love', 'feature', 'make', 'authenticity', 'laudable', 'restraint']\n",
      "['beatles', 'already', 'see', 'stuff', 'diehard', 'speak', 'probably', 'find', 'focusing', 'howard', 'stranger', 'choice']\n",
      "['shock', 'value', 'explicit', 'gore', 'horror', 'kind', 'linger', 'still', 'last', 'presume', 'reasonably', 'morbid', 'idea']\n",
      "['saulnier', 'everything', 'right', 'cast', 'music', 'editing', 'lead', 'clobber', 'fate', 'character', 'least', 'expect']\n",
      "['power', 'clay', 'tweel', 'tear', 'jerking', 'documentary', 'base', 'gleason', 'video', 'diary', 'come', 'honesty', 'humour', 'gleason', 'present', 'gradual', 'loss', 'control', 'bodily', 'function']\n",
      "['sport', 'theme', 'film', 'heroic', 'inspirational', 'spin', 'proceedings', 'cheer', 'shed', 'tears', 'move', 'gleason']\n",
      "['pete', 'dragon', 'conjure', 'primordial', 'power', 'fantasy']\n",
      "['lane', 'gift', 'finding', 'unexpected', 'familiar', 'right', 'narrative', 'structure', 'however', 'eccentric', 'tell']\n",
      "['scene', 'battle', 'harrow', 'ever', 'screen', 'midst', 'utter', 'carnage', 'chaos']\n",
      "['unnerve', 'likely', 'give', 'viewers', 'bitter', 'food', 'thought', 'zero', 'days', 'gibney', 'important', 'work']\n",
      "['credit', 'grow', 'drama', 'first', 'superhero', 'second', 'maybe', 'give', 'point', 'effort', 'maybe', 'talking', 'subset', 'film', 'lock', 'formula']\n",
      "['sick', 'charm']\n",
      "['charm', 'funny', 'coming', 'year', 'peter', 'parker', 'power', 'handle', 'time', 'frustrate', 'show']\n",
      "['disney', 'marvel', 'learn', 'le', 'instead', 'subscribe', 'lego', 'mentality', 'everything', 'awesome', 'matter']\n",
      "['world', 'need', 'right']\n",
      "['picture', 'prof', 'construct', 'comedy', 'material', 'long', 'respects', 'subject', 'matter', 'refrain', 'gimmicky', 'order', 'edgy', 'cool']\n",
      "['paint', 'picture', 'kinshasa', 'well']\n",
      "['fairly', 'straightforward', 'post', 'apocalyptic', 'tightly', 'focus', 'human', 'torment', 'suffuse', 'surprise', 'undeniably', 'atmospheric', 'sights', 'sound']\n",
      "['dark', 'hour', 'wright', 'charge', 'blustery', 'framework', 'pull', 'audience', 'distant', 'political', 'landscape', 'approach', 'also', 'limiting', 'nearly', 'weary']\n",
      "['american', 'make', 'smart', 'nervy', 'modern', 'entertainment', 'make', 'energy', 'style', 'fine', 'sense', 'humor', 'keep', 'amuse', 'gradually', 'almost', 'imperceptibly', 'laughter', 'start', 'stick', 'throat']\n",
      "['nehama', 'grow', 'orthodox', 'jerusalem', 'community', 'say', 'goal', 'tell', 'moderate', 'people', 'force', 'deal', 'growing', 'religious', 'extremism', 'woman', 'balcony', 'definitely']\n",
      "['rare', 'find', 'film', 'child', 'kind', 'maturity', 'attention', 'technique']\n",
      "['expand', 'upon', 'kaurismki', 'central', 'mode', 'observation', 'deliver', 'trenchant', 'upset', 'truth', 'immigration', 'experience', 'side', 'seeking', 'asylum']\n",
      "['john', 'chon', 'show', 'definite', 'talent', 'drawing', 'strong', 'performance', 'actor', 'well', 'marshal', 'expressive', 'imagery', 'enhance', 'roger', 'suen', 'lyrical', 'music', 'score']\n",
      "['basically', 'function', 'primer', 'philosophy', 'year', 'artist', 'complete', 'king', 'size', 'helping', 'poetic', 'touch', 'usual', 'visual', 'fetish', 'make', 'work', 'instantly', 'recognizable']\n",
      "['entertain', 'conventional', 'anecdotal', 'structure', 'slightly', 'cutesy', 'tone', 'minutes', 'appeal', 'public', 'happily', 'spend', 'half', 'reading', 'sunday', 'times']\n",
      "['black', 'panther', 'live', 'hype']\n",
      "['alfonso', 'cuaron', 'roma', 'give', 'much', 'vignette', 'every', 'individual', 'composition', 'fact', 'second', 'viewing', 'become', 'pleasurable', 'necessity', 'rather', 'filmgoing', 'luxury']\n",
      "['favourite', 'haunt', 'reminder', 'limit', 'control']\n",
      "['gosling', 'play', 'everything', 'close', 'chest', 'invite', 'unfolding', 'drama', 'wonderfully', 'empathetic', 'performance']\n",
      "['leaf', 'sense', 'several', 'strong', 'movie', 'half', 'bury', 'beneath', 'mish', 'mash', 'poignantly', 'heart', 'rend', 'outlandishly', 'farcical', 'salvage', 'mediocrity', 'sensational', 'turn']\n",
      "['worthwhile', 'dialogue', 'linger', 'mind', 'imagery']\n",
      "['director', 'writing', 'partner', 'jason', 'schwartzman', 'roman', 'coppola', 'kunichi', 'nomura', 'infuse', 'imaginary', 'world', 'winning', 'deadpan', 'humor']\n",
      "['effortlessly', 'segue', 'good', 'tragedy', 'full', 'blow', 'conspiracy', 'even', 'reenactment', 'carefully', 'economically', 'use']\n",
      "['mcqueen', 'make', 'case', 'subject', 'artist', 'whose', 'clay', 'clothing', 'also', 'despite', 'giving', 'short', 'shrift', 'psychoanalysis', 'remind', 'everything', 'might', 'want', 'know', 'artist', 'found']\n",
      "['weird', 'moment', 'almost', 'hypnotic', 'transcendence', 'center', 'torture', 'lonely', 'character', 'perfectly', 'embody', 'ethan', 'hawke']\n",
      "['machina', '2015', 'garland', 'creative', 'élan', 'come', 'merging', 'sleek', 'conceptual', 'messy', 'juicy', 'drama']\n",
      "['racism', 'gentrification', 'police', 'brutality', 'start', 'culture', 'corporate', 'branding', 'social', 'medium', 'justice', 'system', 'blindspotting', 'eager', 'take', 'style', 'succeed', 'often']\n",
      "['gore', 'kaleidoscopic']\n",
      "['ralph', 'break', 'internet', 'would', 'soulless', 'nuanced', 'necessary', 'friendship']\n",
      "['shinobu', 'terajima', 'performance', 'especially', 'match', 'by[kaho', 'minami', 'hard', 'sigh', 'world', 'weariness', 'nothing', 'le', 'transfix']\n",
      "['outlook', 'le', 'hopeful', 'nevertheless', 'suggest', 'still', 'time', 'learn', 'mistake']\n",
      "['ban', 'talking', 'theater', 'briefly', 'lift', 'anyone', 'resist', 'shouting', 'poppet', 'test', 'days', 'almost', 'everyone']\n",
      "['hard', 'make', 'grip', 'character', 'found', 'voice', 'mulubwa']\n",
      "['weak', 'platitude', 'deliver', 'dialogue', 'take', 'refresh', 'look', 'queer', 'relationship']\n",
      "['1985', 'feel', 'miss', 'minor', 'classic', 'decade', 'precede', 'rise', 'call', 'queer', 'cinema']\n",
      "['first', 'half', 'pleasantly', 'episodic', 'purringly', 'tense', 'latter', 'half', 'alice', 'search', 'hacker', 'clever', 'inventive', 'wonderfully', 'evocative']\n",
      "['modest', 'handsome', 'production', 'lovingly', 'photograph', 'giles', 'nuttgens', 'mostly', 'film', 'hungary', 'period', 'trappings', 'seem', 'authentic', 'every', 'respect']\n",
      "['build', 'upon', 'wittily', 'verbose', 'script', 'deliver', 'laugh', 'loud', 'line', 'year', 'allege', 'comedy', 'knife', 'retain', 'beating', 'human', 'heart', 'dagger', 'regularly', 'plunge']\n",
      "['even', 'central', 'character', 'envelop', 'doom', 'peele', 'provide', 'haunt', 'image', 'black', 'family', 'unsuspecting', 'frighteningly', 'unfuckwithable']\n",
      "['charm', 'portrait', 'family', 'struggle', 'beautiful', 'performance', 'unexpected', 'welcome', 'ending']\n",
      "['best', 'sear', 'pinpoint', 'many', 'little', 'talk', 'aspect', 'divorce', 'seem', 'least', 'significant', 'hurt']\n",
      "['lack', 'graphic', 'oomph', 'sometimes', 'rescue', 'marvel', 'franchise', 'terminal', 'fatigue', 'captain', 'marvel', 'another', 'origin', 'another', 'superhero']\n",
      "['suffice', 'watching', 'bird', 'passage', 'critic', 'could', 'stop', 'thinking', 'martin', 'scorsese', 'casino', 'lucid', 'kinetic', 'dissection', 'annihilation', 'subculture', 'hands', 'global', 'capitalism']\n",
      "['harrow', 'restore', 'responsiveness']\n",
      "['watching', 'felt', 'would', 'cowardice', 'look', 'away', 'waad', 'showing', 'trust', 'propaganda', 'ask', 'mother', 'bear', 'witness']\n",
      "['taut', 'grip', 'documentary', 'young', 'woman', 'dream']\n",
      "['droll', 'absurdity', 'nordic', 'cinema', 'acquire', 'terrorism', 'edge', 'woman', 'fill', 'duality', 'singular', 'performance']\n",
      "['really', 'well', 'act', 'character', 'study']\n",
      "['quiet', 'slow', 'burn', 'stays']\n",
      "['make', 'want', 'read', 'book', 'full', 'success', 'front']\n"
     ]
    },
    {
     "name": "stdout",
     "output_type": "stream",
     "text": [
      "['throughout', 'remain', 'participant', 'take', 'stock', 'private', 'career', 'success', 'well', 'perceive', 'failure']\n",
      "['speedy', 'portrait', 'surrealist', 'young', 'discreet', 'charm']\n",
      "['risky', 'original', 'never', 'see', 'jojo', 'rabbit']\n",
      "['startlingly', 'accomplish', 'debut', 'feature', 'dacosta', 'eyes', 'ear', 'documentary', 'opioid', 'crisis', 'everywhere', 'near', 'hospital', 'away', 'heart', 'drama', 'stirring']\n",
      "['costume', 'exquisite', 'fight', 'scene', 'imaginative']\n",
      "['detective', 'plot', 'shaggy', 'never', 'fully', 'resolve', 'implication', 'resonate', 'distant', 'drum']\n",
      "['hours', 'whip', 'impression', 'left', 'khodorkovsky', 'instinctive', 'politician', 'never', 'quite', 'let', 'gibney', 'contemporary', 'russia', 'infinitely', 'complex', 'ideological', 'crack']\n",
      "['oscar', 'winning', 'documentarian', 'back', 'firing', 'cylinder', 'reconnecting', 'political', 'muse', 'result', 'easily', 'best', 'documentary', 'years']\n",
      "['neatness', 'tempt', 'dismiss', 'heartwarming', 'quality', 'packet', 'kind', 'think']\n",
      "['whannell', 'brilliant', 'distract', 'amuse', 'knowing', 'dialogue', 'sibling', 'rivalrous', 'architect', 'trendy', 'waiter', 'irksomely', 'urbane', 'death', 'come', 'least', 'expect']\n",
      "['year', 'best', 'romance']\n",
      "['visibilizes', 'history', 'invisibilized', 'community', 'country']\n",
      "['timely', 'documentary', 'already', 'need', 'update']\n",
      "['viscerally', 'emotional', 'documentary']\n",
      "['adventure', 'world', 'building', 'onward', 'utterly', 'delightful', 'especially', 'effective', 'balance', 'playfulness', 'depth']\n",
      "['sweet', 'understate', 'masterpiece', 'simply', 'tell', 'human', 'connection']\n",
      "['scrummy', 'omelette', 'dish', 'menu', 'ingredient', 'unorthodox', 'come', 'together', 'uproarious', 'dubliner', 'would', 'absolute']\n",
      "['power', 'struggle', 'ritual', 'practice', 'collective', 'within', 'microcosm', 'society', 'house', 'oppression', 'state', 'powerful', 'demonstration', 'transport', 'liberate', 'power', 'narrative']\n",
      "['madden', 'grip', 'portrait', 'imperialism', 'works']\n",
      "['end', 'friendship', 'addiction', 'power', 'also', 'cost', 'throughout', 'spine', 'rich', 'layer', 'complicate', 'friendship', 'people']\n",
      "['want', 'spoil', 'second', 'bacurau', 'best', 'filmic', 'distillation', 'impend', '21st', 'century', 'sense', 'doom', 'concentrate', 'vision', 'apocalypse', 'somehow', 'manage', 'strike', 'hopeful', 'note']\n",
      "['anyone', 'push', 'emma', 'woodhouse', 'le', 'straiten', 'woman', 'capture', 'childish', 'gambino', 'palm', 'tree', 'polyblend']\n"
     ]
    }
   ],
   "source": [
    "import random\n",
    "text_data = []\n",
    "for review in df_2['review']:\n",
    "    tokens = prepare_text_for_lda(review)\n",
    "    if random.random() > .99:\n",
    "        print(tokens)\n",
    "    text_data.append(tokens)"
   ]
  },
  {
   "cell_type": "code",
   "execution_count": 18,
   "metadata": {},
   "outputs": [
    {
     "name": "stderr",
     "output_type": "stream",
     "text": [
      "/Users/moksha/opt/anaconda3/lib/python3.8/site-packages/gensim/similarities/__init__.py:15: UserWarning: The gensim.similarities.levenshtein submodule is disabled, because the optional Levenshtein package <https://pypi.org/project/python-Levenshtein/> is unavailable. Install Levenhstein (e.g. `pip install python-Levenshtein`) to suppress this warning.\n",
      "  warnings.warn(msg)\n"
     ]
    }
   ],
   "source": [
    "from gensim import corpora\n",
    "dictionary = corpora.Dictionary(text_data)"
   ]
  },
  {
   "cell_type": "code",
   "execution_count": 19,
   "metadata": {},
   "outputs": [],
   "source": [
    "corpus = [dictionary.doc2bow(text) for text in text_data]\n"
   ]
  },
  {
   "cell_type": "code",
   "execution_count": 20,
   "metadata": {},
   "outputs": [],
   "source": [
    "import pickle\n",
    "pickle.dump(corpus, open('corpus.pkl', 'wb'))\n",
    "dictionary.save('dictionary.gensim')"
   ]
  },
  {
   "cell_type": "code",
   "execution_count": 21,
   "metadata": {},
   "outputs": [],
   "source": [
    "import gensim\n",
    "NUM_TOPICS = 15\n",
    "ldamodel = gensim.models.ldamodel.LdaModel(corpus, num_topics = NUM_TOPICS, id2word=dictionary, passes=15)\n",
    "ldamodel.save('model10.gensim')"
   ]
  },
  {
   "cell_type": "code",
   "execution_count": 26,
   "metadata": {},
   "outputs": [
    {
     "name": "stdout",
     "output_type": "stream",
     "text": [
      "(0, '0.019*\"make\" + 0.019*\"world\" + 0.018*\"really\" + 0.017*\"life\" + 0.017*\"know\"')\n",
      "(1, '0.036*\"much\" + 0.025*\"good\" + 0.021*\"make\" + 0.019*\"would\" + 0.018*\"better\"')\n",
      "(2, '0.030*\"horror\" + 0.018*\"direct\" + 0.017*\"thriller\" + 0.016*\"engage\" + 0.013*\"make\"')\n",
      "(3, '0.044*\"funny\" + 0.029*\"entertain\" + 0.025*\"think\" + 0.020*\"sometimes\" + 0.018*\"call\"')\n",
      "(4, '0.015*\"political\" + 0.013*\"performance\" + 0.012*\"make\" + 0.012*\"place\" + 0.012*\"feel\"')\n",
      "(5, '0.025*\"worth\" + 0.023*\"complex\" + 0.023*\"compel\" + 0.020*\"present\" + 0.017*\"hand\"')\n",
      "(6, '0.030*\"life\" + 0.022*\"times\" + 0.022*\"drama\" + 0.022*\"beautiful\" + 0.021*\"powerful\"')\n",
      "(7, '0.029*\"scene\" + 0.025*\"shot\" + 0.020*\"every\" + 0.019*\"beautifully\" + 0.012*\"camera\"')\n",
      "(8, '0.023*\"self\" + 0.016*\"deeply\" + 0.011*\"soul\" + 0.011*\"affect\" + 0.010*\"deep\"')\n",
      "(9, '0.048*\"best\" + 0.033*\"documentary\" + 0.030*\"year\" + 0.022*\"film\" + 0.022*\"ever\"')\n",
      "(10, '0.025*\"tale\" + 0.024*\"style\" + 0.017*\"child\" + 0.014*\"strange\" + 0.013*\"simply\"')\n",
      "(11, '0.038*\"director\" + 0.021*\"history\" + 0.021*\"cinema\" + 0.020*\"writer\" + 0.019*\"debut\"')\n",
      "(12, '0.026*\"right\" + 0.021*\"piece\" + 0.018*\"work\" + 0.018*\"tell\" + 0.016*\"performance\"')\n",
      "(13, '0.022*\"charm\" + 0.017*\"inspire\" + 0.016*\"life\" + 0.015*\"love\" + 0.015*\"back\"')\n",
      "(14, '0.023*\"comedy\" + 0.015*\"thrill\" + 0.014*\"action\" + 0.013*\"night\" + 0.013*\"form\"')\n"
     ]
    }
   ],
   "source": [
    "topics = ldamodel.print_topics(num_words = 5)\n",
    "for topic in topics:\n",
    "    print(topic)"
   ]
  },
  {
   "cell_type": "code",
   "execution_count": 71,
   "metadata": {},
   "outputs": [],
   "source": [
    "topics_2 = []\n",
    "for i in df['summary']:\n",
    "    new_doc = prepare_text_for_lda(i)\n",
    "    new_doc_bow = dictionary.doc2bow(new_doc)\n",
    "    topics_2.append(max([ k[::-1] for k in ldamodel.get_document_topics(new_doc_bow)])[1])"
   ]
  },
  {
   "cell_type": "code",
   "execution_count": 72,
   "metadata": {},
   "outputs": [
    {
     "data": {
      "text/html": [
       "<div>\n",
       "<style scoped>\n",
       "    .dataframe tbody tr th:only-of-type {\n",
       "        vertical-align: middle;\n",
       "    }\n",
       "\n",
       "    .dataframe tbody tr th {\n",
       "        vertical-align: top;\n",
       "    }\n",
       "\n",
       "    .dataframe thead th {\n",
       "        text-align: right;\n",
       "    }\n",
       "</style>\n",
       "<table border=\"1\" class=\"dataframe\">\n",
       "  <thead>\n",
       "    <tr style=\"text-align: right;\">\n",
       "      <th></th>\n",
       "      <th>movie</th>\n",
       "      <th>topic_number</th>\n",
       "    </tr>\n",
       "  </thead>\n",
       "  <tbody>\n",
       "    <tr>\n",
       "      <th>0</th>\n",
       "      <td>chicken_run</td>\n",
       "      <td>0</td>\n",
       "    </tr>\n",
       "    <tr>\n",
       "      <th>1</th>\n",
       "      <td>the_taste_of_others</td>\n",
       "      <td>11</td>\n",
       "    </tr>\n",
       "    <tr>\n",
       "      <th>2</th>\n",
       "      <td>yi_yi</td>\n",
       "      <td>3</td>\n",
       "    </tr>\n",
       "    <tr>\n",
       "      <th>3</th>\n",
       "      <td>memento</td>\n",
       "      <td>2</td>\n",
       "    </tr>\n",
       "    <tr>\n",
       "      <th>4</th>\n",
       "      <td>the_life_and_times_of_hank_greenberg</td>\n",
       "      <td>3</td>\n",
       "    </tr>\n",
       "    <tr>\n",
       "      <th>...</th>\n",
       "      <td>...</td>\n",
       "      <td>...</td>\n",
       "    </tr>\n",
       "    <tr>\n",
       "      <th>2095</th>\n",
       "      <td>emma_2020</td>\n",
       "      <td>12</td>\n",
       "    </tr>\n",
       "    <tr>\n",
       "      <th>2096</th>\n",
       "      <td>yes_god_yes</td>\n",
       "      <td>1</td>\n",
       "    </tr>\n",
       "    <tr>\n",
       "      <th>2097</th>\n",
       "      <td>blood_on_her_name</td>\n",
       "      <td>6</td>\n",
       "    </tr>\n",
       "    <tr>\n",
       "      <th>2098</th>\n",
       "      <td>sylvies_love</td>\n",
       "      <td>5</td>\n",
       "    </tr>\n",
       "    <tr>\n",
       "      <th>2099</th>\n",
       "      <td>mank</td>\n",
       "      <td>3</td>\n",
       "    </tr>\n",
       "  </tbody>\n",
       "</table>\n",
       "<p>2100 rows × 2 columns</p>\n",
       "</div>"
      ],
      "text/plain": [
       "                                     movie  topic_number\n",
       "0                              chicken_run             0\n",
       "1                      the_taste_of_others            11\n",
       "2                                    yi_yi             3\n",
       "3                                  memento             2\n",
       "4     the_life_and_times_of_hank_greenberg             3\n",
       "...                                    ...           ...\n",
       "2095                             emma_2020            12\n",
       "2096                           yes_god_yes             1\n",
       "2097                     blood_on_her_name             6\n",
       "2098                          sylvies_love             5\n",
       "2099                                  mank             3\n",
       "\n",
       "[2100 rows x 2 columns]"
      ]
     },
     "execution_count": 72,
     "metadata": {},
     "output_type": "execute_result"
    }
   ],
   "source": [
    "pd.DataFrame({'movie':df['movie'], 'topic_number': topics_2})"
   ]
  },
  {
   "cell_type": "code",
   "execution_count": 73,
   "metadata": {},
   "outputs": [],
   "source": [
    "topic_vals = []\n",
    "for i in topics_2:\n",
    "    topic_vals.append(topics[i])"
   ]
  },
  {
   "cell_type": "code",
   "execution_count": 75,
   "metadata": {},
   "outputs": [],
   "source": [
    "pd.DataFrame({'movie':df['movie'], 'topic_number': topics_2, 'topic_terms':topic_vals}).to_csv('modelled_topics.csv')"
   ]
  },
  {
   "cell_type": "code",
   "execution_count": 66,
   "metadata": {},
   "outputs": [
    {
     "data": {
      "text/plain": [
       "(0.17104715, 0)"
      ]
     },
     "execution_count": 66,
     "metadata": {},
     "output_type": "execute_result"
    }
   ],
   "source": [
    "max([ k[::-1] for k in ldamodel.get_document_topics(new_doc_bow)])"
   ]
  },
  {
   "cell_type": "code",
   "execution_count": 63,
   "metadata": {},
   "outputs": [
    {
     "data": {
      "text/plain": [
       "(0.17104091, 0)"
      ]
     },
     "execution_count": 63,
     "metadata": {},
     "output_type": "execute_result"
    }
   ],
   "source": [
    "ldamodel.get_document_topics(new_doc_bow)[0][::-1]"
   ]
  },
  {
   "cell_type": "code",
   "execution_count": 56,
   "metadata": {},
   "outputs": [
    {
     "name": "stdout",
     "output_type": "stream",
     "text": [
      "Collecting pyLDAvis\n",
      "  Downloading pyLDAvis-3.3.1.tar.gz (1.7 MB)\n",
      "\u001b[K     |████████████████████████████████| 1.7 MB 2.3 MB/s eta 0:00:01\n",
      "\u001b[?25h  Installing build dependencies ... \u001b[?25ldone\n",
      "\u001b[?25h  Getting requirements to build wheel ... \u001b[?25ldone\n",
      "\u001b[?25h  Installing backend dependencies ... \u001b[?25ldone\n",
      "\u001b[?25h    Preparing wheel metadata ... \u001b[?25ldone\n",
      "\u001b[?25hRequirement already satisfied: sklearn in /Users/moksha/opt/anaconda3/lib/python3.8/site-packages (from pyLDAvis) (0.0)\n",
      "Requirement already satisfied: numexpr in /Users/moksha/opt/anaconda3/lib/python3.8/site-packages (from pyLDAvis) (2.7.1)\n",
      "Requirement already satisfied: gensim in /Users/moksha/opt/anaconda3/lib/python3.8/site-packages (from pyLDAvis) (4.0.1)\n",
      "Collecting funcy\n",
      "  Downloading funcy-1.16-py2.py3-none-any.whl (32 kB)\n",
      "Requirement already satisfied: jinja2 in /Users/moksha/opt/anaconda3/lib/python3.8/site-packages (from pyLDAvis) (2.11.2)\n",
      "Requirement already satisfied: scikit-learn in /Users/moksha/opt/anaconda3/lib/python3.8/site-packages (from pyLDAvis) (0.23.1)\n",
      "Requirement already satisfied: scipy in /Users/moksha/opt/anaconda3/lib/python3.8/site-packages (from pyLDAvis) (1.5.0)\n",
      "Requirement already satisfied: future in /Users/moksha/opt/anaconda3/lib/python3.8/site-packages (from pyLDAvis) (0.18.2)\n",
      "Requirement already satisfied: setuptools in /Users/moksha/opt/anaconda3/lib/python3.8/site-packages (from pyLDAvis) (50.3.0)\n",
      "Collecting numpy>=1.20.0\n",
      "  Downloading numpy-1.21.0-cp38-cp38-macosx_10_9_x86_64.whl (16.9 MB)\n",
      "\u001b[K     |████████████████████████████████| 16.9 MB 1.5 MB/s eta 0:00:01\n",
      "\u001b[?25hRequirement already satisfied: joblib in /Users/moksha/opt/anaconda3/lib/python3.8/site-packages (from pyLDAvis) (0.16.0)\n",
      "Collecting pandas>=1.2.0\n",
      "  Downloading pandas-1.2.5-cp38-cp38-macosx_10_9_x86_64.whl (10.5 MB)\n",
      "\u001b[K     |████████████████████████████████| 10.5 MB 4.4 MB/s eta 0:00:01     |███████████████████████████▎    | 9.0 MB 11.8 MB/s eta 0:00:01\n",
      "\u001b[?25hRequirement already satisfied: smart-open>=1.8.1 in /Users/moksha/opt/anaconda3/lib/python3.8/site-packages (from gensim->pyLDAvis) (5.1.0)\n",
      "Requirement already satisfied: MarkupSafe>=0.23 in /Users/moksha/opt/anaconda3/lib/python3.8/site-packages (from jinja2->pyLDAvis) (1.1.1)\n",
      "Requirement already satisfied: threadpoolctl>=2.0.0 in /Users/moksha/opt/anaconda3/lib/python3.8/site-packages (from scikit-learn->pyLDAvis) (2.1.0)\n",
      "Requirement already satisfied: pytz>=2017.3 in /Users/moksha/opt/anaconda3/lib/python3.8/site-packages (from pandas>=1.2.0->pyLDAvis) (2020.1)\n",
      "Requirement already satisfied: python-dateutil>=2.7.3 in /Users/moksha/opt/anaconda3/lib/python3.8/site-packages (from pandas>=1.2.0->pyLDAvis) (2.8.1)\n",
      "Requirement already satisfied: six>=1.5 in /Users/moksha/opt/anaconda3/lib/python3.8/site-packages (from python-dateutil>=2.7.3->pandas>=1.2.0->pyLDAvis) (1.15.0)\n",
      "Building wheels for collected packages: pyLDAvis\n",
      "  Building wheel for pyLDAvis (PEP 517) ... \u001b[?25ldone\n",
      "\u001b[?25h  Created wheel for pyLDAvis: filename=pyLDAvis-3.3.1-py2.py3-none-any.whl size=136897 sha256=70cf9b3f9e1e9d769be4eb049f9920a3c1b592eee5e6fc03002b5e4951aa690d\n",
      "  Stored in directory: /Users/moksha/Library/Caches/pip/wheels/90/61/ec/9dbe9efc3acf9c4e37ba70fbbcc3f3a0ebd121060aa593181a\n",
      "Successfully built pyLDAvis\n",
      "\u001b[31mERROR: tensorflow 2.4.1 has requirement numpy~=1.19.2, but you'll have numpy 1.21.0 which is incompatible.\u001b[0m\n",
      "Installing collected packages: funcy, numpy, pandas, pyLDAvis\n",
      "  Attempting uninstall: numpy\n",
      "    Found existing installation: numpy 1.19.5\n",
      "    Uninstalling numpy-1.19.5:\n",
      "      Successfully uninstalled numpy-1.19.5\n",
      "  Attempting uninstall: pandas\n",
      "    Found existing installation: pandas 1.0.5\n",
      "    Uninstalling pandas-1.0.5:\n",
      "      Successfully uninstalled pandas-1.0.5\n",
      "Successfully installed funcy-1.16 numpy-1.21.0 pandas-1.2.5 pyLDAvis-3.3.1\n",
      "Note: you may need to restart the kernel to use updated packages.\n"
     ]
    }
   ],
   "source": [
    "pip install pyLDAvis\n"
   ]
  },
  {
   "cell_type": "code",
   "execution_count": 65,
   "metadata": {},
   "outputs": [],
   "source": [
    "import pyLDAvis.gensim_models"
   ]
  },
  {
   "cell_type": "code",
   "execution_count": 82,
   "metadata": {},
   "outputs": [],
   "source": [
    "import pyLDAvis.gensim_models as pyldavis"
   ]
  },
  {
   "cell_type": "code",
   "execution_count": 87,
   "metadata": {},
   "outputs": [],
   "source": [
    "lda10 = gensim.models.ldamodel.LdaModel.load('model10.gensim')"
   ]
  },
  {
   "cell_type": "code",
   "execution_count": 89,
   "metadata": {},
   "outputs": [
    {
     "ename": "ValueError",
     "evalue": "The truth value of an array with more than one element is ambiguous. Use a.any() or a.all()",
     "output_type": "error",
     "traceback": [
      "\u001b[0;31m---------------------------------------------------------------------------\u001b[0m",
      "\u001b[0;31mValueError\u001b[0m                                Traceback (most recent call last)",
      "\u001b[0;32m<ipython-input-89-34352c68efb3>\u001b[0m in \u001b[0;36m<module>\u001b[0;34m\u001b[0m\n\u001b[1;32m      1\u001b[0m \u001b[0mdictionary\u001b[0m \u001b[0;34m=\u001b[0m \u001b[0mgensim\u001b[0m\u001b[0;34m.\u001b[0m\u001b[0mcorpora\u001b[0m\u001b[0;34m.\u001b[0m\u001b[0mDictionary\u001b[0m\u001b[0;34m.\u001b[0m\u001b[0mload\u001b[0m\u001b[0;34m(\u001b[0m\u001b[0;34m'dictionary.gensim'\u001b[0m\u001b[0;34m)\u001b[0m\u001b[0;34m\u001b[0m\u001b[0;34m\u001b[0m\u001b[0m\n\u001b[0;32m----> 2\u001b[0;31m \u001b[0mlda_display\u001b[0m \u001b[0;34m=\u001b[0m \u001b[0mpyldavis\u001b[0m\u001b[0;34m.\u001b[0m\u001b[0mprepare\u001b[0m\u001b[0;34m(\u001b[0m\u001b[0mlda10\u001b[0m\u001b[0;34m,\u001b[0m \u001b[0mcorpus\u001b[0m\u001b[0;34m,\u001b[0m \u001b[0mdictionary\u001b[0m\u001b[0;34m)\u001b[0m\u001b[0;34m\u001b[0m\u001b[0;34m\u001b[0m\u001b[0m\n\u001b[0m\u001b[1;32m      3\u001b[0m \u001b[0mpyLDAvis\u001b[0m\u001b[0;34m.\u001b[0m\u001b[0mshow\u001b[0m\u001b[0;34m(\u001b[0m\u001b[0mlda_display\u001b[0m\u001b[0;34m)\u001b[0m\u001b[0;34m\u001b[0m\u001b[0;34m\u001b[0m\u001b[0m\n",
      "\u001b[0;32m~/opt/anaconda3/lib/python3.8/site-packages/pyLDAvis/gensim_models.py\u001b[0m in \u001b[0;36mprepare\u001b[0;34m(topic_model, corpus, dictionary, doc_topic_dist, **kwargs)\u001b[0m\n\u001b[1;32m    121\u001b[0m     \"\"\"\n\u001b[1;32m    122\u001b[0m     \u001b[0mopts\u001b[0m \u001b[0;34m=\u001b[0m \u001b[0mfp\u001b[0m\u001b[0;34m.\u001b[0m\u001b[0mmerge\u001b[0m\u001b[0;34m(\u001b[0m\u001b[0m_extract_data\u001b[0m\u001b[0;34m(\u001b[0m\u001b[0mtopic_model\u001b[0m\u001b[0;34m,\u001b[0m \u001b[0mcorpus\u001b[0m\u001b[0;34m,\u001b[0m \u001b[0mdictionary\u001b[0m\u001b[0;34m,\u001b[0m \u001b[0mdoc_topic_dist\u001b[0m\u001b[0;34m)\u001b[0m\u001b[0;34m,\u001b[0m \u001b[0mkwargs\u001b[0m\u001b[0;34m)\u001b[0m\u001b[0;34m\u001b[0m\u001b[0;34m\u001b[0m\u001b[0m\n\u001b[0;32m--> 123\u001b[0;31m     \u001b[0;32mreturn\u001b[0m \u001b[0mpyLDAvis\u001b[0m\u001b[0;34m.\u001b[0m\u001b[0mprepare\u001b[0m\u001b[0;34m(\u001b[0m\u001b[0;34m**\u001b[0m\u001b[0mopts\u001b[0m\u001b[0;34m)\u001b[0m\u001b[0;34m\u001b[0m\u001b[0;34m\u001b[0m\u001b[0m\n\u001b[0m",
      "\u001b[0;32m~/opt/anaconda3/lib/python3.8/site-packages/pyLDAvis/_prepare.py\u001b[0m in \u001b[0;36mprepare\u001b[0;34m(topic_term_dists, doc_topic_dists, doc_lengths, vocab, term_frequency, R, lambda_step, mds, n_jobs, plot_opts, sort_topics, start_index)\u001b[0m\n\u001b[1;32m    416\u001b[0m     \u001b[0mR\u001b[0m \u001b[0;34m=\u001b[0m \u001b[0mmin\u001b[0m\u001b[0;34m(\u001b[0m\u001b[0mR\u001b[0m\u001b[0;34m,\u001b[0m \u001b[0mlen\u001b[0m\u001b[0;34m(\u001b[0m\u001b[0mvocab\u001b[0m\u001b[0;34m)\u001b[0m\u001b[0;34m)\u001b[0m\u001b[0;34m\u001b[0m\u001b[0;34m\u001b[0m\u001b[0m\n\u001b[1;32m    417\u001b[0m \u001b[0;34m\u001b[0m\u001b[0m\n\u001b[0;32m--> 418\u001b[0;31m     \u001b[0mtopic_freq\u001b[0m \u001b[0;34m=\u001b[0m \u001b[0mdoc_topic_dists\u001b[0m\u001b[0;34m.\u001b[0m\u001b[0mmul\u001b[0m\u001b[0;34m(\u001b[0m\u001b[0mdoc_lengths\u001b[0m\u001b[0;34m,\u001b[0m \u001b[0maxis\u001b[0m\u001b[0;34m=\u001b[0m\u001b[0;34m\"index\"\u001b[0m\u001b[0;34m)\u001b[0m\u001b[0;34m.\u001b[0m\u001b[0msum\u001b[0m\u001b[0;34m(\u001b[0m\u001b[0;34m)\u001b[0m\u001b[0;34m\u001b[0m\u001b[0;34m\u001b[0m\u001b[0m\n\u001b[0m\u001b[1;32m    419\u001b[0m     \u001b[0;31m# topic_freq       = np.dot(doc_topic_dists.T, doc_lengths)\u001b[0m\u001b[0;34m\u001b[0m\u001b[0;34m\u001b[0m\u001b[0;34m\u001b[0m\u001b[0m\n\u001b[1;32m    420\u001b[0m     \u001b[0;32mif\u001b[0m \u001b[0;34m(\u001b[0m\u001b[0msort_topics\u001b[0m\u001b[0;34m)\u001b[0m\u001b[0;34m:\u001b[0m\u001b[0;34m\u001b[0m\u001b[0;34m\u001b[0m\u001b[0m\n",
      "\u001b[0;32m~/opt/anaconda3/lib/python3.8/site-packages/pandas/core/ops/__init__.py\u001b[0m in \u001b[0;36mf\u001b[0;34m(self, other, axis, level, fill_value)\u001b[0m\n",
      "\u001b[0;32m~/opt/anaconda3/lib/python3.8/site-packages/pandas/core/ops/__init__.py\u001b[0m in \u001b[0;36m_combine_series_frame\u001b[0;34m(self, other, func, fill_value, axis, level)\u001b[0m\n",
      "\u001b[0;32m~/opt/anaconda3/lib/python3.8/site-packages/pandas/core/frame.py\u001b[0m in \u001b[0;36m_combine_match_index\u001b[0;34m(self, other, func)\u001b[0m\n\u001b[1;32m   5315\u001b[0m         \u001b[0mDataFrame\u001b[0m\u001b[0;34m.\u001b[0m\u001b[0mdrop_duplicates\u001b[0m \u001b[0;34m:\u001b[0m \u001b[0mRemove\u001b[0m \u001b[0mduplicate\u001b[0m \u001b[0mvalues\u001b[0m \u001b[0;32mfrom\u001b[0m \u001b[0mDataFrame\u001b[0m\u001b[0;34m.\u001b[0m\u001b[0;34m\u001b[0m\u001b[0;34m\u001b[0m\u001b[0m\n\u001b[1;32m   5316\u001b[0m \u001b[0;34m\u001b[0m\u001b[0m\n\u001b[0;32m-> 5317\u001b[0;31m         \u001b[0mExamples\u001b[0m\u001b[0;34m\u001b[0m\u001b[0;34m\u001b[0m\u001b[0m\n\u001b[0m\u001b[1;32m   5318\u001b[0m         \u001b[0;34m-\u001b[0m\u001b[0;34m-\u001b[0m\u001b[0;34m-\u001b[0m\u001b[0;34m-\u001b[0m\u001b[0;34m-\u001b[0m\u001b[0;34m-\u001b[0m\u001b[0;34m-\u001b[0m\u001b[0;34m-\u001b[0m\u001b[0;34m\u001b[0m\u001b[0;34m\u001b[0m\u001b[0m\n\u001b[1;32m   5319\u001b[0m         \u001b[0mConsider\u001b[0m \u001b[0mdataset\u001b[0m \u001b[0mcontaining\u001b[0m \u001b[0mramen\u001b[0m \u001b[0mrating\u001b[0m\u001b[0;34m.\u001b[0m\u001b[0;34m\u001b[0m\u001b[0;34m\u001b[0m\u001b[0m\n",
      "\u001b[0;32m~/opt/anaconda3/lib/python3.8/site-packages/pandas/core/ops/array_ops.py\u001b[0m in \u001b[0;36mna_op\u001b[0;34m(x, y)\u001b[0m\n\u001b[1;32m    119\u001b[0m     \"\"\"\n\u001b[1;32m    120\u001b[0m     \u001b[0mReturn\u001b[0m \u001b[0mthe\u001b[0m \u001b[0mresult\u001b[0m \u001b[0mof\u001b[0m \u001b[0mevaluating\u001b[0m \u001b[0mop\u001b[0m \u001b[0mon\u001b[0m \u001b[0mthe\u001b[0m \u001b[0mpassed\u001b[0m \u001b[0;32min\u001b[0m \u001b[0mvalues\u001b[0m\u001b[0;34m.\u001b[0m\u001b[0;34m\u001b[0m\u001b[0;34m\u001b[0m\u001b[0m\n\u001b[0;32m--> 121\u001b[0;31m \u001b[0;34m\u001b[0m\u001b[0m\n\u001b[0m\u001b[1;32m    122\u001b[0m     \u001b[0mIf\u001b[0m \u001b[0mnative\u001b[0m \u001b[0mtypes\u001b[0m \u001b[0mare\u001b[0m \u001b[0;32mnot\u001b[0m \u001b[0mcompatible\u001b[0m\u001b[0;34m,\u001b[0m \u001b[0;32mtry\u001b[0m \u001b[0mcoercion\u001b[0m \u001b[0mto\u001b[0m \u001b[0mobject\u001b[0m \u001b[0mdtype\u001b[0m\u001b[0;34m.\u001b[0m\u001b[0;34m\u001b[0m\u001b[0;34m\u001b[0m\u001b[0m\n\u001b[1;32m    123\u001b[0m \u001b[0;34m\u001b[0m\u001b[0m\n",
      "\u001b[0;32m~/opt/anaconda3/lib/python3.8/site-packages/pandas/core/ops/array_ops.py\u001b[0m in \u001b[0;36mna_arithmetic_op\u001b[0;34m(left, right, op, str_rep)\u001b[0m\n\u001b[1;32m    147\u001b[0m             \u001b[0;31m#  will handle complex numbers incorrectly, see GH#32047\u001b[0m\u001b[0;34m\u001b[0m\u001b[0;34m\u001b[0m\u001b[0;34m\u001b[0m\u001b[0m\n\u001b[1;32m    148\u001b[0m             \u001b[0;32mraise\u001b[0m\u001b[0;34m\u001b[0m\u001b[0;34m\u001b[0m\u001b[0m\n\u001b[0;32m--> 149\u001b[0;31m         \u001b[0mresult\u001b[0m \u001b[0;34m=\u001b[0m \u001b[0m_masked_arith_op\u001b[0m\u001b[0;34m(\u001b[0m\u001b[0mleft\u001b[0m\u001b[0;34m,\u001b[0m \u001b[0mright\u001b[0m\u001b[0;34m,\u001b[0m \u001b[0mop\u001b[0m\u001b[0;34m)\u001b[0m\u001b[0;34m\u001b[0m\u001b[0;34m\u001b[0m\u001b[0m\n\u001b[0m\u001b[1;32m    150\u001b[0m \u001b[0;34m\u001b[0m\u001b[0m\n\u001b[1;32m    151\u001b[0m     \u001b[0;32mif\u001b[0m \u001b[0mis_cmp\u001b[0m \u001b[0;32mand\u001b[0m \u001b[0;34m(\u001b[0m\u001b[0mis_scalar\u001b[0m\u001b[0;34m(\u001b[0m\u001b[0mresult\u001b[0m\u001b[0;34m)\u001b[0m \u001b[0;32mor\u001b[0m \u001b[0mresult\u001b[0m \u001b[0;32mis\u001b[0m \u001b[0mNotImplemented\u001b[0m\u001b[0;34m)\u001b[0m\u001b[0;34m:\u001b[0m\u001b[0;34m\u001b[0m\u001b[0;34m\u001b[0m\u001b[0m\n",
      "\u001b[0;32m~/opt/anaconda3/lib/python3.8/site-packages/pandas/core/computation/expressions.py\u001b[0m in \u001b[0;36mevaluate\u001b[0;34m(op, a, b, use_numexpr)\u001b[0m\n\u001b[1;32m    230\u001b[0m     \u001b[0mop_str\u001b[0m \u001b[0;34m=\u001b[0m \u001b[0m_op_str_mapping\u001b[0m\u001b[0;34m[\u001b[0m\u001b[0mop\u001b[0m\u001b[0;34m]\u001b[0m\u001b[0;34m\u001b[0m\u001b[0;34m\u001b[0m\u001b[0m\n\u001b[1;32m    231\u001b[0m     \u001b[0;32mif\u001b[0m \u001b[0mop_str\u001b[0m \u001b[0;32mis\u001b[0m \u001b[0;32mnot\u001b[0m \u001b[0;32mNone\u001b[0m\u001b[0;34m:\u001b[0m\u001b[0;34m\u001b[0m\u001b[0;34m\u001b[0m\u001b[0m\n\u001b[0;32m--> 232\u001b[0;31m         \u001b[0muse_numexpr\u001b[0m \u001b[0;34m=\u001b[0m \u001b[0muse_numexpr\u001b[0m \u001b[0;32mand\u001b[0m \u001b[0m_bool_arith_check\u001b[0m\u001b[0;34m(\u001b[0m\u001b[0mop_str\u001b[0m\u001b[0;34m,\u001b[0m \u001b[0ma\u001b[0m\u001b[0;34m,\u001b[0m \u001b[0mb\u001b[0m\u001b[0;34m)\u001b[0m\u001b[0;34m\u001b[0m\u001b[0;34m\u001b[0m\u001b[0m\n\u001b[0m\u001b[1;32m    233\u001b[0m         \u001b[0;32mif\u001b[0m \u001b[0muse_numexpr\u001b[0m\u001b[0;34m:\u001b[0m\u001b[0;34m\u001b[0m\u001b[0;34m\u001b[0m\u001b[0m\n\u001b[1;32m    234\u001b[0m             \u001b[0;31m# error: \"None\" not callable\u001b[0m\u001b[0;34m\u001b[0m\u001b[0;34m\u001b[0m\u001b[0;34m\u001b[0m\u001b[0m\n",
      "\u001b[0;31mValueError\u001b[0m: The truth value of an array with more than one element is ambiguous. Use a.any() or a.all()"
     ]
    }
   ],
   "source": [
    "dictionary = gensim.corpora.Dictionary.load('dictionary.gensim')\n",
    "lda_display = pyldavis.prepare(lda10, corpus, dictionary)\n",
    "pyLDAvis.show(lda_display)"
   ]
  },
  {
   "cell_type": "code",
   "execution_count": 70,
   "metadata": {},
   "outputs": [
    {
     "data": {
      "text/plain": [
       "<gensim.corpora.dictionary.Dictionary at 0x1476fd670>"
      ]
     },
     "execution_count": 70,
     "metadata": {},
     "output_type": "execute_result"
    }
   ],
   "source": [
    "dictionary"
   ]
  },
  {
   "cell_type": "code",
   "execution_count": 92,
   "metadata": {},
   "outputs": [
    {
     "ename": "ValueError",
     "evalue": "The truth value of an array with more than one element is ambiguous. Use a.any() or a.all()",
     "output_type": "error",
     "traceback": [
      "\u001b[0;31m---------------------------------------------------------------------------\u001b[0m",
      "\u001b[0;31mValueError\u001b[0m                                Traceback (most recent call last)",
      "\u001b[0;32m<ipython-input-92-87d0766aaa30>\u001b[0m in \u001b[0;36m<module>\u001b[0;34m\u001b[0m\n\u001b[1;32m      3\u001b[0m \u001b[0mlda\u001b[0m \u001b[0;34m=\u001b[0m \u001b[0mgensim\u001b[0m\u001b[0;34m.\u001b[0m\u001b[0mmodels\u001b[0m\u001b[0;34m.\u001b[0m\u001b[0mldamodel\u001b[0m\u001b[0;34m.\u001b[0m\u001b[0mLdaModel\u001b[0m\u001b[0;34m.\u001b[0m\u001b[0mload\u001b[0m\u001b[0;34m(\u001b[0m\u001b[0;34m'model10.gensim'\u001b[0m\u001b[0;34m)\u001b[0m\u001b[0;34m\u001b[0m\u001b[0;34m\u001b[0m\u001b[0m\n\u001b[1;32m      4\u001b[0m \u001b[0mpyLDAvis\u001b[0m\u001b[0;34m.\u001b[0m\u001b[0menable_notebook\u001b[0m\u001b[0;34m(\u001b[0m\u001b[0;34m)\u001b[0m\u001b[0;34m\u001b[0m\u001b[0;34m\u001b[0m\u001b[0m\n\u001b[0;32m----> 5\u001b[0;31m \u001b[0mlda_display\u001b[0m \u001b[0;34m=\u001b[0m \u001b[0mpyLDAvis\u001b[0m\u001b[0;34m.\u001b[0m\u001b[0mgensim_models\u001b[0m\u001b[0;34m.\u001b[0m\u001b[0mprepare\u001b[0m\u001b[0;34m(\u001b[0m\u001b[0mlda\u001b[0m\u001b[0;34m,\u001b[0m \u001b[0mcorpus\u001b[0m\u001b[0;34m,\u001b[0m \u001b[0mdictionary\u001b[0m\u001b[0;34m)\u001b[0m\u001b[0;34m\u001b[0m\u001b[0;34m\u001b[0m\u001b[0m\n\u001b[0m\u001b[1;32m      6\u001b[0m \u001b[0mpyLDAvis\u001b[0m\u001b[0;34m.\u001b[0m\u001b[0mdisplay\u001b[0m\u001b[0;34m(\u001b[0m\u001b[0mlda_display\u001b[0m\u001b[0;34m)\u001b[0m\u001b[0;34m\u001b[0m\u001b[0;34m\u001b[0m\u001b[0m\n",
      "\u001b[0;32m~/opt/anaconda3/lib/python3.8/site-packages/pyLDAvis/gensim_models.py\u001b[0m in \u001b[0;36mprepare\u001b[0;34m(topic_model, corpus, dictionary, doc_topic_dist, **kwargs)\u001b[0m\n\u001b[1;32m    121\u001b[0m     \"\"\"\n\u001b[1;32m    122\u001b[0m     \u001b[0mopts\u001b[0m \u001b[0;34m=\u001b[0m \u001b[0mfp\u001b[0m\u001b[0;34m.\u001b[0m\u001b[0mmerge\u001b[0m\u001b[0;34m(\u001b[0m\u001b[0m_extract_data\u001b[0m\u001b[0;34m(\u001b[0m\u001b[0mtopic_model\u001b[0m\u001b[0;34m,\u001b[0m \u001b[0mcorpus\u001b[0m\u001b[0;34m,\u001b[0m \u001b[0mdictionary\u001b[0m\u001b[0;34m,\u001b[0m \u001b[0mdoc_topic_dist\u001b[0m\u001b[0;34m)\u001b[0m\u001b[0;34m,\u001b[0m \u001b[0mkwargs\u001b[0m\u001b[0;34m)\u001b[0m\u001b[0;34m\u001b[0m\u001b[0;34m\u001b[0m\u001b[0m\n\u001b[0;32m--> 123\u001b[0;31m     \u001b[0;32mreturn\u001b[0m \u001b[0mpyLDAvis\u001b[0m\u001b[0;34m.\u001b[0m\u001b[0mprepare\u001b[0m\u001b[0;34m(\u001b[0m\u001b[0;34m**\u001b[0m\u001b[0mopts\u001b[0m\u001b[0;34m)\u001b[0m\u001b[0;34m\u001b[0m\u001b[0;34m\u001b[0m\u001b[0m\n\u001b[0m",
      "\u001b[0;32m~/opt/anaconda3/lib/python3.8/site-packages/pyLDAvis/_prepare.py\u001b[0m in \u001b[0;36mprepare\u001b[0;34m(topic_term_dists, doc_topic_dists, doc_lengths, vocab, term_frequency, R, lambda_step, mds, n_jobs, plot_opts, sort_topics, start_index)\u001b[0m\n\u001b[1;32m    416\u001b[0m     \u001b[0mR\u001b[0m \u001b[0;34m=\u001b[0m \u001b[0mmin\u001b[0m\u001b[0;34m(\u001b[0m\u001b[0mR\u001b[0m\u001b[0;34m,\u001b[0m \u001b[0mlen\u001b[0m\u001b[0;34m(\u001b[0m\u001b[0mvocab\u001b[0m\u001b[0;34m)\u001b[0m\u001b[0;34m)\u001b[0m\u001b[0;34m\u001b[0m\u001b[0;34m\u001b[0m\u001b[0m\n\u001b[1;32m    417\u001b[0m \u001b[0;34m\u001b[0m\u001b[0m\n\u001b[0;32m--> 418\u001b[0;31m     \u001b[0mtopic_freq\u001b[0m \u001b[0;34m=\u001b[0m \u001b[0mdoc_topic_dists\u001b[0m\u001b[0;34m.\u001b[0m\u001b[0mmul\u001b[0m\u001b[0;34m(\u001b[0m\u001b[0mdoc_lengths\u001b[0m\u001b[0;34m,\u001b[0m \u001b[0maxis\u001b[0m\u001b[0;34m=\u001b[0m\u001b[0;34m\"index\"\u001b[0m\u001b[0;34m)\u001b[0m\u001b[0;34m.\u001b[0m\u001b[0msum\u001b[0m\u001b[0;34m(\u001b[0m\u001b[0;34m)\u001b[0m\u001b[0;34m\u001b[0m\u001b[0;34m\u001b[0m\u001b[0m\n\u001b[0m\u001b[1;32m    419\u001b[0m     \u001b[0;31m# topic_freq       = np.dot(doc_topic_dists.T, doc_lengths)\u001b[0m\u001b[0;34m\u001b[0m\u001b[0;34m\u001b[0m\u001b[0;34m\u001b[0m\u001b[0m\n\u001b[1;32m    420\u001b[0m     \u001b[0;32mif\u001b[0m \u001b[0;34m(\u001b[0m\u001b[0msort_topics\u001b[0m\u001b[0;34m)\u001b[0m\u001b[0;34m:\u001b[0m\u001b[0;34m\u001b[0m\u001b[0;34m\u001b[0m\u001b[0m\n",
      "\u001b[0;32m~/opt/anaconda3/lib/python3.8/site-packages/pandas/core/ops/__init__.py\u001b[0m in \u001b[0;36mf\u001b[0;34m(self, other, axis, level, fill_value)\u001b[0m\n",
      "\u001b[0;32m~/opt/anaconda3/lib/python3.8/site-packages/pandas/core/ops/__init__.py\u001b[0m in \u001b[0;36m_combine_series_frame\u001b[0;34m(self, other, func, fill_value, axis, level)\u001b[0m\n",
      "\u001b[0;32m~/opt/anaconda3/lib/python3.8/site-packages/pandas/core/frame.py\u001b[0m in \u001b[0;36m_combine_match_index\u001b[0;34m(self, other, func)\u001b[0m\n\u001b[1;32m   5315\u001b[0m         \u001b[0mDataFrame\u001b[0m\u001b[0;34m.\u001b[0m\u001b[0mdrop_duplicates\u001b[0m \u001b[0;34m:\u001b[0m \u001b[0mRemove\u001b[0m \u001b[0mduplicate\u001b[0m \u001b[0mvalues\u001b[0m \u001b[0;32mfrom\u001b[0m \u001b[0mDataFrame\u001b[0m\u001b[0;34m.\u001b[0m\u001b[0;34m\u001b[0m\u001b[0;34m\u001b[0m\u001b[0m\n\u001b[1;32m   5316\u001b[0m \u001b[0;34m\u001b[0m\u001b[0m\n\u001b[0;32m-> 5317\u001b[0;31m         \u001b[0mExamples\u001b[0m\u001b[0;34m\u001b[0m\u001b[0;34m\u001b[0m\u001b[0m\n\u001b[0m\u001b[1;32m   5318\u001b[0m         \u001b[0;34m-\u001b[0m\u001b[0;34m-\u001b[0m\u001b[0;34m-\u001b[0m\u001b[0;34m-\u001b[0m\u001b[0;34m-\u001b[0m\u001b[0;34m-\u001b[0m\u001b[0;34m-\u001b[0m\u001b[0;34m-\u001b[0m\u001b[0;34m\u001b[0m\u001b[0;34m\u001b[0m\u001b[0m\n\u001b[1;32m   5319\u001b[0m         \u001b[0mConsider\u001b[0m \u001b[0mdataset\u001b[0m \u001b[0mcontaining\u001b[0m \u001b[0mramen\u001b[0m \u001b[0mrating\u001b[0m\u001b[0;34m.\u001b[0m\u001b[0;34m\u001b[0m\u001b[0;34m\u001b[0m\u001b[0m\n",
      "\u001b[0;32m~/opt/anaconda3/lib/python3.8/site-packages/pandas/core/ops/array_ops.py\u001b[0m in \u001b[0;36mna_op\u001b[0;34m(x, y)\u001b[0m\n\u001b[1;32m    119\u001b[0m     \"\"\"\n\u001b[1;32m    120\u001b[0m     \u001b[0mReturn\u001b[0m \u001b[0mthe\u001b[0m \u001b[0mresult\u001b[0m \u001b[0mof\u001b[0m \u001b[0mevaluating\u001b[0m \u001b[0mop\u001b[0m \u001b[0mon\u001b[0m \u001b[0mthe\u001b[0m \u001b[0mpassed\u001b[0m \u001b[0;32min\u001b[0m \u001b[0mvalues\u001b[0m\u001b[0;34m.\u001b[0m\u001b[0;34m\u001b[0m\u001b[0;34m\u001b[0m\u001b[0m\n\u001b[0;32m--> 121\u001b[0;31m \u001b[0;34m\u001b[0m\u001b[0m\n\u001b[0m\u001b[1;32m    122\u001b[0m     \u001b[0mIf\u001b[0m \u001b[0mnative\u001b[0m \u001b[0mtypes\u001b[0m \u001b[0mare\u001b[0m \u001b[0;32mnot\u001b[0m \u001b[0mcompatible\u001b[0m\u001b[0;34m,\u001b[0m \u001b[0;32mtry\u001b[0m \u001b[0mcoercion\u001b[0m \u001b[0mto\u001b[0m \u001b[0mobject\u001b[0m \u001b[0mdtype\u001b[0m\u001b[0;34m.\u001b[0m\u001b[0;34m\u001b[0m\u001b[0;34m\u001b[0m\u001b[0m\n\u001b[1;32m    123\u001b[0m \u001b[0;34m\u001b[0m\u001b[0m\n",
      "\u001b[0;32m~/opt/anaconda3/lib/python3.8/site-packages/pandas/core/ops/array_ops.py\u001b[0m in \u001b[0;36mna_arithmetic_op\u001b[0;34m(left, right, op, str_rep)\u001b[0m\n\u001b[1;32m    147\u001b[0m             \u001b[0;31m#  will handle complex numbers incorrectly, see GH#32047\u001b[0m\u001b[0;34m\u001b[0m\u001b[0;34m\u001b[0m\u001b[0;34m\u001b[0m\u001b[0m\n\u001b[1;32m    148\u001b[0m             \u001b[0;32mraise\u001b[0m\u001b[0;34m\u001b[0m\u001b[0;34m\u001b[0m\u001b[0m\n\u001b[0;32m--> 149\u001b[0;31m         \u001b[0mresult\u001b[0m \u001b[0;34m=\u001b[0m \u001b[0m_masked_arith_op\u001b[0m\u001b[0;34m(\u001b[0m\u001b[0mleft\u001b[0m\u001b[0;34m,\u001b[0m \u001b[0mright\u001b[0m\u001b[0;34m,\u001b[0m \u001b[0mop\u001b[0m\u001b[0;34m)\u001b[0m\u001b[0;34m\u001b[0m\u001b[0;34m\u001b[0m\u001b[0m\n\u001b[0m\u001b[1;32m    150\u001b[0m \u001b[0;34m\u001b[0m\u001b[0m\n\u001b[1;32m    151\u001b[0m     \u001b[0;32mif\u001b[0m \u001b[0mis_cmp\u001b[0m \u001b[0;32mand\u001b[0m \u001b[0;34m(\u001b[0m\u001b[0mis_scalar\u001b[0m\u001b[0;34m(\u001b[0m\u001b[0mresult\u001b[0m\u001b[0;34m)\u001b[0m \u001b[0;32mor\u001b[0m \u001b[0mresult\u001b[0m \u001b[0;32mis\u001b[0m \u001b[0mNotImplemented\u001b[0m\u001b[0;34m)\u001b[0m\u001b[0;34m:\u001b[0m\u001b[0;34m\u001b[0m\u001b[0;34m\u001b[0m\u001b[0m\n",
      "\u001b[0;32m~/opt/anaconda3/lib/python3.8/site-packages/pandas/core/computation/expressions.py\u001b[0m in \u001b[0;36mevaluate\u001b[0;34m(op, a, b, use_numexpr)\u001b[0m\n\u001b[1;32m    230\u001b[0m     \u001b[0mop_str\u001b[0m \u001b[0;34m=\u001b[0m \u001b[0m_op_str_mapping\u001b[0m\u001b[0;34m[\u001b[0m\u001b[0mop\u001b[0m\u001b[0;34m]\u001b[0m\u001b[0;34m\u001b[0m\u001b[0;34m\u001b[0m\u001b[0m\n\u001b[1;32m    231\u001b[0m     \u001b[0;32mif\u001b[0m \u001b[0mop_str\u001b[0m \u001b[0;32mis\u001b[0m \u001b[0;32mnot\u001b[0m \u001b[0;32mNone\u001b[0m\u001b[0;34m:\u001b[0m\u001b[0;34m\u001b[0m\u001b[0;34m\u001b[0m\u001b[0m\n\u001b[0;32m--> 232\u001b[0;31m         \u001b[0muse_numexpr\u001b[0m \u001b[0;34m=\u001b[0m \u001b[0muse_numexpr\u001b[0m \u001b[0;32mand\u001b[0m \u001b[0m_bool_arith_check\u001b[0m\u001b[0;34m(\u001b[0m\u001b[0mop_str\u001b[0m\u001b[0;34m,\u001b[0m \u001b[0ma\u001b[0m\u001b[0;34m,\u001b[0m \u001b[0mb\u001b[0m\u001b[0;34m)\u001b[0m\u001b[0;34m\u001b[0m\u001b[0;34m\u001b[0m\u001b[0m\n\u001b[0m\u001b[1;32m    233\u001b[0m         \u001b[0;32mif\u001b[0m \u001b[0muse_numexpr\u001b[0m\u001b[0;34m:\u001b[0m\u001b[0;34m\u001b[0m\u001b[0;34m\u001b[0m\u001b[0m\n\u001b[1;32m    234\u001b[0m             \u001b[0;31m# error: \"None\" not callable\u001b[0m\u001b[0;34m\u001b[0m\u001b[0;34m\u001b[0m\u001b[0;34m\u001b[0m\u001b[0m\n",
      "\u001b[0;31mValueError\u001b[0m: The truth value of an array with more than one element is ambiguous. Use a.any() or a.all()"
     ]
    }
   ],
   "source": [
    "dictionary = gensim.corpora.Dictionary.load('dictionary.gensim')\n",
    "corpus = pickle.load(open('corpus.pkl', 'rb'))\n",
    "lda = gensim.models.ldamodel.LdaModel.load('model10.gensim')\n",
    "pyLDAvis.enable_notebook()\n",
    "lda_display = pyLDAvis.gensim_models.prepare(lda, corpus, dictionary)\n",
    "pyLDAvis.display(lda_display)\n"
   ]
  },
  {
   "cell_type": "code",
   "execution_count": null,
   "metadata": {},
   "outputs": [],
   "source": []
  }
 ],
 "metadata": {
  "kernelspec": {
   "display_name": "Python 3",
   "language": "python",
   "name": "python3"
  },
  "language_info": {
   "codemirror_mode": {
    "name": "ipython",
    "version": 3
   },
   "file_extension": ".py",
   "mimetype": "text/x-python",
   "name": "python",
   "nbconvert_exporter": "python",
   "pygments_lexer": "ipython3",
   "version": "3.8.3"
  }
 },
 "nbformat": 4,
 "nbformat_minor": 4
}
