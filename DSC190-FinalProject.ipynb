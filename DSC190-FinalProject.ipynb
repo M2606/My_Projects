{
 "cells": [
  {
   "cell_type": "markdown",
   "metadata": {},
   "source": [
    "## DSC190 Final Project: NYPD Civilian Complaints\n"
   ]
  },
  {
   "cell_type": "code",
   "execution_count": 39,
   "metadata": {
    "ExecuteTime": {
     "end_time": "2019-10-31T23:36:28.652554Z",
     "start_time": "2019-10-31T23:36:27.180520Z"
    }
   },
   "outputs": [],
   "source": [
    "import matplotlib.pyplot as plt\n",
    "import numpy as np\n",
    "import os\n",
    "import pandas as pd\n",
    "import seaborn as sns\n",
    "from sklearn.model_selection import KFold\n",
    "from sklearn.model_selection import cross_val_score\n",
    "from sklearn.model_selection import GridSearchCV\n",
    "from sklearn import metrics\n",
    "from sklearn.preprocessing import FunctionTransformer\n",
    "from sklearn.preprocessing import StandardScaler\n",
    "from sklearn.pipeline import Pipeline\n",
    "from sklearn.preprocessing import OneHotEncoder\n",
    "from sklearn.compose import ColumnTransformer\n",
    "from sklearn.tree import DecisionTreeClassifier\n",
    "from sklearn.linear_model import LogisticRegression\n",
    "from sklearn.neighbors import KNeighborsClassifier\n",
    "from sklearn.ensemble import RandomForestClassifier\n",
    "from sklearn.model_selection import train_test_split\n",
    "%matplotlib inline\n",
    "%config InlineBackend.figure_format = 'retina'  # Higher resolution figures"
   ]
  },
  {
   "cell_type": "markdown",
   "metadata": {},
   "source": [
    "### Cleaning and EDA"
   ]
  },
  {
   "cell_type": "code",
   "execution_count": 40,
   "metadata": {},
   "outputs": [
    {
     "data": {
      "text/html": [
       "<div>\n",
       "<style scoped>\n",
       "    .dataframe tbody tr th:only-of-type {\n",
       "        vertical-align: middle;\n",
       "    }\n",
       "\n",
       "    .dataframe tbody tr th {\n",
       "        vertical-align: top;\n",
       "    }\n",
       "\n",
       "    .dataframe thead th {\n",
       "        text-align: right;\n",
       "    }\n",
       "</style>\n",
       "<table border=\"1\" class=\"dataframe\">\n",
       "  <thead>\n",
       "    <tr style=\"text-align: right;\">\n",
       "      <th></th>\n",
       "      <th>unique_mos_id</th>\n",
       "      <th>first_name</th>\n",
       "      <th>last_name</th>\n",
       "      <th>command_now</th>\n",
       "      <th>shield_no</th>\n",
       "      <th>complaint_id</th>\n",
       "      <th>month_received</th>\n",
       "      <th>year_received</th>\n",
       "      <th>month_closed</th>\n",
       "      <th>year_closed</th>\n",
       "      <th>...</th>\n",
       "      <th>mos_age_incident</th>\n",
       "      <th>complainant_ethnicity</th>\n",
       "      <th>complainant_gender</th>\n",
       "      <th>complainant_age_incident</th>\n",
       "      <th>fado_type</th>\n",
       "      <th>allegation</th>\n",
       "      <th>precinct</th>\n",
       "      <th>contact_reason</th>\n",
       "      <th>outcome_description</th>\n",
       "      <th>board_disposition</th>\n",
       "    </tr>\n",
       "  </thead>\n",
       "  <tbody>\n",
       "    <tr>\n",
       "      <th>0</th>\n",
       "      <td>10004</td>\n",
       "      <td>Jonathan</td>\n",
       "      <td>Ruiz</td>\n",
       "      <td>078 PCT</td>\n",
       "      <td>8409</td>\n",
       "      <td>42835</td>\n",
       "      <td>7</td>\n",
       "      <td>2019</td>\n",
       "      <td>5</td>\n",
       "      <td>2020</td>\n",
       "      <td>...</td>\n",
       "      <td>32</td>\n",
       "      <td>Black</td>\n",
       "      <td>Female</td>\n",
       "      <td>38.0</td>\n",
       "      <td>Abuse of Authority</td>\n",
       "      <td>Failure to provide RTKA card</td>\n",
       "      <td>78.0</td>\n",
       "      <td>Report-domestic dispute</td>\n",
       "      <td>No arrest made or summons issued</td>\n",
       "      <td>Substantiated (Command Lvl Instructions)</td>\n",
       "    </tr>\n",
       "    <tr>\n",
       "      <th>1</th>\n",
       "      <td>10007</td>\n",
       "      <td>John</td>\n",
       "      <td>Sears</td>\n",
       "      <td>078 PCT</td>\n",
       "      <td>5952</td>\n",
       "      <td>24601</td>\n",
       "      <td>11</td>\n",
       "      <td>2011</td>\n",
       "      <td>8</td>\n",
       "      <td>2012</td>\n",
       "      <td>...</td>\n",
       "      <td>24</td>\n",
       "      <td>Black</td>\n",
       "      <td>Male</td>\n",
       "      <td>26.0</td>\n",
       "      <td>Discourtesy</td>\n",
       "      <td>Action</td>\n",
       "      <td>67.0</td>\n",
       "      <td>Moving violation</td>\n",
       "      <td>Moving violation summons issued</td>\n",
       "      <td>Substantiated (Charges)</td>\n",
       "    </tr>\n",
       "    <tr>\n",
       "      <th>2</th>\n",
       "      <td>10007</td>\n",
       "      <td>John</td>\n",
       "      <td>Sears</td>\n",
       "      <td>078 PCT</td>\n",
       "      <td>5952</td>\n",
       "      <td>24601</td>\n",
       "      <td>11</td>\n",
       "      <td>2011</td>\n",
       "      <td>8</td>\n",
       "      <td>2012</td>\n",
       "      <td>...</td>\n",
       "      <td>24</td>\n",
       "      <td>Black</td>\n",
       "      <td>Male</td>\n",
       "      <td>26.0</td>\n",
       "      <td>Offensive Language</td>\n",
       "      <td>Race</td>\n",
       "      <td>67.0</td>\n",
       "      <td>Moving violation</td>\n",
       "      <td>Moving violation summons issued</td>\n",
       "      <td>Substantiated (Charges)</td>\n",
       "    </tr>\n",
       "    <tr>\n",
       "      <th>3</th>\n",
       "      <td>10007</td>\n",
       "      <td>John</td>\n",
       "      <td>Sears</td>\n",
       "      <td>078 PCT</td>\n",
       "      <td>5952</td>\n",
       "      <td>26146</td>\n",
       "      <td>7</td>\n",
       "      <td>2012</td>\n",
       "      <td>9</td>\n",
       "      <td>2013</td>\n",
       "      <td>...</td>\n",
       "      <td>25</td>\n",
       "      <td>Black</td>\n",
       "      <td>Male</td>\n",
       "      <td>45.0</td>\n",
       "      <td>Abuse of Authority</td>\n",
       "      <td>Question</td>\n",
       "      <td>67.0</td>\n",
       "      <td>PD suspected C/V of violation/crime - street</td>\n",
       "      <td>No arrest made or summons issued</td>\n",
       "      <td>Substantiated (Charges)</td>\n",
       "    </tr>\n",
       "    <tr>\n",
       "      <th>4</th>\n",
       "      <td>10009</td>\n",
       "      <td>Noemi</td>\n",
       "      <td>Sierra</td>\n",
       "      <td>078 PCT</td>\n",
       "      <td>24058</td>\n",
       "      <td>40253</td>\n",
       "      <td>8</td>\n",
       "      <td>2018</td>\n",
       "      <td>2</td>\n",
       "      <td>2019</td>\n",
       "      <td>...</td>\n",
       "      <td>39</td>\n",
       "      <td>NaN</td>\n",
       "      <td>NaN</td>\n",
       "      <td>16.0</td>\n",
       "      <td>Force</td>\n",
       "      <td>Physical force</td>\n",
       "      <td>67.0</td>\n",
       "      <td>Report-dispute</td>\n",
       "      <td>Arrest - other violation/crime</td>\n",
       "      <td>Substantiated (Command Discipline A)</td>\n",
       "    </tr>\n",
       "  </tbody>\n",
       "</table>\n",
       "<p>5 rows × 27 columns</p>\n",
       "</div>"
      ],
      "text/plain": [
       "   unique_mos_id first_name last_name command_now  shield_no  complaint_id  \\\n",
       "0          10004   Jonathan      Ruiz     078 PCT       8409         42835   \n",
       "1          10007       John     Sears     078 PCT       5952         24601   \n",
       "2          10007       John     Sears     078 PCT       5952         24601   \n",
       "3          10007       John     Sears     078 PCT       5952         26146   \n",
       "4          10009      Noemi    Sierra     078 PCT      24058         40253   \n",
       "\n",
       "   month_received  year_received  month_closed  year_closed  ...  \\\n",
       "0               7           2019             5         2020  ...   \n",
       "1              11           2011             8         2012  ...   \n",
       "2              11           2011             8         2012  ...   \n",
       "3               7           2012             9         2013  ...   \n",
       "4               8           2018             2         2019  ...   \n",
       "\n",
       "  mos_age_incident complainant_ethnicity complainant_gender  \\\n",
       "0               32                 Black             Female   \n",
       "1               24                 Black               Male   \n",
       "2               24                 Black               Male   \n",
       "3               25                 Black               Male   \n",
       "4               39                   NaN                NaN   \n",
       "\n",
       "  complainant_age_incident           fado_type                    allegation  \\\n",
       "0                     38.0  Abuse of Authority  Failure to provide RTKA card   \n",
       "1                     26.0         Discourtesy                        Action   \n",
       "2                     26.0  Offensive Language                          Race   \n",
       "3                     45.0  Abuse of Authority                      Question   \n",
       "4                     16.0               Force                Physical force   \n",
       "\n",
       "  precinct                                contact_reason  \\\n",
       "0     78.0                       Report-domestic dispute   \n",
       "1     67.0                              Moving violation   \n",
       "2     67.0                              Moving violation   \n",
       "3     67.0  PD suspected C/V of violation/crime - street   \n",
       "4     67.0                                Report-dispute   \n",
       "\n",
       "                outcome_description                         board_disposition  \n",
       "0  No arrest made or summons issued  Substantiated (Command Lvl Instructions)  \n",
       "1   Moving violation summons issued                   Substantiated (Charges)  \n",
       "2   Moving violation summons issued                   Substantiated (Charges)  \n",
       "3  No arrest made or summons issued                   Substantiated (Charges)  \n",
       "4    Arrest - other violation/crime      Substantiated (Command Discipline A)  \n",
       "\n",
       "[5 rows x 27 columns]"
      ]
     },
     "execution_count": 40,
     "metadata": {},
     "output_type": "execute_result"
    }
   ],
   "source": [
    "df = pd.read_csv('Data/CCRB-Complaint-Data_202007271729/allegations_202007271729.csv')\n",
    "df.head()"
   ]
  },
  {
   "cell_type": "code",
   "execution_count": 41,
   "metadata": {},
   "outputs": [
    {
     "data": {
      "text/plain": [
       "unique_mos_id               0.000000\n",
       "first_name                  0.000000\n",
       "last_name                   0.000000\n",
       "command_now                 0.000000\n",
       "shield_no                   0.000000\n",
       "complaint_id                0.000000\n",
       "month_received              0.000000\n",
       "year_received               0.000000\n",
       "month_closed                0.000000\n",
       "year_closed                 0.000000\n",
       "command_at_incident         0.046286\n",
       "rank_abbrev_incident        0.000000\n",
       "rank_abbrev_now             0.000000\n",
       "rank_now                    0.000000\n",
       "rank_incident               0.000000\n",
       "mos_ethnicity               0.000000\n",
       "mos_gender                  0.000000\n",
       "mos_age_incident            0.000000\n",
       "complainant_ethnicity       0.133821\n",
       "complainant_gender          0.125757\n",
       "complainant_age_incident    0.144253\n",
       "fado_type                   0.000000\n",
       "allegation                  0.000030\n",
       "precinct                    0.000719\n",
       "contact_reason              0.005966\n",
       "outcome_description         0.001679\n",
       "board_disposition           0.000000\n",
       "dtype: float64"
      ]
     },
     "execution_count": 41,
     "metadata": {},
     "output_type": "execute_result"
    }
   ],
   "source": [
    "#shows where the null values in the table are null. This was helpful when conducting our missingness test.\n",
    "null_props = pd.isnull(df).mean()\n",
    "null_props"
   ]
  },
  {
   "cell_type": "code",
   "execution_count": 42,
   "metadata": {},
   "outputs": [
    {
     "data": {
      "text/plain": [
       "unique_mos_id                 int64\n",
       "first_name                   object\n",
       "last_name                    object\n",
       "command_now                  object\n",
       "shield_no                     int64\n",
       "complaint_id                  int64\n",
       "month_received                int64\n",
       "year_received                 int64\n",
       "month_closed                  int64\n",
       "year_closed                   int64\n",
       "command_at_incident          object\n",
       "rank_abbrev_incident         object\n",
       "rank_abbrev_now              object\n",
       "rank_now                     object\n",
       "rank_incident                object\n",
       "mos_ethnicity                object\n",
       "mos_gender                   object\n",
       "mos_age_incident              int64\n",
       "complainant_ethnicity        object\n",
       "complainant_gender           object\n",
       "complainant_age_incident    float64\n",
       "fado_type                    object\n",
       "allegation                   object\n",
       "precinct                    float64\n",
       "contact_reason               object\n",
       "outcome_description          object\n",
       "board_disposition            object\n",
       "dtype: object"
      ]
     },
     "execution_count": 42,
     "metadata": {},
     "output_type": "execute_result"
    }
   ],
   "source": [
    "#we looked at the data types of every column\n",
    "df.dtypes"
   ]
  },
  {
   "cell_type": "markdown",
   "metadata": {},
   "source": [
    "We first examined the ages of complainants and we found that some were negative or very low values. In addition, -1 was probably used as a placeholder for nan so this was something we needed to change. We chose to convert all ages 7 and under to nan because based on the data generating process these values were unlikely. We also looked at those who may be too old to file a complaint, however the oldest age was 101 which seemed possible. Moreover, there were only a few rows with these values so converting them to nan would not bias the result much."
   ]
  },
  {
   "cell_type": "code",
   "execution_count": 43,
   "metadata": {},
   "outputs": [
    {
     "data": {
      "text/plain": [
       "-4301.0    1\n",
       "-1.0       5\n",
       " 0.0       2\n",
       " 1.0       1\n",
       " 2.0       2\n",
       " 3.0       1\n",
       " 6.0       1\n",
       " 7.0       1\n",
       " 8.0       3\n",
       " 9.0       4\n",
       "Name: complainant_age_incident, dtype: int64"
      ]
     },
     "execution_count": 43,
     "metadata": {},
     "output_type": "execute_result"
    }
   ],
   "source": [
    "weird_ages = df['complainant_age_incident'].value_counts().sort_index().head(10)\n",
    "weird_ages"
   ]
  },
  {
   "cell_type": "code",
   "execution_count": 44,
   "metadata": {},
   "outputs": [],
   "source": [
    "replacable_indexes = df['complainant_age_incident'].value_counts().sort_index().head(20).index[:8] #here we sorted the values to find those that seemed too young to file a complaint\n",
    "my_dict = {i:np.NaN for i in replacable_indexes} #replaced all unusual ages with nans\n",
    "fixed_ages = df.assign(complainant_age_incident = df['complainant_age_incident'].replace(my_dict)) #modified the original dataframe to reflect the nans"
   ]
  },
  {
   "cell_type": "markdown",
   "metadata": {},
   "source": [
    "We continued to clean the dataframe by looking where the ethnicity were Unknown and where individuals refused to state their race. We then changed those values to nans. We also checked where complainant gender was not described and changed those to nan in our dataframe."
   ]
  },
  {
   "cell_type": "code",
   "execution_count": 45,
   "metadata": {},
   "outputs": [
    {
     "data": {
      "text/html": [
       "<div>\n",
       "<style scoped>\n",
       "    .dataframe tbody tr th:only-of-type {\n",
       "        vertical-align: middle;\n",
       "    }\n",
       "\n",
       "    .dataframe tbody tr th {\n",
       "        vertical-align: top;\n",
       "    }\n",
       "\n",
       "    .dataframe thead th {\n",
       "        text-align: right;\n",
       "    }\n",
       "</style>\n",
       "<table border=\"1\" class=\"dataframe\">\n",
       "  <thead>\n",
       "    <tr style=\"text-align: right;\">\n",
       "      <th></th>\n",
       "      <th>unique_mos_id</th>\n",
       "      <th>first_name</th>\n",
       "      <th>last_name</th>\n",
       "      <th>command_now</th>\n",
       "      <th>shield_no</th>\n",
       "      <th>complaint_id</th>\n",
       "      <th>month_received</th>\n",
       "      <th>year_received</th>\n",
       "      <th>month_closed</th>\n",
       "      <th>year_closed</th>\n",
       "      <th>...</th>\n",
       "      <th>mos_age_incident</th>\n",
       "      <th>complainant_ethnicity</th>\n",
       "      <th>complainant_gender</th>\n",
       "      <th>complainant_age_incident</th>\n",
       "      <th>fado_type</th>\n",
       "      <th>allegation</th>\n",
       "      <th>precinct</th>\n",
       "      <th>contact_reason</th>\n",
       "      <th>outcome_description</th>\n",
       "      <th>board_disposition</th>\n",
       "    </tr>\n",
       "  </thead>\n",
       "  <tbody>\n",
       "    <tr>\n",
       "      <th>0</th>\n",
       "      <td>10004</td>\n",
       "      <td>Jonathan</td>\n",
       "      <td>Ruiz</td>\n",
       "      <td>078 PCT</td>\n",
       "      <td>8409</td>\n",
       "      <td>42835</td>\n",
       "      <td>7</td>\n",
       "      <td>2019</td>\n",
       "      <td>5</td>\n",
       "      <td>2020</td>\n",
       "      <td>...</td>\n",
       "      <td>32</td>\n",
       "      <td>Black</td>\n",
       "      <td>Female</td>\n",
       "      <td>38.0</td>\n",
       "      <td>Abuse of Authority</td>\n",
       "      <td>Failure to provide RTKA card</td>\n",
       "      <td>78.0</td>\n",
       "      <td>Report-domestic dispute</td>\n",
       "      <td>No arrest made or summons issued</td>\n",
       "      <td>Substantiated (Command Lvl Instructions)</td>\n",
       "    </tr>\n",
       "    <tr>\n",
       "      <th>1</th>\n",
       "      <td>10007</td>\n",
       "      <td>John</td>\n",
       "      <td>Sears</td>\n",
       "      <td>078 PCT</td>\n",
       "      <td>5952</td>\n",
       "      <td>24601</td>\n",
       "      <td>11</td>\n",
       "      <td>2011</td>\n",
       "      <td>8</td>\n",
       "      <td>2012</td>\n",
       "      <td>...</td>\n",
       "      <td>24</td>\n",
       "      <td>Black</td>\n",
       "      <td>Male</td>\n",
       "      <td>26.0</td>\n",
       "      <td>Discourtesy</td>\n",
       "      <td>Action</td>\n",
       "      <td>67.0</td>\n",
       "      <td>Moving violation</td>\n",
       "      <td>Moving violation summons issued</td>\n",
       "      <td>Substantiated (Charges)</td>\n",
       "    </tr>\n",
       "    <tr>\n",
       "      <th>2</th>\n",
       "      <td>10007</td>\n",
       "      <td>John</td>\n",
       "      <td>Sears</td>\n",
       "      <td>078 PCT</td>\n",
       "      <td>5952</td>\n",
       "      <td>24601</td>\n",
       "      <td>11</td>\n",
       "      <td>2011</td>\n",
       "      <td>8</td>\n",
       "      <td>2012</td>\n",
       "      <td>...</td>\n",
       "      <td>24</td>\n",
       "      <td>Black</td>\n",
       "      <td>Male</td>\n",
       "      <td>26.0</td>\n",
       "      <td>Offensive Language</td>\n",
       "      <td>Race</td>\n",
       "      <td>67.0</td>\n",
       "      <td>Moving violation</td>\n",
       "      <td>Moving violation summons issued</td>\n",
       "      <td>Substantiated (Charges)</td>\n",
       "    </tr>\n",
       "    <tr>\n",
       "      <th>3</th>\n",
       "      <td>10007</td>\n",
       "      <td>John</td>\n",
       "      <td>Sears</td>\n",
       "      <td>078 PCT</td>\n",
       "      <td>5952</td>\n",
       "      <td>26146</td>\n",
       "      <td>7</td>\n",
       "      <td>2012</td>\n",
       "      <td>9</td>\n",
       "      <td>2013</td>\n",
       "      <td>...</td>\n",
       "      <td>25</td>\n",
       "      <td>Black</td>\n",
       "      <td>Male</td>\n",
       "      <td>45.0</td>\n",
       "      <td>Abuse of Authority</td>\n",
       "      <td>Question</td>\n",
       "      <td>67.0</td>\n",
       "      <td>PD suspected C/V of violation/crime - street</td>\n",
       "      <td>No arrest made or summons issued</td>\n",
       "      <td>Substantiated (Charges)</td>\n",
       "    </tr>\n",
       "    <tr>\n",
       "      <th>4</th>\n",
       "      <td>10009</td>\n",
       "      <td>Noemi</td>\n",
       "      <td>Sierra</td>\n",
       "      <td>078 PCT</td>\n",
       "      <td>24058</td>\n",
       "      <td>40253</td>\n",
       "      <td>8</td>\n",
       "      <td>2018</td>\n",
       "      <td>2</td>\n",
       "      <td>2019</td>\n",
       "      <td>...</td>\n",
       "      <td>39</td>\n",
       "      <td>NaN</td>\n",
       "      <td>NaN</td>\n",
       "      <td>16.0</td>\n",
       "      <td>Force</td>\n",
       "      <td>Physical force</td>\n",
       "      <td>67.0</td>\n",
       "      <td>Report-dispute</td>\n",
       "      <td>Arrest - other violation/crime</td>\n",
       "      <td>Substantiated (Command Discipline A)</td>\n",
       "    </tr>\n",
       "  </tbody>\n",
       "</table>\n",
       "<p>5 rows × 27 columns</p>\n",
       "</div>"
      ],
      "text/plain": [
       "   unique_mos_id first_name last_name command_now  shield_no  complaint_id  \\\n",
       "0          10004   Jonathan      Ruiz     078 PCT       8409         42835   \n",
       "1          10007       John     Sears     078 PCT       5952         24601   \n",
       "2          10007       John     Sears     078 PCT       5952         24601   \n",
       "3          10007       John     Sears     078 PCT       5952         26146   \n",
       "4          10009      Noemi    Sierra     078 PCT      24058         40253   \n",
       "\n",
       "   month_received  year_received  month_closed  year_closed  ...  \\\n",
       "0               7           2019             5         2020  ...   \n",
       "1              11           2011             8         2012  ...   \n",
       "2              11           2011             8         2012  ...   \n",
       "3               7           2012             9         2013  ...   \n",
       "4               8           2018             2         2019  ...   \n",
       "\n",
       "  mos_age_incident complainant_ethnicity complainant_gender  \\\n",
       "0               32                 Black             Female   \n",
       "1               24                 Black               Male   \n",
       "2               24                 Black               Male   \n",
       "3               25                 Black               Male   \n",
       "4               39                   NaN                NaN   \n",
       "\n",
       "  complainant_age_incident           fado_type                    allegation  \\\n",
       "0                     38.0  Abuse of Authority  Failure to provide RTKA card   \n",
       "1                     26.0         Discourtesy                        Action   \n",
       "2                     26.0  Offensive Language                          Race   \n",
       "3                     45.0  Abuse of Authority                      Question   \n",
       "4                     16.0               Force                Physical force   \n",
       "\n",
       "  precinct                                contact_reason  \\\n",
       "0     78.0                       Report-domestic dispute   \n",
       "1     67.0                              Moving violation   \n",
       "2     67.0                              Moving violation   \n",
       "3     67.0  PD suspected C/V of violation/crime - street   \n",
       "4     67.0                                Report-dispute   \n",
       "\n",
       "                outcome_description                         board_disposition  \n",
       "0  No arrest made or summons issued  Substantiated (Command Lvl Instructions)  \n",
       "1   Moving violation summons issued                   Substantiated (Charges)  \n",
       "2   Moving violation summons issued                   Substantiated (Charges)  \n",
       "3  No arrest made or summons issued                   Substantiated (Charges)  \n",
       "4    Arrest - other violation/crime      Substantiated (Command Discipline A)  \n",
       "\n",
       "[5 rows x 27 columns]"
      ]
     },
     "execution_count": 45,
     "metadata": {},
     "output_type": "execute_result"
    }
   ],
   "source": [
    "fixed_race_and_age = fixed_ages.assign(complainant_ethnicity = fixed_ages['complainant_ethnicity'].replace({'Unknown':np.NaN, 'Refused':np.NaN}))#replaced unknown and refused with nan in ethnicity\n",
    "fixed_df = fixed_race_and_age.assign(complainant_gender = fixed_race_and_age['complainant_gender'].replace({'Not described' : np.NaN})) #replaced not described with nan in gender\n",
    "fixed_df.head()"
   ]
  },
  {
   "cell_type": "markdown",
   "metadata": {},
   "source": [
    "We found the month and year a complaint is received as well as the month and year the complaint is closed. We then converted these values to datetime so we could subtract the values. This would give us the number of days that it to close the case. We considered this to be the wait time. Since we don't have the exact date the complaint was filed, we assumed the first of the month for both received and closed dates. Since our analysis mainly focuses on relative wait times this should not impact the results too much."
   ]
  },
  {
   "cell_type": "code",
   "execution_count": 46,
   "metadata": {},
   "outputs": [
    {
     "data": {
      "text/html": [
       "<div>\n",
       "<style scoped>\n",
       "    .dataframe tbody tr th:only-of-type {\n",
       "        vertical-align: middle;\n",
       "    }\n",
       "\n",
       "    .dataframe tbody tr th {\n",
       "        vertical-align: top;\n",
       "    }\n",
       "\n",
       "    .dataframe thead th {\n",
       "        text-align: right;\n",
       "    }\n",
       "</style>\n",
       "<table border=\"1\" class=\"dataframe\">\n",
       "  <thead>\n",
       "    <tr style=\"text-align: right;\">\n",
       "      <th></th>\n",
       "      <th>unique_mos_id</th>\n",
       "      <th>first_name</th>\n",
       "      <th>last_name</th>\n",
       "      <th>command_now</th>\n",
       "      <th>shield_no</th>\n",
       "      <th>complaint_id</th>\n",
       "      <th>month_received</th>\n",
       "      <th>year_received</th>\n",
       "      <th>month_closed</th>\n",
       "      <th>year_closed</th>\n",
       "      <th>...</th>\n",
       "      <th>complainant_age_incident</th>\n",
       "      <th>fado_type</th>\n",
       "      <th>allegation</th>\n",
       "      <th>precinct</th>\n",
       "      <th>contact_reason</th>\n",
       "      <th>outcome_description</th>\n",
       "      <th>board_disposition</th>\n",
       "      <th>received_date</th>\n",
       "      <th>closed_date</th>\n",
       "      <th>wait_time</th>\n",
       "    </tr>\n",
       "  </thead>\n",
       "  <tbody>\n",
       "    <tr>\n",
       "      <th>0</th>\n",
       "      <td>10004</td>\n",
       "      <td>Jonathan</td>\n",
       "      <td>Ruiz</td>\n",
       "      <td>078 PCT</td>\n",
       "      <td>8409</td>\n",
       "      <td>42835</td>\n",
       "      <td>7</td>\n",
       "      <td>2019</td>\n",
       "      <td>5</td>\n",
       "      <td>2020</td>\n",
       "      <td>...</td>\n",
       "      <td>38.0</td>\n",
       "      <td>Abuse of Authority</td>\n",
       "      <td>Failure to provide RTKA card</td>\n",
       "      <td>78.0</td>\n",
       "      <td>Report-domestic dispute</td>\n",
       "      <td>No arrest made or summons issued</td>\n",
       "      <td>Substantiated (Command Lvl Instructions)</td>\n",
       "      <td>2019-07-01</td>\n",
       "      <td>2020-05-01</td>\n",
       "      <td>305</td>\n",
       "    </tr>\n",
       "    <tr>\n",
       "      <th>1</th>\n",
       "      <td>10007</td>\n",
       "      <td>John</td>\n",
       "      <td>Sears</td>\n",
       "      <td>078 PCT</td>\n",
       "      <td>5952</td>\n",
       "      <td>24601</td>\n",
       "      <td>11</td>\n",
       "      <td>2011</td>\n",
       "      <td>8</td>\n",
       "      <td>2012</td>\n",
       "      <td>...</td>\n",
       "      <td>26.0</td>\n",
       "      <td>Discourtesy</td>\n",
       "      <td>Action</td>\n",
       "      <td>67.0</td>\n",
       "      <td>Moving violation</td>\n",
       "      <td>Moving violation summons issued</td>\n",
       "      <td>Substantiated (Charges)</td>\n",
       "      <td>2011-11-01</td>\n",
       "      <td>2012-08-01</td>\n",
       "      <td>274</td>\n",
       "    </tr>\n",
       "    <tr>\n",
       "      <th>2</th>\n",
       "      <td>10007</td>\n",
       "      <td>John</td>\n",
       "      <td>Sears</td>\n",
       "      <td>078 PCT</td>\n",
       "      <td>5952</td>\n",
       "      <td>24601</td>\n",
       "      <td>11</td>\n",
       "      <td>2011</td>\n",
       "      <td>8</td>\n",
       "      <td>2012</td>\n",
       "      <td>...</td>\n",
       "      <td>26.0</td>\n",
       "      <td>Offensive Language</td>\n",
       "      <td>Race</td>\n",
       "      <td>67.0</td>\n",
       "      <td>Moving violation</td>\n",
       "      <td>Moving violation summons issued</td>\n",
       "      <td>Substantiated (Charges)</td>\n",
       "      <td>2011-11-01</td>\n",
       "      <td>2012-08-01</td>\n",
       "      <td>274</td>\n",
       "    </tr>\n",
       "    <tr>\n",
       "      <th>3</th>\n",
       "      <td>10007</td>\n",
       "      <td>John</td>\n",
       "      <td>Sears</td>\n",
       "      <td>078 PCT</td>\n",
       "      <td>5952</td>\n",
       "      <td>26146</td>\n",
       "      <td>7</td>\n",
       "      <td>2012</td>\n",
       "      <td>9</td>\n",
       "      <td>2013</td>\n",
       "      <td>...</td>\n",
       "      <td>45.0</td>\n",
       "      <td>Abuse of Authority</td>\n",
       "      <td>Question</td>\n",
       "      <td>67.0</td>\n",
       "      <td>PD suspected C/V of violation/crime - street</td>\n",
       "      <td>No arrest made or summons issued</td>\n",
       "      <td>Substantiated (Charges)</td>\n",
       "      <td>2012-07-01</td>\n",
       "      <td>2013-09-01</td>\n",
       "      <td>427</td>\n",
       "    </tr>\n",
       "    <tr>\n",
       "      <th>4</th>\n",
       "      <td>10009</td>\n",
       "      <td>Noemi</td>\n",
       "      <td>Sierra</td>\n",
       "      <td>078 PCT</td>\n",
       "      <td>24058</td>\n",
       "      <td>40253</td>\n",
       "      <td>8</td>\n",
       "      <td>2018</td>\n",
       "      <td>2</td>\n",
       "      <td>2019</td>\n",
       "      <td>...</td>\n",
       "      <td>16.0</td>\n",
       "      <td>Force</td>\n",
       "      <td>Physical force</td>\n",
       "      <td>67.0</td>\n",
       "      <td>Report-dispute</td>\n",
       "      <td>Arrest - other violation/crime</td>\n",
       "      <td>Substantiated (Command Discipline A)</td>\n",
       "      <td>2018-08-01</td>\n",
       "      <td>2019-02-01</td>\n",
       "      <td>184</td>\n",
       "    </tr>\n",
       "  </tbody>\n",
       "</table>\n",
       "<p>5 rows × 30 columns</p>\n",
       "</div>"
      ],
      "text/plain": [
       "   unique_mos_id first_name last_name command_now  shield_no  complaint_id  \\\n",
       "0          10004   Jonathan      Ruiz     078 PCT       8409         42835   \n",
       "1          10007       John     Sears     078 PCT       5952         24601   \n",
       "2          10007       John     Sears     078 PCT       5952         24601   \n",
       "3          10007       John     Sears     078 PCT       5952         26146   \n",
       "4          10009      Noemi    Sierra     078 PCT      24058         40253   \n",
       "\n",
       "   month_received  year_received  month_closed  year_closed  ...  \\\n",
       "0               7           2019             5         2020  ...   \n",
       "1              11           2011             8         2012  ...   \n",
       "2              11           2011             8         2012  ...   \n",
       "3               7           2012             9         2013  ...   \n",
       "4               8           2018             2         2019  ...   \n",
       "\n",
       "  complainant_age_incident           fado_type                    allegation  \\\n",
       "0                     38.0  Abuse of Authority  Failure to provide RTKA card   \n",
       "1                     26.0         Discourtesy                        Action   \n",
       "2                     26.0  Offensive Language                          Race   \n",
       "3                     45.0  Abuse of Authority                      Question   \n",
       "4                     16.0               Force                Physical force   \n",
       "\n",
       "  precinct                                contact_reason  \\\n",
       "0     78.0                       Report-domestic dispute   \n",
       "1     67.0                              Moving violation   \n",
       "2     67.0                              Moving violation   \n",
       "3     67.0  PD suspected C/V of violation/crime - street   \n",
       "4     67.0                                Report-dispute   \n",
       "\n",
       "                outcome_description                         board_disposition  \\\n",
       "0  No arrest made or summons issued  Substantiated (Command Lvl Instructions)   \n",
       "1   Moving violation summons issued                   Substantiated (Charges)   \n",
       "2   Moving violation summons issued                   Substantiated (Charges)   \n",
       "3  No arrest made or summons issued                   Substantiated (Charges)   \n",
       "4    Arrest - other violation/crime      Substantiated (Command Discipline A)   \n",
       "\n",
       "   received_date closed_date wait_time  \n",
       "0     2019-07-01  2020-05-01       305  \n",
       "1     2011-11-01  2012-08-01       274  \n",
       "2     2011-11-01  2012-08-01       274  \n",
       "3     2012-07-01  2013-09-01       427  \n",
       "4     2018-08-01  2019-02-01       184  \n",
       "\n",
       "[5 rows x 30 columns]"
      ]
     },
     "execution_count": 46,
     "metadata": {},
     "output_type": "execute_result"
    }
   ],
   "source": [
    "received_date = fixed_df['month_received'].astype(str) + \"/\" + fixed_df['year_received'].astype(str) #combined month and year to find date received\n",
    "closed_date = fixed_df['month_closed'].astype(str) + \"/\" + fixed_df['year_closed'].astype(str) #combined month and year to find date closed\n",
    "fixed_df['received_date'] = pd.to_datetime(received_date) #changed received date to datetime\n",
    "fixed_df['closed_date'] = pd.to_datetime(closed_date)#changed closed date to datetime\n",
    "fixed_df['wait_time'] = (fixed_df['closed_date'] - fixed_df['received_date']).dt.days #subtracted days to find the days took to resolve complaint\n",
    "fixed_df.head()"
   ]
  },
  {
   "cell_type": "markdown",
   "metadata": {},
   "source": [
    "The board disposition gave an account of what happened to the accused Police Officer ie. Substantiated implies that the complaint was valid, and disciplinary action was taken against the PO. Unsubstantiated implies that they could not come to a conclusion, whereas exonerated means the officer was innocent and the complaint is dismissed. Within Substantiated there were multiple divisions describing the action taken against the officer. For our analysis we decided to just group all of these divisions into one category that we called substantiated."
   ]
  },
  {
   "cell_type": "code",
   "execution_count": 47,
   "metadata": {},
   "outputs": [
    {
     "data": {
      "text/html": [
       "<div>\n",
       "<style scoped>\n",
       "    .dataframe tbody tr th:only-of-type {\n",
       "        vertical-align: middle;\n",
       "    }\n",
       "\n",
       "    .dataframe tbody tr th {\n",
       "        vertical-align: top;\n",
       "    }\n",
       "\n",
       "    .dataframe thead th {\n",
       "        text-align: right;\n",
       "    }\n",
       "</style>\n",
       "<table border=\"1\" class=\"dataframe\">\n",
       "  <thead>\n",
       "    <tr style=\"text-align: right;\">\n",
       "      <th></th>\n",
       "      <th>unique_mos_id</th>\n",
       "      <th>first_name</th>\n",
       "      <th>last_name</th>\n",
       "      <th>command_now</th>\n",
       "      <th>shield_no</th>\n",
       "      <th>complaint_id</th>\n",
       "      <th>month_received</th>\n",
       "      <th>year_received</th>\n",
       "      <th>month_closed</th>\n",
       "      <th>year_closed</th>\n",
       "      <th>...</th>\n",
       "      <th>complainant_age_incident</th>\n",
       "      <th>fado_type</th>\n",
       "      <th>allegation</th>\n",
       "      <th>precinct</th>\n",
       "      <th>contact_reason</th>\n",
       "      <th>outcome_description</th>\n",
       "      <th>board_disposition</th>\n",
       "      <th>received_date</th>\n",
       "      <th>closed_date</th>\n",
       "      <th>wait_time</th>\n",
       "    </tr>\n",
       "  </thead>\n",
       "  <tbody>\n",
       "    <tr>\n",
       "      <th>0</th>\n",
       "      <td>10004</td>\n",
       "      <td>Jonathan</td>\n",
       "      <td>Ruiz</td>\n",
       "      <td>078 PCT</td>\n",
       "      <td>8409</td>\n",
       "      <td>42835</td>\n",
       "      <td>7</td>\n",
       "      <td>2019</td>\n",
       "      <td>5</td>\n",
       "      <td>2020</td>\n",
       "      <td>...</td>\n",
       "      <td>38.0</td>\n",
       "      <td>Abuse of Authority</td>\n",
       "      <td>Failure to provide RTKA card</td>\n",
       "      <td>78.0</td>\n",
       "      <td>Report-domestic dispute</td>\n",
       "      <td>No arrest made or summons issued</td>\n",
       "      <td>Substantiated</td>\n",
       "      <td>2019-07-01</td>\n",
       "      <td>2020-05-01</td>\n",
       "      <td>305</td>\n",
       "    </tr>\n",
       "    <tr>\n",
       "      <th>1</th>\n",
       "      <td>10007</td>\n",
       "      <td>John</td>\n",
       "      <td>Sears</td>\n",
       "      <td>078 PCT</td>\n",
       "      <td>5952</td>\n",
       "      <td>24601</td>\n",
       "      <td>11</td>\n",
       "      <td>2011</td>\n",
       "      <td>8</td>\n",
       "      <td>2012</td>\n",
       "      <td>...</td>\n",
       "      <td>26.0</td>\n",
       "      <td>Discourtesy</td>\n",
       "      <td>Action</td>\n",
       "      <td>67.0</td>\n",
       "      <td>Moving violation</td>\n",
       "      <td>Moving violation summons issued</td>\n",
       "      <td>Substantiated</td>\n",
       "      <td>2011-11-01</td>\n",
       "      <td>2012-08-01</td>\n",
       "      <td>274</td>\n",
       "    </tr>\n",
       "    <tr>\n",
       "      <th>2</th>\n",
       "      <td>10007</td>\n",
       "      <td>John</td>\n",
       "      <td>Sears</td>\n",
       "      <td>078 PCT</td>\n",
       "      <td>5952</td>\n",
       "      <td>24601</td>\n",
       "      <td>11</td>\n",
       "      <td>2011</td>\n",
       "      <td>8</td>\n",
       "      <td>2012</td>\n",
       "      <td>...</td>\n",
       "      <td>26.0</td>\n",
       "      <td>Offensive Language</td>\n",
       "      <td>Race</td>\n",
       "      <td>67.0</td>\n",
       "      <td>Moving violation</td>\n",
       "      <td>Moving violation summons issued</td>\n",
       "      <td>Substantiated</td>\n",
       "      <td>2011-11-01</td>\n",
       "      <td>2012-08-01</td>\n",
       "      <td>274</td>\n",
       "    </tr>\n",
       "    <tr>\n",
       "      <th>3</th>\n",
       "      <td>10007</td>\n",
       "      <td>John</td>\n",
       "      <td>Sears</td>\n",
       "      <td>078 PCT</td>\n",
       "      <td>5952</td>\n",
       "      <td>26146</td>\n",
       "      <td>7</td>\n",
       "      <td>2012</td>\n",
       "      <td>9</td>\n",
       "      <td>2013</td>\n",
       "      <td>...</td>\n",
       "      <td>45.0</td>\n",
       "      <td>Abuse of Authority</td>\n",
       "      <td>Question</td>\n",
       "      <td>67.0</td>\n",
       "      <td>PD suspected C/V of violation/crime - street</td>\n",
       "      <td>No arrest made or summons issued</td>\n",
       "      <td>Substantiated</td>\n",
       "      <td>2012-07-01</td>\n",
       "      <td>2013-09-01</td>\n",
       "      <td>427</td>\n",
       "    </tr>\n",
       "    <tr>\n",
       "      <th>4</th>\n",
       "      <td>10009</td>\n",
       "      <td>Noemi</td>\n",
       "      <td>Sierra</td>\n",
       "      <td>078 PCT</td>\n",
       "      <td>24058</td>\n",
       "      <td>40253</td>\n",
       "      <td>8</td>\n",
       "      <td>2018</td>\n",
       "      <td>2</td>\n",
       "      <td>2019</td>\n",
       "      <td>...</td>\n",
       "      <td>16.0</td>\n",
       "      <td>Force</td>\n",
       "      <td>Physical force</td>\n",
       "      <td>67.0</td>\n",
       "      <td>Report-dispute</td>\n",
       "      <td>Arrest - other violation/crime</td>\n",
       "      <td>Substantiated</td>\n",
       "      <td>2018-08-01</td>\n",
       "      <td>2019-02-01</td>\n",
       "      <td>184</td>\n",
       "    </tr>\n",
       "  </tbody>\n",
       "</table>\n",
       "<p>5 rows × 30 columns</p>\n",
       "</div>"
      ],
      "text/plain": [
       "   unique_mos_id first_name last_name command_now  shield_no  complaint_id  \\\n",
       "0          10004   Jonathan      Ruiz     078 PCT       8409         42835   \n",
       "1          10007       John     Sears     078 PCT       5952         24601   \n",
       "2          10007       John     Sears     078 PCT       5952         24601   \n",
       "3          10007       John     Sears     078 PCT       5952         26146   \n",
       "4          10009      Noemi    Sierra     078 PCT      24058         40253   \n",
       "\n",
       "   month_received  year_received  month_closed  year_closed  ...  \\\n",
       "0               7           2019             5         2020  ...   \n",
       "1              11           2011             8         2012  ...   \n",
       "2              11           2011             8         2012  ...   \n",
       "3               7           2012             9         2013  ...   \n",
       "4               8           2018             2         2019  ...   \n",
       "\n",
       "  complainant_age_incident           fado_type                    allegation  \\\n",
       "0                     38.0  Abuse of Authority  Failure to provide RTKA card   \n",
       "1                     26.0         Discourtesy                        Action   \n",
       "2                     26.0  Offensive Language                          Race   \n",
       "3                     45.0  Abuse of Authority                      Question   \n",
       "4                     16.0               Force                Physical force   \n",
       "\n",
       "  precinct                                contact_reason  \\\n",
       "0     78.0                       Report-domestic dispute   \n",
       "1     67.0                              Moving violation   \n",
       "2     67.0                              Moving violation   \n",
       "3     67.0  PD suspected C/V of violation/crime - street   \n",
       "4     67.0                                Report-dispute   \n",
       "\n",
       "                outcome_description board_disposition  received_date  \\\n",
       "0  No arrest made or summons issued     Substantiated     2019-07-01   \n",
       "1   Moving violation summons issued     Substantiated     2011-11-01   \n",
       "2   Moving violation summons issued     Substantiated     2011-11-01   \n",
       "3  No arrest made or summons issued     Substantiated     2012-07-01   \n",
       "4    Arrest - other violation/crime     Substantiated     2018-08-01   \n",
       "\n",
       "  closed_date wait_time  \n",
       "0  2020-05-01       305  \n",
       "1  2012-08-01       274  \n",
       "2  2012-08-01       274  \n",
       "3  2013-09-01       427  \n",
       "4  2019-02-01       184  \n",
       "\n",
       "[5 rows x 30 columns]"
      ]
     },
     "execution_count": 47,
     "metadata": {},
     "output_type": "execute_result"
    }
   ],
   "source": [
    "altered_series = fixed_df['board_disposition'].replace({i: 'Substantiated' for i in fixed_df['board_disposition'] if 'Substantiated' in i}) #we grouped all the substantiated categories into just substantiated\n",
    "fixed_df = fixed_df.assign(board_disposition=altered_series) #we assigned those values that become substantiated into the dataframe\n",
    "fixed_df.head()"
   ]
  },
  {
   "cell_type": "markdown",
   "metadata": {},
   "source": [
    "##### Note: \n",
    "fixed_df is our final cleaned dataframe. We looked at each of the other columns for any anomaly/outlier values or anything else that needed to be replaced with NaN. We found that everything else looked alright and with that finished our cleaning and moved on to EDA."
   ]
  },
  {
   "cell_type": "markdown",
   "metadata": {},
   "source": [
    "# Univariate Analysis"
   ]
  },
  {
   "cell_type": "markdown",
   "metadata": {},
   "source": [
    "#### Question:\n",
    "What is the distribution of ethnicities? Which ethnicity has filed the most number of complaints?"
   ]
  },
  {
   "cell_type": "markdown",
   "metadata": {},
   "source": [
    "The cell below outputs the proportion of complaints filed by each ethnicity. "
   ]
  },
  {
   "cell_type": "code",
   "execution_count": 66,
   "metadata": {},
   "outputs": [
    {
     "data": {
      "text/html": [
       "<div>\n",
       "<style scoped>\n",
       "    .dataframe tbody tr th:only-of-type {\n",
       "        vertical-align: middle;\n",
       "    }\n",
       "\n",
       "    .dataframe tbody tr th {\n",
       "        vertical-align: top;\n",
       "    }\n",
       "\n",
       "    .dataframe thead th {\n",
       "        text-align: right;\n",
       "    }\n",
       "</style>\n",
       "<table border=\"1\" class=\"dataframe\">\n",
       "  <thead>\n",
       "    <tr style=\"text-align: right;\">\n",
       "      <th></th>\n",
       "      <th>complainant_ethnicity</th>\n",
       "    </tr>\n",
       "  </thead>\n",
       "  <tbody>\n",
       "    <tr>\n",
       "      <th>Black</th>\n",
       "      <td>0.620207</td>\n",
       "    </tr>\n",
       "    <tr>\n",
       "      <th>Hispanic</th>\n",
       "      <td>0.232804</td>\n",
       "    </tr>\n",
       "    <tr>\n",
       "      <th>White</th>\n",
       "      <td>0.100855</td>\n",
       "    </tr>\n",
       "    <tr>\n",
       "      <th>Other Race</th>\n",
       "      <td>0.024534</td>\n",
       "    </tr>\n",
       "    <tr>\n",
       "      <th>Asian</th>\n",
       "      <td>0.019280</td>\n",
       "    </tr>\n",
       "    <tr>\n",
       "      <th>American Indian</th>\n",
       "      <td>0.002319</td>\n",
       "    </tr>\n",
       "  </tbody>\n",
       "</table>\n",
       "</div>"
      ],
      "text/plain": [
       "                 complainant_ethnicity\n",
       "Black                         0.620207\n",
       "Hispanic                      0.232804\n",
       "White                         0.100855\n",
       "Other Race                    0.024534\n",
       "Asian                         0.019280\n",
       "American Indian               0.002319"
      ]
     },
     "metadata": {},
     "output_type": "display_data"
    },
    {
     "data": {
      "image/png": "[encoded data removed]",
      "text/plain": [
       "<Figure size 432x288 with 1 Axes>"
      ]
     },
     "metadata": {
      "image/png": {
       "height": 336,
       "width": 372
      },
      "needs_background": "light"
     },
     "output_type": "display_data"
    }
   ],
   "source": [
    "ethnicity_counts = fixed_df['complainant_ethnicity'].value_counts(normalize = True).to_frame()\n",
    "ethnicity_counts.plot(kind = 'bar', title = 'Proportion of complaints filed by each ethnicity.');\n",
    "display(ethnicity_counts)\n"
   ]
  },
  {
   "cell_type": "markdown",
   "metadata": {},
   "source": [
    "#### Result\n",
    "From this graph we can see that most of the complaints were submitted by people of color."
   ]
  },
  {
   "cell_type": "markdown",
   "metadata": {},
   "source": [
    "#### Question:\n",
    "What is the distribution of ethnicities for officers? Which ethnicity do most officers belong to within this dataset?"
   ]
  },
  {
   "cell_type": "markdown",
   "metadata": {},
   "source": [
    "The cell below outputs the proportion of officers from each ethnicity who have a complaint filed against them."
   ]
  },
  {
   "cell_type": "code",
   "execution_count": 116,
   "metadata": {},
   "outputs": [
    {
     "data": {
      "text/html": [
       "<div>\n",
       "<style scoped>\n",
       "    .dataframe tbody tr th:only-of-type {\n",
       "        vertical-align: middle;\n",
       "    }\n",
       "\n",
       "    .dataframe tbody tr th {\n",
       "        vertical-align: top;\n",
       "    }\n",
       "\n",
       "    .dataframe thead th {\n",
       "        text-align: right;\n",
       "    }\n",
       "</style>\n",
       "<table border=\"1\" class=\"dataframe\">\n",
       "  <thead>\n",
       "    <tr style=\"text-align: right;\">\n",
       "      <th></th>\n",
       "      <th>mos_ethnicity</th>\n",
       "    </tr>\n",
       "  </thead>\n",
       "  <tbody>\n",
       "    <tr>\n",
       "      <th>White</th>\n",
       "      <td>0.541819</td>\n",
       "    </tr>\n",
       "    <tr>\n",
       "      <th>Hispanic</th>\n",
       "      <td>0.274297</td>\n",
       "    </tr>\n",
       "    <tr>\n",
       "      <th>Black</th>\n",
       "      <td>0.147611</td>\n",
       "    </tr>\n",
       "    <tr>\n",
       "      <th>Asian</th>\n",
       "      <td>0.035314</td>\n",
       "    </tr>\n",
       "    <tr>\n",
       "      <th>American Indian</th>\n",
       "      <td>0.000959</td>\n",
       "    </tr>\n",
       "  </tbody>\n",
       "</table>\n",
       "</div>"
      ],
      "text/plain": [
       "                 mos_ethnicity\n",
       "White                 0.541819\n",
       "Hispanic              0.274297\n",
       "Black                 0.147611\n",
       "Asian                 0.035314\n",
       "American Indian       0.000959"
      ]
     },
     "metadata": {},
     "output_type": "display_data"
    },
    {
     "data": {
      "image/png": "[encoded data removed]",
      "text/plain": [
       "<Figure size 432x288 with 1 Axes>"
      ]
     },
     "metadata": {
      "image/png": {
       "height": 336,
       "width": 372
      },
      "needs_background": "light"
     },
     "output_type": "display_data"
    }
   ],
   "source": [
    "ethnicity_counts_officers = fixed_df['mos_ethnicity'].value_counts(normalize = True).to_frame()\n",
    "display(ethnicity_counts_officers)\n",
    "ethnicity_counts_officers.plot(kind = 'bar', title = 'Proportion of officers ethnicity.');"
   ]
  },
  {
   "cell_type": "markdown",
   "metadata": {},
   "source": [
    "#### Result:\n",
    "From this graph we can see that most of the complaints are filed against white officers. This is probably due to the fact that there are more white officers than those of color in this dataset."
   ]
  },
  {
   "cell_type": "markdown",
   "metadata": {},
   "source": [
    "# Bivariate Analysis, Aggregates And Pivot Tables"
   ]
  },
  {
   "cell_type": "markdown",
   "metadata": {},
   "source": [
    "#### Question:\n",
    "Is there any association between age and wait time?"
   ]
  },
  {
   "cell_type": "markdown",
   "metadata": {},
   "source": [
    "The cell below creates a scatter plot examining the association between age and wait time."
   ]
  },
  {
   "cell_type": "code",
   "execution_count": 14,
   "metadata": {},
   "outputs": [
    {
     "data": {
      "image/png": "[encoded data removed]",
      "text/plain": [
       "<Figure size 432x288 with 1 Axes>"
      ]
     },
     "metadata": {
      "image/png": {
       "height": 263,
       "width": 381
      },
      "needs_background": "light"
     },
     "output_type": "display_data"
    }
   ],
   "source": [
    "plt.scatter(fixed_df['complainant_age_incident'], fixed_df['wait_time']); #plotted age vs wait time, there does not appear to be any correlation\n",
    "plt.title('complainant age vs wait time');\n"
   ]
  },
  {
   "cell_type": "markdown",
   "metadata": {},
   "source": [
    "#### Result\n",
    "There doesn’t seem to be any correlation between age and wait time in this data set. However it appears that as age increases the variance in the wait times decreases, but this is probably because of the fewer number of people in the older age groups."
   ]
  },
  {
   "cell_type": "markdown",
   "metadata": {},
   "source": [
    "# Aggregates and Pivot Tables"
   ]
  },
  {
   "cell_type": "markdown",
   "metadata": {},
   "source": [
    "#### Question:\n",
    "Does the severity of the accusation depend on the ethnicity of the complainant?"
   ]
  },
  {
   "cell_type": "markdown",
   "metadata": {},
   "source": [
    "The cell below outputs a plot that shows the proportion of complaints for each fado type across ethnicities. "
   ]
  },
  {
   "cell_type": "code",
   "execution_count": 18,
   "metadata": {},
   "outputs": [
    {
     "data": {
      "image/png": "[encoded data removed]",
      "text/plain": [
       "<Figure size 432x288 with 1 Axes>"
      ]
     },
     "metadata": {
      "image/png": {
       "height": 350,
       "width": 372
      },
      "needs_background": "light"
     },
     "output_type": "display_data"
    }
   ],
   "source": [
    "mod_pivot = fixed_df.pivot_table(index = 'complainant_ethnicity', columns ='fado_type', aggfunc ='size') #found the number of complaints for each ethnicity for each fado type using a pivot table\n",
    "(mod_pivot / mod_pivot.sum()).plot(kind = 'bar', title = 'Distribution of allegation types across ethnicities'); #converted counts to proportion\n"
   ]
  },
  {
   "cell_type": "markdown",
   "metadata": {},
   "source": [
    "#### Result:\n",
    "From this graph we can see which fado type is more common based on ethnicity. In most ethnicities besides the black community, discourtesy seems to be the most common. However among those of color force and abuse of authority seem to be more common. This shows that the allegation is more severe for those of color."
   ]
  },
  {
   "cell_type": "markdown",
   "metadata": {},
   "source": [
    "#### Question:\n",
    "Which gender has the highest average wait time?"
   ]
  },
  {
   "cell_type": "markdown",
   "metadata": {},
   "source": [
    "Outputs a bar graph representing the average wait times across genders"
   ]
  },
  {
   "cell_type": "code",
   "execution_count": 19,
   "metadata": {},
   "outputs": [
    {
     "data": {
      "image/png": "[encoded data removed]",
      "text/plain": [
       "<Figure size 432x288 with 1 Axes>"
      ]
     },
     "metadata": {
      "image/png": {
       "height": 388,
       "width": 375
      },
      "needs_background": "light"
     },
     "output_type": "display_data"
    }
   ],
   "source": [
    "my_analysis = fixed_df[['complainant_gender', 'complainant_age_incident', 'complainant_ethnicity', 'wait_time']]\n",
    "my_analysis.groupby('complainant_gender')['wait_time'].mean().plot(kind = 'bar', title = 'Average wait times by gender'); # male vs. female average wait times"
   ]
  },
  {
   "cell_type": "markdown",
   "metadata": {},
   "source": [
    "#### Result\n",
    "The average wait time for males is slightly higher compared to those of other genders. Since the differences are really small, the result could just be due to randomness and would need a more detailed test to confirm."
   ]
  },
  {
   "cell_type": "markdown",
   "metadata": {},
   "source": [
    "#### Question\n",
    "What are the average wait times by complainant ethnicity?"
   ]
  },
  {
   "cell_type": "markdown",
   "metadata": {},
   "source": [
    "Outputs the average wait times across ethnicities"
   ]
  },
  {
   "cell_type": "code",
   "execution_count": 20,
   "metadata": {},
   "outputs": [
    {
     "data": {
      "image/png": "[encoded data removed]",
      "text/plain": [
       "<Figure size 432x288 with 1 Axes>"
      ]
     },
     "metadata": {
      "image/png": {
       "height": 350,
       "width": 375
      },
      "needs_background": "light"
     },
     "output_type": "display_data"
    }
   ],
   "source": [
    "my_analysis.groupby('complainant_ethnicity')['wait_time'].mean().plot(kind = 'bar', title = 'Average wait times by ethnicity'); "
   ]
  },
  {
   "cell_type": "code",
   "execution_count": 50,
   "metadata": {},
   "outputs": [
    {
     "data": {
      "text/plain": [
       "array(['Abuse of Authority', 'Discourtesy', 'Offensive Language', 'Force'],\n",
       "      dtype=object)"
      ]
     },
     "execution_count": 50,
     "metadata": {},
     "output_type": "execute_result"
    }
   ],
   "source": [
    "fixed_df['fado_type'].unique()"
   ]
  },
  {
   "cell_type": "markdown",
   "metadata": {},
   "source": [
    "#### Result\n",
    "The average wait time by ethnicity shows that those of people of color have higher wait times than other ethnicities."
   ]
  },
  {
   "cell_type": "markdown",
   "metadata": {},
   "source": [
    "#### Question:\n",
    "Does the outcome of the case have anything to do with the complainant's ethnicity? For example, are complaints filed by people of color more likely to end up in the officer being exonerated?"
   ]
  },
  {
   "cell_type": "markdown",
   "metadata": {},
   "source": [
    "Outputs a plot describing the proportion of complaints in each type of board_disposition across ethnicities."
   ]
  },
  {
   "cell_type": "code",
   "execution_count": 21,
   "metadata": {},
   "outputs": [
    {
     "data": {
      "image/png": "[encoded data removed]",
      "text/plain": [
       "<Figure size 432x288 with 1 Axes>"
      ]
     },
     "metadata": {
      "image/png": {
       "height": 350,
       "width": 372
      },
      "needs_background": "light"
     },
     "output_type": "display_data"
    }
   ],
   "source": [
    "altered_df = fixed_df[['complainant_ethnicity', 'board_disposition']]\n",
    "pivot_1 = altered_df.pivot_table(index='complainant_ethnicity', columns = 'board_disposition', aggfunc = 'size')# Created a pivot table that shows the number of complaints per ethnicity for each outcome \n",
    "pivot_1.apply(lambda x: x/x.sum(), axis = 1).plot(kind = 'bar', title = 'Distribution of outcomes based on ethnicity'); # converted counts to proportions\n",
    "\n"
   ]
  },
  {
   "cell_type": "markdown",
   "metadata": {},
   "source": [
    "#### Result:\n",
    "We found that for all races except Blacks and Hispanics the proportion of substantiated cases was higher than exonerated cases. This could imply a racial bias against complainants from the black and hispanic communities."
   ]
  },
  {
   "cell_type": "markdown",
   "metadata": {},
   "source": [
    "#### Question\n",
    "Are white-officer vs non-white complainant cases more likely to go against the complainant?"
   ]
  },
  {
   "cell_type": "markdown",
   "metadata": {},
   "source": [
    "First we found where the complainant was not white and where the police officer was white. We put these bool values in the dataframe with a column called ethnicity_status. We ensured that the places that originally had NaN values in complainant ethnicities continued to be NaN in the new column."
   ]
  },
  {
   "cell_type": "code",
   "execution_count": 22,
   "metadata": {
    "scrolled": true
   },
   "outputs": [
    {
     "name": "stderr",
     "output_type": "stream",
     "text": [
      "/Users/moksha/opt/anaconda3/lib/python3.8/site-packages/pandas/core/indexing.py:671: SettingWithCopyWarning: \n",
      "A value is trying to be set on a copy of a slice from a DataFrame\n",
      "\n",
      "See the caveats in the documentation: https://pandas.pydata.org/pandas-docs/stable/user_guide/indexing.html#returning-a-view-versus-a-copy\n",
      "  self._setitem_with_indexer(indexer, value)\n"
     ]
    },
    {
     "data": {
      "text/html": [
       "<div>\n",
       "<style scoped>\n",
       "    .dataframe tbody tr th:only-of-type {\n",
       "        vertical-align: middle;\n",
       "    }\n",
       "\n",
       "    .dataframe tbody tr th {\n",
       "        vertical-align: top;\n",
       "    }\n",
       "\n",
       "    .dataframe thead th {\n",
       "        text-align: right;\n",
       "    }\n",
       "</style>\n",
       "<table border=\"1\" class=\"dataframe\">\n",
       "  <thead>\n",
       "    <tr style=\"text-align: right;\">\n",
       "      <th></th>\n",
       "      <th>board_disposition</th>\n",
       "      <th>ethnicity_status</th>\n",
       "    </tr>\n",
       "  </thead>\n",
       "  <tbody>\n",
       "    <tr>\n",
       "      <th>0</th>\n",
       "      <td>Substantiated</td>\n",
       "      <td>0.0</td>\n",
       "    </tr>\n",
       "    <tr>\n",
       "      <th>1</th>\n",
       "      <td>Substantiated</td>\n",
       "      <td>1.0</td>\n",
       "    </tr>\n",
       "    <tr>\n",
       "      <th>2</th>\n",
       "      <td>Substantiated</td>\n",
       "      <td>1.0</td>\n",
       "    </tr>\n",
       "    <tr>\n",
       "      <th>3</th>\n",
       "      <td>Substantiated</td>\n",
       "      <td>1.0</td>\n",
       "    </tr>\n",
       "    <tr>\n",
       "      <th>4</th>\n",
       "      <td>Substantiated</td>\n",
       "      <td>NaN</td>\n",
       "    </tr>\n",
       "  </tbody>\n",
       "</table>\n",
       "</div>"
      ],
      "text/plain": [
       "  board_disposition  ethnicity_status\n",
       "0     Substantiated               0.0\n",
       "1     Substantiated               1.0\n",
       "2     Substantiated               1.0\n",
       "3     Substantiated               1.0\n",
       "4     Substantiated               NaN"
      ]
     },
     "execution_count": 22,
     "metadata": {},
     "output_type": "execute_result"
    }
   ],
   "source": [
    "bool_series = ((fixed_df['complainant_ethnicity'] != 'White') & (fixed_df['mos_ethnicity'] == 'White')).replace({True:1, False:0})\n",
    "perm_df = fixed_df[['board_disposition']]\n",
    "perm_df = perm_df.assign(ethnicity_status = bool_series)\n",
    "indexes = fixed_df.loc[pd.isnull(fixed_df['complainant_ethnicity'])].index # finds indexes where ethnicity is NaN in the orginial dataframe.\n",
    "perm_df['ethnicity_status'].loc[indexes] = np.NaN # Makes the corresponding values in ethnicity_status NaN.\n",
    "perm_df.head()"
   ]
  },
  {
   "cell_type": "markdown",
   "metadata": {},
   "source": [
    "We then plotted a bar graph which shows the proportion of different complaint outcomes when the officer is white and the complainant is non-white (1.0) vs. all other possibilities."
   ]
  },
  {
   "cell_type": "code",
   "execution_count": 36,
   "metadata": {},
   "outputs": [
    {
     "data": {
      "image/png": "[encoded data removed]",
      "text/plain": [
       "<Figure size 432x288 with 1 Axes>"
      ]
     },
     "metadata": {
      "image/png": {
       "height": 351,
       "width": 451
      },
      "needs_background": "light"
     },
     "output_type": "display_data"
    }
   ],
   "source": [
    "perm_pivot = perm_df.pivot_table(index = 'board_disposition', columns = 'ethnicity_status', aggfunc = 'size')\n",
    "perm_props = perm_pivot.apply(lambda x: x/x.sum(), axis = 1)\n",
    "perm_props.plot(kind = 'bar', title = 'Case Outcomes when White officer and Non-White complainant vs Other');"
   ]
  },
  {
   "cell_type": "markdown",
   "metadata": {},
   "source": [
    "#### Result:\n",
    "We found the difference between substantiated case proportions and exonerated case proportions based on the officer and complainant’s ethnicity. When the complainant was not white and where the police officer was white vs all other outcomes the difference in proportions was greater for substantiated cases. This might indicate that complaints are more likely to go against the complainant when the officer is white and the complainant is non white."
   ]
  },
  {
   "cell_type": "markdown",
   "metadata": {},
   "source": [
    "#### Question:\n",
    "Is the outcome of the complaint related to the rank of the officer? eg. are higher ranking officers more likely to be exonerated?"
   ]
  },
  {
   "cell_type": "markdown",
   "metadata": {},
   "source": [
    "Cell creates a pivot table with the number of complaint outcomes for each rank and each outcome."
   ]
  },
  {
   "cell_type": "code",
   "execution_count": 24,
   "metadata": {},
   "outputs": [
    {
     "data": {
      "text/html": [
       "<div>\n",
       "<style scoped>\n",
       "    .dataframe tbody tr th:only-of-type {\n",
       "        vertical-align: middle;\n",
       "    }\n",
       "\n",
       "    .dataframe tbody tr th {\n",
       "        vertical-align: top;\n",
       "    }\n",
       "\n",
       "    .dataframe thead th {\n",
       "        text-align: right;\n",
       "    }\n",
       "</style>\n",
       "<table border=\"1\" class=\"dataframe\">\n",
       "  <thead>\n",
       "    <tr style=\"text-align: right;\">\n",
       "      <th>board_disposition</th>\n",
       "      <th>Exonerated</th>\n",
       "      <th>Substantiated</th>\n",
       "      <th>Unsubstantiated</th>\n",
       "    </tr>\n",
       "    <tr>\n",
       "      <th>rank_incident</th>\n",
       "      <th></th>\n",
       "      <th></th>\n",
       "      <th></th>\n",
       "    </tr>\n",
       "  </thead>\n",
       "  <tbody>\n",
       "    <tr>\n",
       "      <th>Captain</th>\n",
       "      <td>91.0</td>\n",
       "      <td>37.0</td>\n",
       "      <td>54.0</td>\n",
       "    </tr>\n",
       "    <tr>\n",
       "      <th>Chiefs and other ranks</th>\n",
       "      <td>1.0</td>\n",
       "      <td>NaN</td>\n",
       "      <td>1.0</td>\n",
       "    </tr>\n",
       "    <tr>\n",
       "      <th>Deputy Inspector</th>\n",
       "      <td>25.0</td>\n",
       "      <td>25.0</td>\n",
       "      <td>46.0</td>\n",
       "    </tr>\n",
       "    <tr>\n",
       "      <th>Detective</th>\n",
       "      <td>858.0</td>\n",
       "      <td>687.0</td>\n",
       "      <td>1762.0</td>\n",
       "    </tr>\n",
       "    <tr>\n",
       "      <th>Inspector</th>\n",
       "      <td>8.0</td>\n",
       "      <td>5.0</td>\n",
       "      <td>14.0</td>\n",
       "    </tr>\n",
       "    <tr>\n",
       "      <th>Lieutenant</th>\n",
       "      <td>444.0</td>\n",
       "      <td>248.0</td>\n",
       "      <td>609.0</td>\n",
       "    </tr>\n",
       "    <tr>\n",
       "      <th>Police Officer</th>\n",
       "      <td>6335.0</td>\n",
       "      <td>5945.0</td>\n",
       "      <td>10229.0</td>\n",
       "    </tr>\n",
       "    <tr>\n",
       "      <th>Sergeant</th>\n",
       "      <td>1847.0</td>\n",
       "      <td>1354.0</td>\n",
       "      <td>2733.0</td>\n",
       "    </tr>\n",
       "  </tbody>\n",
       "</table>\n",
       "</div>"
      ],
      "text/plain": [
       "board_disposition       Exonerated  Substantiated  Unsubstantiated\n",
       "rank_incident                                                     \n",
       "Captain                       91.0           37.0             54.0\n",
       "Chiefs and other ranks         1.0            NaN              1.0\n",
       "Deputy Inspector              25.0           25.0             46.0\n",
       "Detective                    858.0          687.0           1762.0\n",
       "Inspector                      8.0            5.0             14.0\n",
       "Lieutenant                   444.0          248.0            609.0\n",
       "Police Officer              6335.0         5945.0          10229.0\n",
       "Sergeant                    1847.0         1354.0           2733.0"
      ]
     },
     "execution_count": 24,
     "metadata": {},
     "output_type": "execute_result"
    }
   ],
   "source": [
    "new_pivot = fixed_df.pivot_table(index = 'rank_incident', columns = 'board_disposition', aggfunc = 'size') #number of each outcome based on rank of the officer\n",
    "new_pivot"
   ]
  },
  {
   "cell_type": "markdown",
   "metadata": {},
   "source": [
    "This cell diplays the above pivot table in the form of proportions."
   ]
  },
  {
   "cell_type": "code",
   "execution_count": 25,
   "metadata": {},
   "outputs": [
    {
     "data": {
      "image/png": "[encoded data removed]",
      "text/plain": [
       "<Figure size 432x288 with 1 Axes>"
      ]
     },
     "metadata": {
      "image/png": {
       "height": 382,
       "width": 372
      },
      "needs_background": "light"
     },
     "output_type": "display_data"
    }
   ],
   "source": [
    "my_mod = new_pivot.apply(lambda x: x/x.sum(), axis = 1)[['Exonerated', 'Substantiated']] #removed unsubtantiated because across ranks the number of unsubtantiated were significantly higher\n",
    "my_mod.plot(kind = 'bar', title = 'Rank vs outcome of complaint');"
   ]
  },
  {
   "cell_type": "markdown",
   "metadata": {},
   "source": [
    "In order to make the difference in the number of substantiated vs exonerated cases more clear, we plotted the differences for each rank in a bar graph."
   ]
  },
  {
   "cell_type": "code",
   "execution_count": 26,
   "metadata": {},
   "outputs": [
    {
     "data": {
      "image/png": "[encoded data removed]",
      "text/plain": [
       "<Figure size 432x288 with 1 Axes>"
      ]
     },
     "metadata": {
      "image/png": {
       "height": 382,
       "width": 421
      },
      "needs_background": "light"
     },
     "output_type": "display_data"
    }
   ],
   "source": [
    "(my_mod['Exonerated'] - my_mod['Substantiated']).plot(kind = 'bar', title = 'Difference in number of exonerated vs substantiated based on rank');"
   ]
  },
  {
   "cell_type": "markdown",
   "metadata": {},
   "source": [
    "#### Result:\n",
    "Rank order from online source: police officer, sergeant, lieutenant, captain, inspector, and then chiefs. According to this, for the most part, the higher the rank the more difference in outcomes. This means that there is a higher rate of being exonerated among higher ranks."
   ]
  },
  {
   "cell_type": "markdown",
   "metadata": {},
   "source": [
    "### Assessment of Missingness"
   ]
  },
  {
   "cell_type": "markdown",
   "metadata": {},
   "source": [
    "We conducted a missingness test on complainant ethnicity to see which columns were MAR. We used the Total Variation Distance as our test stat since we are working with two categorical columns. Since our significant level was 0.05 any p-value below that would suggest that ethnicity was MAR with respect to the other column. We chose to check the missingness of complainant ethnicity to help answer our question: are white officers vs non white complainant cases more likely to go against the complainant? We address this question in our next section using a permutation test."
   ]
  },
  {
   "cell_type": "code",
   "execution_count": 54,
   "metadata": {},
   "outputs": [
    {
     "data": {
      "image/png": "[encoded data removed]",
      "text/plain": [
       "<Figure size 432x288 with 1 Axes>"
      ]
     },
     "metadata": {
      "image/png": {
       "height": 351,
       "width": 381
      },
      "needs_background": "light"
     },
     "output_type": "display_data"
    }
   ],
   "source": [
    "missing_test = fixed_df[['complainant_ethnicity',  'board_disposition']]\n",
    "missing_test = missing_test.assign(nulls = pd.isnull(missing_test['complainant_ethnicity'])) # created a column (nulls) of booleans indicating where complainant_ethnicity is null and assigned to a df.\n",
    "mod_pivot = missing_test.pivot_table(index = 'board_disposition', columns = 'nulls', aggfunc = 'size').apply(lambda x: x/x.sum())\n",
    "mod_pivot.plot(kind = 'bar', title = 'Missingness of Complainant Ethnicity vs. Board Disposition');"
   ]
  },
  {
   "cell_type": "markdown",
   "metadata": {},
   "source": [
    "We plotted the distribution of board dispositions when the complainant ethnicity column is null and not null. We found that the distributions looked fairly different and thus proceeded with the missingness test. \n",
    "(We could not do the same for complaint_id because there are too many unique ids to give a clear visualization)"
   ]
  },
  {
   "cell_type": "code",
   "execution_count": 27,
   "metadata": {},
   "outputs": [],
   "source": [
    "def ethnicity_missingness(col2):\n",
    "    missing_test = fixed_df[['complainant_ethnicity',  col2]]\n",
    "    missing_test = missing_test.assign(nulls = pd.isnull(missing_test['complainant_ethnicity'])) # created a column (nulls) of booleans indicating where complainant_ethnicity is null and assigned to a df.\n",
    "    mod_pivot = missing_test.pivot_table(index = 'nulls', columns = col2, aggfunc = 'size').apply(lambda x: x/x.sum(), axis=1) # created a pivot table which shows the distribution of col2 when the nulls column is true vs. when it is false.\n",
    "    obs_tvd = mod_pivot.diff().iloc[-1].abs().sum()/2 # Observed statistic.\n",
    "    tvds = []\n",
    "    for i in range(1000):\n",
    "        shuffled = missing_test['nulls'].sample(frac=1, replace=False).reset_index(drop=True) # shuffling the column of booleans.\n",
    "        missing = missing_test.assign(nulls = shuffled)\n",
    "        mod_pivot = missing.pivot_table(index = 'nulls', columns = col2, aggfunc = 'size').apply(lambda x: x/x.sum(), axis=1)\n",
    "        tvd = mod_pivot.diff().iloc[-1].abs().sum()/2 # calculate the sample statistic.\n",
    "        tvds.append(tvd)\n",
    "    return(tvds >= obs_tvd).mean()"
   ]
  },
  {
   "cell_type": "code",
   "execution_count": 30,
   "metadata": {},
   "outputs": [
    {
     "data": {
      "text/plain": [
       "1.0"
      ]
     },
     "execution_count": 30,
     "metadata": {},
     "output_type": "execute_result"
    }
   ],
   "source": [
    "ethnicity_missingness('complaint_id')"
   ]
  },
  {
   "cell_type": "code",
   "execution_count": 31,
   "metadata": {},
   "outputs": [
    {
     "data": {
      "text/plain": [
       "0.0"
      ]
     },
     "execution_count": 31,
     "metadata": {},
     "output_type": "execute_result"
    }
   ],
   "source": [
    "ethnicity_missingness('board_disposition')"
   ]
  },
  {
   "cell_type": "markdown",
   "metadata": {},
   "source": [
    "#### Results:\n",
    "Since the p-value when we compared complainant_ethnicity to complaint_id was 1, we would fail to reject the null hypothesis which means that complainant_ethnicity is likely not MAR with respect to complaint_id. On the other hand, when we compared ethnicity to board_disposition we found a pvalue of 0, indicating with high probability that complainant_ethnicity is MAR on board_dispostion. This could lead to a potential bias in our permutation test results."
   ]
  },
  {
   "cell_type": "markdown",
   "metadata": {},
   "source": [
    "### Permutation Test"
   ]
  },
  {
   "cell_type": "markdown",
   "metadata": {
    "ExecuteTime": {
     "end_time": "2019-10-31T23:36:28.666489Z",
     "start_time": "2019-10-31T23:36:28.664381Z"
    }
   },
   "source": [
    "### Question: Are white-officer vs non-white complainant cases more likely to go against the complainant?"
   ]
  },
  {
   "cell_type": "markdown",
   "metadata": {},
   "source": [
    "### a) Permutation Test\n",
    "We first begin with a permutation test that checks if the distribution of complaint outcomes are significantly different when the officer is white and the complaintant is not white vs. when this is not the case using board dispositon"
   ]
  },
  {
   "cell_type": "markdown",
   "metadata": {},
   "source": [
    "We first check which rows satisfy the condition of having white officers with non-white complainants. If they are of different races we set the value to be 1, and if they don't meet that requirement we set it to zero and saved in an array. We then added to a dataframe containg the board_disposition column. We used board_dispositon as an indicator of whether the case was ruled in favor of or against the complainant. Exonerated implied it went against the complainant. Unsubstantiated implies there was no conclusion and Substantiated implied action was taken and the case ruled in favor of the complainant"
   ]
  },
  {
   "cell_type": "code",
   "execution_count": 70,
   "metadata": {},
   "outputs": [
    {
     "data": {
      "text/html": [
       "<div>\n",
       "<style scoped>\n",
       "    .dataframe tbody tr th:only-of-type {\n",
       "        vertical-align: middle;\n",
       "    }\n",
       "\n",
       "    .dataframe tbody tr th {\n",
       "        vertical-align: top;\n",
       "    }\n",
       "\n",
       "    .dataframe thead th {\n",
       "        text-align: right;\n",
       "    }\n",
       "</style>\n",
       "<table border=\"1\" class=\"dataframe\">\n",
       "  <thead>\n",
       "    <tr style=\"text-align: right;\">\n",
       "      <th></th>\n",
       "      <th>board_disposition</th>\n",
       "      <th>ethnicity_status</th>\n",
       "    </tr>\n",
       "  </thead>\n",
       "  <tbody>\n",
       "    <tr>\n",
       "      <th>0</th>\n",
       "      <td>Substantiated</td>\n",
       "      <td>0</td>\n",
       "    </tr>\n",
       "    <tr>\n",
       "      <th>1</th>\n",
       "      <td>Substantiated</td>\n",
       "      <td>1</td>\n",
       "    </tr>\n",
       "    <tr>\n",
       "      <th>2</th>\n",
       "      <td>Substantiated</td>\n",
       "      <td>1</td>\n",
       "    </tr>\n",
       "    <tr>\n",
       "      <th>3</th>\n",
       "      <td>Substantiated</td>\n",
       "      <td>1</td>\n",
       "    </tr>\n",
       "    <tr>\n",
       "      <th>4</th>\n",
       "      <td>Substantiated</td>\n",
       "      <td>0</td>\n",
       "    </tr>\n",
       "  </tbody>\n",
       "</table>\n",
       "</div>"
      ],
      "text/plain": [
       "  board_disposition  ethnicity_status\n",
       "0     Substantiated                 0\n",
       "1     Substantiated                 1\n",
       "2     Substantiated                 1\n",
       "3     Substantiated                 1\n",
       "4     Substantiated                 0"
      ]
     },
     "execution_count": 70,
     "metadata": {},
     "output_type": "execute_result"
    }
   ],
   "source": [
    "# If ethnicity was the same, replaced True with 1, False with 0, added to dataframe.\n",
    "bool_series = ((fixed_df['complainant_ethnicity'] != 'White') & (fixed_df['mos_ethnicity'] == 'White')).replace({True:1, False:0})\n",
    "perm_df = fixed_df[['board_disposition']]\n",
    "perm_df = perm_df.assign(ethnicity_status = bool_series)\n",
    "perm_df.head()"
   ]
  },
  {
   "cell_type": "markdown",
   "metadata": {},
   "source": [
    "Initially, if ethnicity was NaN, ethnicity_status took the value 0 automatically. This would bias the results. That's why we wanted to keep the original NaN values in the new ethnicity_status column."
   ]
  },
  {
   "cell_type": "code",
   "execution_count": 71,
   "metadata": {},
   "outputs": [
    {
     "name": "stderr",
     "output_type": "stream",
     "text": [
      "/Users/moksha/opt/anaconda3/lib/python3.8/site-packages/pandas/core/indexing.py:671: SettingWithCopyWarning: \n",
      "A value is trying to be set on a copy of a slice from a DataFrame\n",
      "\n",
      "See the caveats in the documentation: https://pandas.pydata.org/pandas-docs/stable/user_guide/indexing.html#returning-a-view-versus-a-copy\n",
      "  self._setitem_with_indexer(indexer, value)\n"
     ]
    },
    {
     "data": {
      "text/html": [
       "<div>\n",
       "<style scoped>\n",
       "    .dataframe tbody tr th:only-of-type {\n",
       "        vertical-align: middle;\n",
       "    }\n",
       "\n",
       "    .dataframe tbody tr th {\n",
       "        vertical-align: top;\n",
       "    }\n",
       "\n",
       "    .dataframe thead th {\n",
       "        text-align: right;\n",
       "    }\n",
       "</style>\n",
       "<table border=\"1\" class=\"dataframe\">\n",
       "  <thead>\n",
       "    <tr style=\"text-align: right;\">\n",
       "      <th></th>\n",
       "      <th>board_disposition</th>\n",
       "      <th>ethnicity_status</th>\n",
       "    </tr>\n",
       "  </thead>\n",
       "  <tbody>\n",
       "    <tr>\n",
       "      <th>0</th>\n",
       "      <td>Substantiated</td>\n",
       "      <td>0.0</td>\n",
       "    </tr>\n",
       "    <tr>\n",
       "      <th>1</th>\n",
       "      <td>Substantiated</td>\n",
       "      <td>1.0</td>\n",
       "    </tr>\n",
       "    <tr>\n",
       "      <th>2</th>\n",
       "      <td>Substantiated</td>\n",
       "      <td>1.0</td>\n",
       "    </tr>\n",
       "    <tr>\n",
       "      <th>3</th>\n",
       "      <td>Substantiated</td>\n",
       "      <td>1.0</td>\n",
       "    </tr>\n",
       "    <tr>\n",
       "      <th>4</th>\n",
       "      <td>Substantiated</td>\n",
       "      <td>NaN</td>\n",
       "    </tr>\n",
       "  </tbody>\n",
       "</table>\n",
       "</div>"
      ],
      "text/plain": [
       "  board_disposition  ethnicity_status\n",
       "0     Substantiated               0.0\n",
       "1     Substantiated               1.0\n",
       "2     Substantiated               1.0\n",
       "3     Substantiated               1.0\n",
       "4     Substantiated               NaN"
      ]
     },
     "execution_count": 71,
     "metadata": {},
     "output_type": "execute_result"
    }
   ],
   "source": [
    "indexes = fixed_df.loc[pd.isnull(fixed_df['complainant_ethnicity'])].index # finds indexes where ethnicity is NaN in the orginial dataframe.\n",
    "perm_df['ethnicity_status'].loc[indexes] = np.NaN # Makes the corresponding values in ethnicity_status NaN.\n",
    "perm_df.head()"
   ]
  },
  {
   "cell_type": "markdown",
   "metadata": {},
   "source": [
    "\n",
    "Null Hypothesis: White officer with non-white complainant vs those that don't meet that requirement come from the same underlying distribution.\n",
    "\n",
    "Alternative Hypothesis: White officer with non-white complainant vs those that don't meet that requirement come from two different distributions.\n",
    "\n",
    "The test statistic we choose is the total variation distance (TVD) between the distributions when the officer is white and the complainant is non-white vs. those that don't meet that requirement. We chose this statistic because it works best when we have two categorical distributions.\n",
    "\n",
    "The significance level we chose is .05.\n",
    "\n",
    "With this permutation test, we aim to check if when a white officer is being accused by a non-white complainant, the distribution of case outcomes is significantly different than those that don't meet that requirement.\n"
   ]
  },
  {
   "cell_type": "markdown",
   "metadata": {},
   "source": [
    "We first created a pivot table to show the number of cases under each possible board disposition for both cases. We then converted them into proportions and used it to calculate the observed statistic."
   ]
  },
  {
   "cell_type": "code",
   "execution_count": 72,
   "metadata": {},
   "outputs": [
    {
     "data": {
      "text/html": [
       "<div>\n",
       "<style scoped>\n",
       "    .dataframe tbody tr th:only-of-type {\n",
       "        vertical-align: middle;\n",
       "    }\n",
       "\n",
       "    .dataframe tbody tr th {\n",
       "        vertical-align: top;\n",
       "    }\n",
       "\n",
       "    .dataframe thead th {\n",
       "        text-align: right;\n",
       "    }\n",
       "</style>\n",
       "<table border=\"1\" class=\"dataframe\">\n",
       "  <thead>\n",
       "    <tr style=\"text-align: right;\">\n",
       "      <th>ethnicity_status</th>\n",
       "      <th>0.0</th>\n",
       "      <th>1.0</th>\n",
       "    </tr>\n",
       "    <tr>\n",
       "      <th>board_disposition</th>\n",
       "      <th></th>\n",
       "      <th></th>\n",
       "    </tr>\n",
       "  </thead>\n",
       "  <tbody>\n",
       "    <tr>\n",
       "      <th>Exonerated</th>\n",
       "      <td>0.263399</td>\n",
       "      <td>0.286596</td>\n",
       "    </tr>\n",
       "    <tr>\n",
       "      <th>Substantiated</th>\n",
       "      <td>0.253008</td>\n",
       "      <td>0.237621</td>\n",
       "    </tr>\n",
       "    <tr>\n",
       "      <th>Unsubstantiated</th>\n",
       "      <td>0.483593</td>\n",
       "      <td>0.475783</td>\n",
       "    </tr>\n",
       "  </tbody>\n",
       "</table>\n",
       "</div>"
      ],
      "text/plain": [
       "ethnicity_status        0.0       1.0\n",
       "board_disposition                    \n",
       "Exonerated         0.263399  0.286596\n",
       "Substantiated      0.253008  0.237621\n",
       "Unsubstantiated    0.483593  0.475783"
      ]
     },
     "execution_count": 72,
     "metadata": {},
     "output_type": "execute_result"
    }
   ],
   "source": [
    "my_pivot = perm_df.pivot_table(index = 'board_disposition', columns = 'ethnicity_status', aggfunc='size') # creates a pivot table where each cell represents the number of cases under each possible board disposition for both the 0 and 1 case.\n",
    "distr = my_pivot / my_pivot.sum() # converts to proportions\n",
    "distr"
   ]
  },
  {
   "cell_type": "code",
   "execution_count": 73,
   "metadata": {},
   "outputs": [
    {
     "data": {
      "text/plain": [
       "0.02319675096488233"
      ]
     },
     "execution_count": 73,
     "metadata": {},
     "output_type": "execute_result"
    }
   ],
   "source": [
    "obs_tvd = distr.diff(axis=1).loc[:, 1].abs().sum() / 2\n",
    "obs_tvd # observed test statistic"
   ]
  },
  {
   "cell_type": "markdown",
   "metadata": {},
   "source": [
    "This cell block performs the permutation test and subsequently calculates the p-value."
   ]
  },
  {
   "cell_type": "code",
   "execution_count": 74,
   "metadata": {},
   "outputs": [],
   "source": [
    "# Permutation test with N = 1000 trials.\n",
    "tvds = []\n",
    "for i in range(1000):\n",
    "    shuffled = perm_df['board_disposition'].sample(frac = 1 , replace = False).reset_index(drop=True) # shuffles the board_disposition column.\n",
    "    new_df = perm_df[['ethnicity_status']].assign(shuffled = shuffled) # assigns shuffled to a new dataframe\n",
    "    my_pivot = new_df.pivot_table(index = 'shuffled' , columns = 'ethnicity_status', aggfunc='size')\n",
    "    props = my_pivot / my_pivot.sum()\n",
    "    tvd = props.diff(axis=1).loc[:, 1].abs().sum() / 2 # calculate observed statistic\n",
    "    tvds.append(tvd)"
   ]
  },
  {
   "cell_type": "code",
   "execution_count": 75,
   "metadata": {},
   "outputs": [
    {
     "data": {
      "text/plain": [
       "0.0"
      ]
     },
     "execution_count": 75,
     "metadata": {},
     "output_type": "execute_result"
    }
   ],
   "source": [
    "p_val = (tvds >= obs_tvd).mean() # calculates p_val\n",
    "p_val"
   ]
  },
  {
   "cell_type": "markdown",
   "metadata": {},
   "source": [
    "Here we plot the distribution of sample tvds in a histogram along with the observed statistic."
   ]
  },
  {
   "cell_type": "code",
   "execution_count": 76,
   "metadata": {},
   "outputs": [
    {
     "data": {
      "image/png": "[encoded data removed]",
      "text/plain": [
       "<Figure size 432x288 with 1 Axes>"
      ]
     },
     "metadata": {
      "image/png": {
       "height": 263,
       "width": 411
      },
      "needs_background": "light"
     },
     "output_type": "display_data"
    }
   ],
   "source": [
    "pd.Series(tvds).plot(kind='hist', title = 'Distribution of tvds under the null hypothesis and observed tvd')\n",
    "plt.scatter(obs_tvd, 0.01, color='red', s= 40, zorder = 2);"
   ]
  },
  {
   "cell_type": "markdown",
   "metadata": {},
   "source": [
    "### Result\n",
    "We got a p-value of 0.0 which indicates that with very high probability, the distribution of outcomes for white officers with non white complainants vs those that don't meet that requirement is significantly different. \n",
    "\n",
    "### Shortcomings\n",
    "While the permutation test was effective in establishing an association between complainant and mos_ethnicity and the outcome of the case, it does not answer the more specific question of whether white officers are more likely to be exonerated or substantiated when accused by non white complainants because it is not a directional test.\n",
    "\n",
    "In addition, the ethnicitiy_status column is MAR on board_disposition. (Because complainant_ethnicity is MAR on board_dispostion and ethnicity_status is NaN whenever complainant_ethnicity is NaN). Since we have not imputed the NaN values, this may lead to some bias in our analysis."
   ]
  },
  {
   "cell_type": "markdown",
   "metadata": {},
   "source": [
    "### Conclusion:\n",
    "With the given dataset we were able to analyze interesting trends in the data and identify an association between the ethnicities of the complainants and police officers and the outcome of the complaint. \n",
    "One way in which our results could be improved is by imputing our null values using the appropriate technique (conditional imputation for MAR columns). \n",
    "We would also potentially like to explore the proportion of complaints for each fado type across ethnicities for the same contact reason. For example, for the same contact reason, what proportion of black complainants accused the officer of using force vs. the proportion of white people who do the same. Currently, because the proportion of complaints from people who are from the Black community is much higher than any other ethnicity, this type of analysis is not possible. So over time, getting more data to get a more balanced dataset would be helpful."
   ]
  },
  {
   "cell_type": "markdown",
   "metadata": {},
   "source": [
    "### Predictive Model"
   ]
  },
  {
   "cell_type": "code",
   "execution_count": 4,
   "metadata": {},
   "outputs": [],
   "source": [
    "df = pd.read_csv(\"data/allegations_202007271729.csv\")"
   ]
  },
  {
   "cell_type": "code",
   "execution_count": 5,
   "metadata": {},
   "outputs": [],
   "source": [
    "df['board_disposition'].unique()\n",
    "mod_df = df.dropna() # Dropped NaN values\n",
    "target = (mod_df['board_disposition'] == 'Exonerated').astype(np.int64)"
   ]
  },
  {
   "cell_type": "markdown",
   "metadata": {},
   "source": [
    "We chose the following features for our models because we felt they were most relevent to our prediction task."
   ]
  },
  {
   "cell_type": "code",
   "execution_count": 75,
   "metadata": {},
   "outputs": [],
   "source": [
    "features = ['mos_ethnicity', 'mos_gender', 'complainant_ethnicity', 'complainant_gender', 'fado_type', 'mos_age_incident', 'complainant_age_incident', 'year_received', 'year_closed']\n"
   ]
  },
  {
   "cell_type": "markdown",
   "metadata": {},
   "source": [
    "Created a baseline model using sklearn pipelines. We first one hot encoded all our categorical variables and then used a DecisionTreeClassifer to make our predictions."
   ]
  },
  {
   "cell_type": "code",
   "execution_count": 76,
   "metadata": {},
   "outputs": [],
   "source": [
    "cat_features = ['mos_ethnicity', 'mos_gender', 'complainant_ethnicity', 'complainant_gender', 'fado_type']\n",
    "pl1 = Pipeline([('one-hot', OneHotEncoder(handle_unknown = 'ignore'))])\n",
    "preproc = ColumnTransformer(transformers = [('cat-cols', pl1, cat_features)], remainder = 'passthrough')\n",
    "pl = Pipeline([('pre-proc', preproc), ('decision-tree', DecisionTreeClassifier())])"
   ]
  },
  {
   "cell_type": "markdown",
   "metadata": {},
   "source": [
    "Split the data into training and testing set. We fit our model on the training set."
   ]
  },
  {
   "cell_type": "code",
   "execution_count": 77,
   "metadata": {},
   "outputs": [],
   "source": [
    "X_train, X_test, y_train, y_test = train_test_split(mod_df[features], target, test_size = 0.3, random_state = 12)"
   ]
  },
  {
   "cell_type": "code",
   "execution_count": 78,
   "metadata": {},
   "outputs": [
    {
     "data": {
      "text/plain": [
       "Pipeline(steps=[('pre-proc',\n",
       "                 ColumnTransformer(remainder='passthrough',\n",
       "                                   transformers=[('cat-cols',\n",
       "                                                  Pipeline(steps=[('one-hot',\n",
       "                                                                   OneHotEncoder(handle_unknown='ignore'))]),\n",
       "                                                  ['mos_ethnicity',\n",
       "                                                   'mos_gender',\n",
       "                                                   'complainant_ethnicity',\n",
       "                                                   'complainant_gender',\n",
       "                                                   'fado_type'])])),\n",
       "                ('decision-tree', DecisionTreeClassifier())])"
      ]
     },
     "execution_count": 78,
     "metadata": {},
     "output_type": "execute_result"
    }
   ],
   "source": [
    "pl.fit(X_train, y_train)"
   ]
  },
  {
   "cell_type": "markdown",
   "metadata": {},
   "source": [
    "We performed a k-fold cross validation and found the mean accuracy across the folds."
   ]
  },
  {
   "cell_type": "code",
   "execution_count": 79,
   "metadata": {},
   "outputs": [
    {
     "data": {
      "text/plain": [
       "0.7108326209595139"
      ]
     },
     "execution_count": 79,
     "metadata": {},
     "output_type": "execute_result"
    }
   ],
   "source": [
    "cross_val_score(pl, X_train, y_train, cv=5).mean()"
   ]
  },
  {
   "cell_type": "markdown",
   "metadata": {},
   "source": [
    "We then found our model's accuracy on the testing data."
   ]
  },
  {
   "cell_type": "code",
   "execution_count": 80,
   "metadata": {},
   "outputs": [
    {
     "data": {
      "text/plain": [
       "0.7106139933365064"
      ]
     },
     "execution_count": 80,
     "metadata": {},
     "output_type": "execute_result"
    }
   ],
   "source": [
    "pl.score(X_test, y_test)"
   ]
  },
  {
   "cell_type": "code",
   "execution_count": 81,
   "metadata": {},
   "outputs": [],
   "source": [
    "baseline_predictions = pl.predict(X_test)"
   ]
  },
  {
   "cell_type": "markdown",
   "metadata": {},
   "source": [
    "We then created a confusion matrix to check for other meaures of accuracy."
   ]
  },
  {
   "cell_type": "code",
   "execution_count": 82,
   "metadata": {},
   "outputs": [
    {
     "data": {
      "text/plain": [
       "array([[4981, 1120],\n",
       "       [1312,  991]])"
      ]
     },
     "execution_count": 82,
     "metadata": {},
     "output_type": "execute_result"
    }
   ],
   "source": [
    "metrics.confusion_matrix(y_test, baseline_predictions)\n"
   ]
  },
  {
   "cell_type": "code",
   "execution_count": 83,
   "metadata": {},
   "outputs": [
    {
     "data": {
      "text/plain": [
       "0.430308293530178"
      ]
     },
     "execution_count": 83,
     "metadata": {},
     "output_type": "execute_result"
    }
   ],
   "source": [
    "metrics.recall_score(y_test, baseline_predictions)"
   ]
  },
  {
   "cell_type": "code",
   "execution_count": 84,
   "metadata": {},
   "outputs": [
    {
     "data": {
      "text/plain": [
       "0.8164235371250614"
      ]
     },
     "execution_count": 84,
     "metadata": {},
     "output_type": "execute_result"
    }
   ],
   "source": [
    "metrics.recall_score(y_test, baseline_predictions, pos_label = 0) # Specificity"
   ]
  },
  {
   "cell_type": "markdown",
   "metadata": {},
   "source": [
    "We then began creating our pipeline for our final model. We one hot encoded our categorical variables, created a new transformer to enginner a wait time features and then standardized all the quantitaive features."
   ]
  },
  {
   "cell_type": "code",
   "execution_count": 116,
   "metadata": {},
   "outputs": [],
   "source": [
    "def wait_times(x):\n",
    "    return (x['year_closed'] - x['year_received']).to_frame()"
   ]
  },
  {
   "cell_type": "markdown",
   "metadata": {},
   "source": [
    "We began our model selection process by creating separate pipelines for each posssible classification model."
   ]
  },
  {
   "cell_type": "code",
   "execution_count": 118,
   "metadata": {},
   "outputs": [],
   "source": [
    "pl_final = Pipeline([('pre-proc', preproc), ('decision-tree', DecisionTreeClassifier())])\n",
    "pl_final_1 = Pipeline([('pre-proc', preproc), ('random-forest', RandomForestClassifier())])\n",
    "pl_final_2 = Pipeline([('pre-proc', preproc), ('k-neighbor', KNeighborsClassifier())])\n",
    "pl_final_3 = Pipeline([('pre-proc', preproc), ('regression', LogisticRegression())])"
   ]
  },
  {
   "cell_type": "markdown",
   "metadata": {},
   "source": [
    "We performed cross-validation for each model and found the one with the highest mean accuracy."
   ]
  },
  {
   "cell_type": "code",
   "execution_count": 87,
   "metadata": {},
   "outputs": [
    {
     "name": "stderr",
     "output_type": "stream",
     "text": [
      "/Users/moksha/opt/anaconda3/lib/python3.8/site-packages/sklearn/linear_model/_logistic.py:762: ConvergenceWarning: lbfgs failed to converge (status=1):\n",
      "STOP: TOTAL NO. of ITERATIONS REACHED LIMIT.\n",
      "\n",
      "Increase the number of iterations (max_iter) or scale the data as shown in:\n",
      "    https://scikit-learn.org/stable/modules/preprocessing.html\n",
      "Please also refer to the documentation for alternative solver options:\n",
      "    https://scikit-learn.org/stable/modules/linear_model.html#logistic-regression\n",
      "  n_iter_i = _check_optimize_result(\n",
      "/Users/moksha/opt/anaconda3/lib/python3.8/site-packages/sklearn/linear_model/_logistic.py:762: ConvergenceWarning: lbfgs failed to converge (status=1):\n",
      "STOP: TOTAL NO. of ITERATIONS REACHED LIMIT.\n",
      "\n",
      "Increase the number of iterations (max_iter) or scale the data as shown in:\n",
      "    https://scikit-learn.org/stable/modules/preprocessing.html\n",
      "Please also refer to the documentation for alternative solver options:\n",
      "    https://scikit-learn.org/stable/modules/linear_model.html#logistic-regression\n",
      "  n_iter_i = _check_optimize_result(\n",
      "/Users/moksha/opt/anaconda3/lib/python3.8/site-packages/sklearn/linear_model/_logistic.py:762: ConvergenceWarning: lbfgs failed to converge (status=1):\n",
      "STOP: TOTAL NO. of ITERATIONS REACHED LIMIT.\n",
      "\n",
      "Increase the number of iterations (max_iter) or scale the data as shown in:\n",
      "    https://scikit-learn.org/stable/modules/preprocessing.html\n",
      "Please also refer to the documentation for alternative solver options:\n",
      "    https://scikit-learn.org/stable/modules/linear_model.html#logistic-regression\n",
      "  n_iter_i = _check_optimize_result(\n",
      "/Users/moksha/opt/anaconda3/lib/python3.8/site-packages/sklearn/linear_model/_logistic.py:762: ConvergenceWarning: lbfgs failed to converge (status=1):\n",
      "STOP: TOTAL NO. of ITERATIONS REACHED LIMIT.\n",
      "\n",
      "Increase the number of iterations (max_iter) or scale the data as shown in:\n",
      "    https://scikit-learn.org/stable/modules/preprocessing.html\n",
      "Please also refer to the documentation for alternative solver options:\n",
      "    https://scikit-learn.org/stable/modules/linear_model.html#logistic-regression\n",
      "  n_iter_i = _check_optimize_result(\n",
      "/Users/moksha/opt/anaconda3/lib/python3.8/site-packages/sklearn/linear_model/_logistic.py:762: ConvergenceWarning: lbfgs failed to converge (status=1):\n",
      "STOP: TOTAL NO. of ITERATIONS REACHED LIMIT.\n",
      "\n",
      "Increase the number of iterations (max_iter) or scale the data as shown in:\n",
      "    https://scikit-learn.org/stable/modules/preprocessing.html\n",
      "Please also refer to the documentation for alternative solver options:\n",
      "    https://scikit-learn.org/stable/modules/linear_model.html#logistic-regression\n",
      "  n_iter_i = _check_optimize_result(\n"
     ]
    }
   ],
   "source": [
    "list_fin = [pl_final, pl_final_1, pl_final_2, pl_final_3]\n",
    "empty_list = []\n",
    "for i in list_fin:\n",
    "    empty_list.append(cross_val_score(i, X_train, y_train, cv=5))"
   ]
  },
  {
   "cell_type": "code",
   "execution_count": 88,
   "metadata": {},
   "outputs": [
    {
     "data": {
      "text/plain": [
       "[0.6972153499228322,\n",
       " 0.7111379890522678,\n",
       " 0.7084351693004665,\n",
       " 0.7339862592161533]"
      ]
     },
     "execution_count": 88,
     "metadata": {},
     "output_type": "execute_result"
    }
   ],
   "source": [
    "[i.mean() for i in empty_list]"
   ]
  },
  {
   "cell_type": "markdown",
   "metadata": {},
   "source": [
    "We wanted to optimize the parameters for our chosen RandomForestModel. We used GridSearchCV to do so."
   ]
  },
  {
   "cell_type": "code",
   "execution_count": 89,
   "metadata": {},
   "outputs": [
    {
     "data": {
      "text/plain": [
       "Pipeline(steps=[('pre-proc',\n",
       "                 ColumnTransformer(transformers=[('cat-cols',\n",
       "                                                  Pipeline(steps=[('one-hot',\n",
       "                                                                   OneHotEncoder(handle_unknown='ignore'))]),\n",
       "                                                  ['mos_ethnicity',\n",
       "                                                   'mos_gender',\n",
       "                                                   'complainant_ethnicity',\n",
       "                                                   'complainant_gender',\n",
       "                                                   'fado_type']),\n",
       "                                                 ('time-elapsed',\n",
       "                                                  Pipeline(steps=[('transform',\n",
       "                                                                   FunctionTransformer(func=<function <lambda> at 0x12a609f70>)),\n",
       "                                                                  ('scaler',\n",
       "                                                                   StandardScaler())]),\n",
       "                                                  ['year_closed',\n",
       "                                                   'year_received']),\n",
       "                                                 ('scaled',\n",
       "                                                  Pipeline(steps=[('scaler',\n",
       "                                                                   StandardScaler())]),\n",
       "                                                  ['mos_age_incident',\n",
       "                                                   'complainant_age_incident'])])),\n",
       "                ('random-forest', RandomForestClassifier())])"
      ]
     },
     "execution_count": 89,
     "metadata": {},
     "output_type": "execute_result"
    }
   ],
   "source": [
    "pl_final_1.fit(X_train, y_train)"
   ]
  },
  {
   "cell_type": "code",
   "execution_count": 90,
   "metadata": {},
   "outputs": [],
   "source": [
    "X_train_new = preproc.transform(X_train)"
   ]
  },
  {
   "cell_type": "code",
   "execution_count": 26,
   "metadata": {},
   "outputs": [
    {
     "data": {
      "text/plain": [
       "GridSearchCV(cv=3, estimator=RandomForestClassifier(),\n",
       "             param_grid={'max_depth': [2, 4, 7, 13, 18, None],\n",
       "                         'min_samples_leaf': [2, 5, 10, 20],\n",
       "                         'min_samples_split': [2, 5, 10, 15],\n",
       "                         'n_estimators': [200, 600, 1000, 1400, 1800]})"
      ]
     },
     "execution_count": 26,
     "metadata": {},
     "output_type": "execute_result"
    }
   ],
   "source": [
    "parameters = {\n",
    "    'max_depth': [2,4,7,13,18,None], \n",
    "    'min_samples_split':[2,5,10,15],\n",
    "    'min_samples_leaf':[2,5,10,20],\n",
    "    'n_estimators' : [200, 600, 1000, 1400, 1800]\n",
    "}\n",
    "grid_search = GridSearchCV(RandomForestClassifier(), parameters, cv = 3)\n",
    "grid_search.fit(X_train_new, y_train)"
   ]
  },
  {
   "cell_type": "code",
   "execution_count": 27,
   "metadata": {},
   "outputs": [
    {
     "data": {
      "text/plain": [
       "{'max_depth': 18,\n",
       " 'min_samples_leaf': 2,\n",
       " 'min_samples_split': 2,\n",
       " 'n_estimators': 200}"
      ]
     },
     "execution_count": 27,
     "metadata": {},
     "output_type": "execute_result"
    }
   ],
   "source": [
    "grid_search.best_params_"
   ]
  },
  {
   "cell_type": "markdown",
   "metadata": {},
   "source": [
    "Here we create our final model using the optimized parameters."
   ]
  },
  {
   "cell_type": "code",
   "execution_count": 148,
   "metadata": {},
   "outputs": [],
   "source": [
    "pl1 = Pipeline([('one-hot', OneHotEncoder(handle_unknown = 'ignore'))])\n",
    "#pl2 = Pipeline([('transform', FunctionTransformer(wait_times)), ('scaler', StandardScaler())])\n",
    "pl3 = Pipeline([('scaler', StandardScaler())])\n",
    "cat_features = ['mos_ethnicity', 'mos_gender', 'complainant_ethnicity', 'complainant_gender', 'fado_type']\n",
    "preproc = ColumnTransformer(transformers = [('cat-cols', pl1, cat_features),('scaled', pl3, ['mos_age_incident', 'complainant_age_incident', 'wait_time'])])\n",
    "\n"
   ]
  },
  {
   "cell_type": "code",
   "execution_count": 149,
   "metadata": {},
   "outputs": [],
   "source": [
    "pl_optimized = Pipeline([('pre-proc', preproc), ('random-forest', RandomForestClassifier(max_depth = 18,min_samples_leaf= 2, min_samples_split= 2,n_estimators= 200))])\n"
   ]
  },
  {
   "cell_type": "code",
   "execution_count": 151,
   "metadata": {},
   "outputs": [],
   "source": [
    "X_train['wait_time'] = X_train['year_closed'] - X_train['year_received']"
   ]
  },
  {
   "cell_type": "code",
   "execution_count": 152,
   "metadata": {},
   "outputs": [],
   "source": [
    "X_train= X_train.drop(['year_closed', 'year_received'], axis = 1)"
   ]
  },
  {
   "cell_type": "code",
   "execution_count": 153,
   "metadata": {},
   "outputs": [
    {
     "data": {
      "text/plain": [
       "Pipeline(steps=[('pre-proc',\n",
       "                 ColumnTransformer(transformers=[('cat-cols',\n",
       "                                                  Pipeline(steps=[('one-hot',\n",
       "                                                                   OneHotEncoder(handle_unknown='ignore'))]),\n",
       "                                                  ['mos_ethnicity',\n",
       "                                                   'mos_gender',\n",
       "                                                   'complainant_ethnicity',\n",
       "                                                   'complainant_gender',\n",
       "                                                   'fado_type']),\n",
       "                                                 ('scaled',\n",
       "                                                  Pipeline(steps=[('scaler',\n",
       "                                                                   StandardScaler())]),\n",
       "                                                  ['mos_age_incident',\n",
       "                                                   'complainant_age_incident',\n",
       "                                                   'wait_time'])])),\n",
       "                ('random-forest',\n",
       "                 RandomForestClassifier(max_depth=18, min_samples_leaf=2,\n",
       "                                        n_estimators=200))])"
      ]
     },
     "execution_count": 153,
     "metadata": {},
     "output_type": "execute_result"
    }
   ],
   "source": [
    "pl_optimized.fit(X_train, y_train)"
   ]
  },
  {
   "cell_type": "code",
   "execution_count": 141,
   "metadata": {},
   "outputs": [
    {
     "data": {
      "text/plain": [
       "array(['Abuse of Authority', 'Force', 'Discourtesy', 'Offensive Language'],\n",
       "      dtype=object)"
      ]
     },
     "execution_count": 141,
     "metadata": {},
     "output_type": "execute_result"
    }
   ],
   "source": [
    "X_train['fado_type'].unique()"
   ]
  },
  {
   "cell_type": "code",
   "execution_count": 147,
   "metadata": {},
   "outputs": [
    {
     "data": {
      "text/plain": [
       "array([1])"
      ]
     },
     "execution_count": 147,
     "metadata": {},
     "output_type": "execute_result"
    }
   ],
   "source": [
    "pl_optimized.predict(pd.DataFrame({'mos_ethnicity':'Hispanic', 'mos_gender': 'M', 'complainant_ethnicity':'Black', 'complainant_gender':'Male','fado_type':'Force', 'mos_age_incident':26, 'complainant_age_incident':22.0, 'year_received':2005, 'year_closed':2007}, index = [0]))\n",
    "                     \n",
    "                     \n",
    "                     "
   ]
  },
  {
   "cell_type": "code",
   "execution_count": 154,
   "metadata": {},
   "outputs": [],
   "source": [
    "pickle.dump(pl_optimized, open('model.pkl', 'wb'))"
   ]
  },
  {
   "cell_type": "code",
   "execution_count": 130,
   "metadata": {},
   "outputs": [
    {
     "data": {
      "text/html": [
       "<div>\n",
       "<style scoped>\n",
       "    .dataframe tbody tr th:only-of-type {\n",
       "        vertical-align: middle;\n",
       "    }\n",
       "\n",
       "    .dataframe tbody tr th {\n",
       "        vertical-align: top;\n",
       "    }\n",
       "\n",
       "    .dataframe thead th {\n",
       "        text-align: right;\n",
       "    }\n",
       "</style>\n",
       "<table border=\"1\" class=\"dataframe\">\n",
       "  <thead>\n",
       "    <tr style=\"text-align: right;\">\n",
       "      <th></th>\n",
       "      <th>unique_mos_id</th>\n",
       "      <th>first_name</th>\n",
       "      <th>last_name</th>\n",
       "      <th>command_now</th>\n",
       "      <th>shield_no</th>\n",
       "      <th>complaint_id</th>\n",
       "      <th>month_received</th>\n",
       "      <th>year_received</th>\n",
       "      <th>month_closed</th>\n",
       "      <th>year_closed</th>\n",
       "      <th>...</th>\n",
       "      <th>complainant_age_incident</th>\n",
       "      <th>fado_type</th>\n",
       "      <th>allegation</th>\n",
       "      <th>precinct</th>\n",
       "      <th>contact_reason</th>\n",
       "      <th>outcome_description</th>\n",
       "      <th>board_disposition</th>\n",
       "      <th>received_date</th>\n",
       "      <th>closed_date</th>\n",
       "      <th>wait_time</th>\n",
       "    </tr>\n",
       "  </thead>\n",
       "  <tbody>\n",
       "    <tr>\n",
       "      <th>0</th>\n",
       "      <td>10004</td>\n",
       "      <td>Jonathan</td>\n",
       "      <td>Ruiz</td>\n",
       "      <td>078 PCT</td>\n",
       "      <td>8409</td>\n",
       "      <td>42835</td>\n",
       "      <td>7</td>\n",
       "      <td>2019</td>\n",
       "      <td>5</td>\n",
       "      <td>2020</td>\n",
       "      <td>...</td>\n",
       "      <td>38.0</td>\n",
       "      <td>Abuse of Authority</td>\n",
       "      <td>Failure to provide RTKA card</td>\n",
       "      <td>78.0</td>\n",
       "      <td>Report-domestic dispute</td>\n",
       "      <td>No arrest made or summons issued</td>\n",
       "      <td>Substantiated</td>\n",
       "      <td>2019-07-01</td>\n",
       "      <td>2020-05-01</td>\n",
       "      <td>305</td>\n",
       "    </tr>\n",
       "    <tr>\n",
       "      <th>1</th>\n",
       "      <td>10007</td>\n",
       "      <td>John</td>\n",
       "      <td>Sears</td>\n",
       "      <td>078 PCT</td>\n",
       "      <td>5952</td>\n",
       "      <td>24601</td>\n",
       "      <td>11</td>\n",
       "      <td>2011</td>\n",
       "      <td>8</td>\n",
       "      <td>2012</td>\n",
       "      <td>...</td>\n",
       "      <td>26.0</td>\n",
       "      <td>Discourtesy</td>\n",
       "      <td>Action</td>\n",
       "      <td>67.0</td>\n",
       "      <td>Moving violation</td>\n",
       "      <td>Moving violation summons issued</td>\n",
       "      <td>Substantiated</td>\n",
       "      <td>2011-11-01</td>\n",
       "      <td>2012-08-01</td>\n",
       "      <td>274</td>\n",
       "    </tr>\n",
       "    <tr>\n",
       "      <th>2</th>\n",
       "      <td>10007</td>\n",
       "      <td>John</td>\n",
       "      <td>Sears</td>\n",
       "      <td>078 PCT</td>\n",
       "      <td>5952</td>\n",
       "      <td>24601</td>\n",
       "      <td>11</td>\n",
       "      <td>2011</td>\n",
       "      <td>8</td>\n",
       "      <td>2012</td>\n",
       "      <td>...</td>\n",
       "      <td>26.0</td>\n",
       "      <td>Offensive Language</td>\n",
       "      <td>Race</td>\n",
       "      <td>67.0</td>\n",
       "      <td>Moving violation</td>\n",
       "      <td>Moving violation summons issued</td>\n",
       "      <td>Substantiated</td>\n",
       "      <td>2011-11-01</td>\n",
       "      <td>2012-08-01</td>\n",
       "      <td>274</td>\n",
       "    </tr>\n",
       "    <tr>\n",
       "      <th>3</th>\n",
       "      <td>10007</td>\n",
       "      <td>John</td>\n",
       "      <td>Sears</td>\n",
       "      <td>078 PCT</td>\n",
       "      <td>5952</td>\n",
       "      <td>26146</td>\n",
       "      <td>7</td>\n",
       "      <td>2012</td>\n",
       "      <td>9</td>\n",
       "      <td>2013</td>\n",
       "      <td>...</td>\n",
       "      <td>45.0</td>\n",
       "      <td>Abuse of Authority</td>\n",
       "      <td>Question</td>\n",
       "      <td>67.0</td>\n",
       "      <td>PD suspected C/V of violation/crime - street</td>\n",
       "      <td>No arrest made or summons issued</td>\n",
       "      <td>Substantiated</td>\n",
       "      <td>2012-07-01</td>\n",
       "      <td>2013-09-01</td>\n",
       "      <td>427</td>\n",
       "    </tr>\n",
       "    <tr>\n",
       "      <th>4</th>\n",
       "      <td>10009</td>\n",
       "      <td>Noemi</td>\n",
       "      <td>Sierra</td>\n",
       "      <td>078 PCT</td>\n",
       "      <td>24058</td>\n",
       "      <td>40253</td>\n",
       "      <td>8</td>\n",
       "      <td>2018</td>\n",
       "      <td>2</td>\n",
       "      <td>2019</td>\n",
       "      <td>...</td>\n",
       "      <td>16.0</td>\n",
       "      <td>Force</td>\n",
       "      <td>Physical force</td>\n",
       "      <td>67.0</td>\n",
       "      <td>Report-dispute</td>\n",
       "      <td>Arrest - other violation/crime</td>\n",
       "      <td>Substantiated</td>\n",
       "      <td>2018-08-01</td>\n",
       "      <td>2019-02-01</td>\n",
       "      <td>184</td>\n",
       "    </tr>\n",
       "    <tr>\n",
       "      <th>5</th>\n",
       "      <td>10012</td>\n",
       "      <td>Paula</td>\n",
       "      <td>Smith</td>\n",
       "      <td>078 PCT</td>\n",
       "      <td>4021</td>\n",
       "      <td>37256</td>\n",
       "      <td>5</td>\n",
       "      <td>2017</td>\n",
       "      <td>10</td>\n",
       "      <td>2017</td>\n",
       "      <td>...</td>\n",
       "      <td>31.0</td>\n",
       "      <td>Abuse of Authority</td>\n",
       "      <td>Refusal to process civilian complaint</td>\n",
       "      <td>78.0</td>\n",
       "      <td>C/V telephoned PCT</td>\n",
       "      <td>No arrest made or summons issued</td>\n",
       "      <td>Substantiated</td>\n",
       "      <td>2017-05-01</td>\n",
       "      <td>2017-10-01</td>\n",
       "      <td>153</td>\n",
       "    </tr>\n",
       "    <tr>\n",
       "      <th>6</th>\n",
       "      <td>10014</td>\n",
       "      <td>Malachy</td>\n",
       "      <td>Sullivan</td>\n",
       "      <td>078 PCT</td>\n",
       "      <td>4143</td>\n",
       "      <td>33969</td>\n",
       "      <td>11</td>\n",
       "      <td>2015</td>\n",
       "      <td>2</td>\n",
       "      <td>2016</td>\n",
       "      <td>...</td>\n",
       "      <td>34.0</td>\n",
       "      <td>Offensive Language</td>\n",
       "      <td>Sexual orientation</td>\n",
       "      <td>78.0</td>\n",
       "      <td>PD suspected C/V of violation/crime - street</td>\n",
       "      <td>Summons - other violation/crime</td>\n",
       "      <td>Substantiated</td>\n",
       "      <td>2015-11-01</td>\n",
       "      <td>2016-02-01</td>\n",
       "      <td>92</td>\n",
       "    </tr>\n",
       "    <tr>\n",
       "      <th>7</th>\n",
       "      <td>10017</td>\n",
       "      <td>Fazle</td>\n",
       "      <td>Tanim</td>\n",
       "      <td>078 PCT</td>\n",
       "      <td>15187</td>\n",
       "      <td>40070</td>\n",
       "      <td>8</td>\n",
       "      <td>2018</td>\n",
       "      <td>11</td>\n",
       "      <td>2018</td>\n",
       "      <td>...</td>\n",
       "      <td>60.0</td>\n",
       "      <td>Discourtesy</td>\n",
       "      <td>Word</td>\n",
       "      <td>78.0</td>\n",
       "      <td>Moving violation</td>\n",
       "      <td>Moving violation summons issued</td>\n",
       "      <td>Unsubstantiated</td>\n",
       "      <td>2018-08-01</td>\n",
       "      <td>2018-11-01</td>\n",
       "      <td>92</td>\n",
       "    </tr>\n",
       "    <tr>\n",
       "      <th>8</th>\n",
       "      <td>10017</td>\n",
       "      <td>Fazle</td>\n",
       "      <td>Tanim</td>\n",
       "      <td>078 PCT</td>\n",
       "      <td>15187</td>\n",
       "      <td>41927</td>\n",
       "      <td>3</td>\n",
       "      <td>2019</td>\n",
       "      <td>8</td>\n",
       "      <td>2019</td>\n",
       "      <td>...</td>\n",
       "      <td>39.0</td>\n",
       "      <td>Abuse of Authority</td>\n",
       "      <td>Refusal to provide shield number</td>\n",
       "      <td>78.0</td>\n",
       "      <td>Moving violation</td>\n",
       "      <td>Moving violation summons issued</td>\n",
       "      <td>Unsubstantiated</td>\n",
       "      <td>2019-03-01</td>\n",
       "      <td>2019-08-01</td>\n",
       "      <td>153</td>\n",
       "    </tr>\n",
       "    <tr>\n",
       "      <th>9</th>\n",
       "      <td>10017</td>\n",
       "      <td>Fazle</td>\n",
       "      <td>Tanim</td>\n",
       "      <td>078 PCT</td>\n",
       "      <td>15187</td>\n",
       "      <td>41927</td>\n",
       "      <td>3</td>\n",
       "      <td>2019</td>\n",
       "      <td>8</td>\n",
       "      <td>2019</td>\n",
       "      <td>...</td>\n",
       "      <td>39.0</td>\n",
       "      <td>Abuse of Authority</td>\n",
       "      <td>Retaliatory summons</td>\n",
       "      <td>78.0</td>\n",
       "      <td>Moving violation</td>\n",
       "      <td>Moving violation summons issued</td>\n",
       "      <td>Substantiated</td>\n",
       "      <td>2019-03-01</td>\n",
       "      <td>2019-08-01</td>\n",
       "      <td>153</td>\n",
       "    </tr>\n",
       "    <tr>\n",
       "      <th>10</th>\n",
       "      <td>10018</td>\n",
       "      <td>Shmuel</td>\n",
       "      <td>Tenenbaum</td>\n",
       "      <td>078 PCT</td>\n",
       "      <td>4518</td>\n",
       "      <td>36984</td>\n",
       "      <td>4</td>\n",
       "      <td>2017</td>\n",
       "      <td>11</td>\n",
       "      <td>2017</td>\n",
       "      <td>...</td>\n",
       "      <td>30.0</td>\n",
       "      <td>Abuse of Authority</td>\n",
       "      <td>Refusal to provide name/shield number</td>\n",
       "      <td>78.0</td>\n",
       "      <td>Other</td>\n",
       "      <td>No arrest made or summons issued</td>\n",
       "      <td>Substantiated</td>\n",
       "      <td>2017-04-01</td>\n",
       "      <td>2017-11-01</td>\n",
       "      <td>214</td>\n",
       "    </tr>\n",
       "    <tr>\n",
       "      <th>11</th>\n",
       "      <td>10018</td>\n",
       "      <td>Shmuel</td>\n",
       "      <td>Tenenbaum</td>\n",
       "      <td>078 PCT</td>\n",
       "      <td>4518</td>\n",
       "      <td>36984</td>\n",
       "      <td>4</td>\n",
       "      <td>2017</td>\n",
       "      <td>11</td>\n",
       "      <td>2017</td>\n",
       "      <td>...</td>\n",
       "      <td>30.0</td>\n",
       "      <td>Offensive Language</td>\n",
       "      <td>Sexual orientation</td>\n",
       "      <td>78.0</td>\n",
       "      <td>Other</td>\n",
       "      <td>No arrest made or summons issued</td>\n",
       "      <td>Unsubstantiated</td>\n",
       "      <td>2017-04-01</td>\n",
       "      <td>2017-11-01</td>\n",
       "      <td>214</td>\n",
       "    </tr>\n",
       "    <tr>\n",
       "      <th>12</th>\n",
       "      <td>10026</td>\n",
       "      <td>Brian</td>\n",
       "      <td>Alexander</td>\n",
       "      <td>079 DET</td>\n",
       "      <td>3185</td>\n",
       "      <td>35092</td>\n",
       "      <td>5</td>\n",
       "      <td>2016</td>\n",
       "      <td>10</td>\n",
       "      <td>2016</td>\n",
       "      <td>...</td>\n",
       "      <td>30.0</td>\n",
       "      <td>Abuse of Authority</td>\n",
       "      <td>Search (of person)</td>\n",
       "      <td>79.0</td>\n",
       "      <td>Moving violation</td>\n",
       "      <td>No arrest made or summons issued</td>\n",
       "      <td>Unsubstantiated</td>\n",
       "      <td>2016-05-01</td>\n",
       "      <td>2016-10-01</td>\n",
       "      <td>153</td>\n",
       "    </tr>\n",
       "    <tr>\n",
       "      <th>13</th>\n",
       "      <td>10026</td>\n",
       "      <td>Brian</td>\n",
       "      <td>Alexander</td>\n",
       "      <td>079 DET</td>\n",
       "      <td>3185</td>\n",
       "      <td>26353</td>\n",
       "      <td>8</td>\n",
       "      <td>2012</td>\n",
       "      <td>2</td>\n",
       "      <td>2014</td>\n",
       "      <td>...</td>\n",
       "      <td>35.0</td>\n",
       "      <td>Force</td>\n",
       "      <td>Pepper spray</td>\n",
       "      <td>79.0</td>\n",
       "      <td>PD suspected C/V of violation/crime - street</td>\n",
       "      <td>Arrest - OGA</td>\n",
       "      <td>Unsubstantiated</td>\n",
       "      <td>2012-08-01</td>\n",
       "      <td>2014-02-01</td>\n",
       "      <td>549</td>\n",
       "    </tr>\n",
       "    <tr>\n",
       "      <th>14</th>\n",
       "      <td>10026</td>\n",
       "      <td>Brian</td>\n",
       "      <td>Alexander</td>\n",
       "      <td>079 DET</td>\n",
       "      <td>3185</td>\n",
       "      <td>27482</td>\n",
       "      <td>3</td>\n",
       "      <td>2013</td>\n",
       "      <td>7</td>\n",
       "      <td>2014</td>\n",
       "      <td>...</td>\n",
       "      <td>42.0</td>\n",
       "      <td>Force</td>\n",
       "      <td>Physical force</td>\n",
       "      <td>79.0</td>\n",
       "      <td>Regulatory inspection</td>\n",
       "      <td>Arrest - other violation/crime</td>\n",
       "      <td>Exonerated</td>\n",
       "      <td>2013-03-01</td>\n",
       "      <td>2014-07-01</td>\n",
       "      <td>487</td>\n",
       "    </tr>\n",
       "    <tr>\n",
       "      <th>15</th>\n",
       "      <td>10026</td>\n",
       "      <td>Brian</td>\n",
       "      <td>Alexander</td>\n",
       "      <td>079 DET</td>\n",
       "      <td>3185</td>\n",
       "      <td>27482</td>\n",
       "      <td>3</td>\n",
       "      <td>2013</td>\n",
       "      <td>7</td>\n",
       "      <td>2014</td>\n",
       "      <td>...</td>\n",
       "      <td>42.0</td>\n",
       "      <td>Offensive Language</td>\n",
       "      <td>Race</td>\n",
       "      <td>79.0</td>\n",
       "      <td>Regulatory inspection</td>\n",
       "      <td>Arrest - other violation/crime</td>\n",
       "      <td>Unsubstantiated</td>\n",
       "      <td>2013-03-01</td>\n",
       "      <td>2014-07-01</td>\n",
       "      <td>487</td>\n",
       "    </tr>\n",
       "    <tr>\n",
       "      <th>16</th>\n",
       "      <td>10026</td>\n",
       "      <td>Brian</td>\n",
       "      <td>Alexander</td>\n",
       "      <td>079 DET</td>\n",
       "      <td>3185</td>\n",
       "      <td>27482</td>\n",
       "      <td>3</td>\n",
       "      <td>2013</td>\n",
       "      <td>7</td>\n",
       "      <td>2014</td>\n",
       "      <td>...</td>\n",
       "      <td>46.0</td>\n",
       "      <td>Force</td>\n",
       "      <td>Handcuffs too tight</td>\n",
       "      <td>79.0</td>\n",
       "      <td>Regulatory inspection</td>\n",
       "      <td>Arrest - other violation/crime</td>\n",
       "      <td>Unsubstantiated</td>\n",
       "      <td>2013-03-01</td>\n",
       "      <td>2014-07-01</td>\n",
       "      <td>487</td>\n",
       "    </tr>\n",
       "    <tr>\n",
       "      <th>17</th>\n",
       "      <td>10026</td>\n",
       "      <td>Brian</td>\n",
       "      <td>Alexander</td>\n",
       "      <td>079 DET</td>\n",
       "      <td>3185</td>\n",
       "      <td>29270</td>\n",
       "      <td>10</td>\n",
       "      <td>2013</td>\n",
       "      <td>8</td>\n",
       "      <td>2014</td>\n",
       "      <td>...</td>\n",
       "      <td>34.0</td>\n",
       "      <td>Discourtesy</td>\n",
       "      <td>Word</td>\n",
       "      <td>79.0</td>\n",
       "      <td>PD suspected C/V of violation/crime - street</td>\n",
       "      <td>Arrest - other violation/crime</td>\n",
       "      <td>Unsubstantiated</td>\n",
       "      <td>2013-10-01</td>\n",
       "      <td>2014-08-01</td>\n",
       "      <td>304</td>\n",
       "    </tr>\n",
       "    <tr>\n",
       "      <th>18</th>\n",
       "      <td>10026</td>\n",
       "      <td>Brian</td>\n",
       "      <td>Alexander</td>\n",
       "      <td>079 DET</td>\n",
       "      <td>3185</td>\n",
       "      <td>29270</td>\n",
       "      <td>10</td>\n",
       "      <td>2013</td>\n",
       "      <td>8</td>\n",
       "      <td>2014</td>\n",
       "      <td>...</td>\n",
       "      <td>30.0</td>\n",
       "      <td>Force</td>\n",
       "      <td>Physical force</td>\n",
       "      <td>79.0</td>\n",
       "      <td>PD suspected C/V of violation/crime - street</td>\n",
       "      <td>Arrest - other violation/crime</td>\n",
       "      <td>Unsubstantiated</td>\n",
       "      <td>2013-10-01</td>\n",
       "      <td>2014-08-01</td>\n",
       "      <td>304</td>\n",
       "    </tr>\n",
       "    <tr>\n",
       "      <th>19</th>\n",
       "      <td>10026</td>\n",
       "      <td>Brian</td>\n",
       "      <td>Alexander</td>\n",
       "      <td>079 DET</td>\n",
       "      <td>3185</td>\n",
       "      <td>31069</td>\n",
       "      <td>7</td>\n",
       "      <td>2014</td>\n",
       "      <td>7</td>\n",
       "      <td>2015</td>\n",
       "      <td>...</td>\n",
       "      <td>23.0</td>\n",
       "      <td>Abuse of Authority</td>\n",
       "      <td>Frisk</td>\n",
       "      <td>79.0</td>\n",
       "      <td>Other</td>\n",
       "      <td>No arrest made or summons issued</td>\n",
       "      <td>Unsubstantiated</td>\n",
       "      <td>2014-07-01</td>\n",
       "      <td>2015-07-01</td>\n",
       "      <td>365</td>\n",
       "    </tr>\n",
       "    <tr>\n",
       "      <th>20</th>\n",
       "      <td>10026</td>\n",
       "      <td>Brian</td>\n",
       "      <td>Alexander</td>\n",
       "      <td>079 DET</td>\n",
       "      <td>3185</td>\n",
       "      <td>32450</td>\n",
       "      <td>4</td>\n",
       "      <td>2015</td>\n",
       "      <td>8</td>\n",
       "      <td>2015</td>\n",
       "      <td>...</td>\n",
       "      <td>29.0</td>\n",
       "      <td>Abuse of Authority</td>\n",
       "      <td>Frisk</td>\n",
       "      <td>79.0</td>\n",
       "      <td>PD suspected C/V of violation/crime - street</td>\n",
       "      <td>No arrest made or summons issued</td>\n",
       "      <td>Substantiated</td>\n",
       "      <td>2015-04-01</td>\n",
       "      <td>2015-08-01</td>\n",
       "      <td>122</td>\n",
       "    </tr>\n",
       "    <tr>\n",
       "      <th>21</th>\n",
       "      <td>10026</td>\n",
       "      <td>Brian</td>\n",
       "      <td>Alexander</td>\n",
       "      <td>079 DET</td>\n",
       "      <td>3185</td>\n",
       "      <td>32450</td>\n",
       "      <td>4</td>\n",
       "      <td>2015</td>\n",
       "      <td>8</td>\n",
       "      <td>2015</td>\n",
       "      <td>...</td>\n",
       "      <td>29.0</td>\n",
       "      <td>Abuse of Authority</td>\n",
       "      <td>Question</td>\n",
       "      <td>79.0</td>\n",
       "      <td>PD suspected C/V of violation/crime - street</td>\n",
       "      <td>No arrest made or summons issued</td>\n",
       "      <td>Substantiated</td>\n",
       "      <td>2015-04-01</td>\n",
       "      <td>2015-08-01</td>\n",
       "      <td>122</td>\n",
       "    </tr>\n",
       "    <tr>\n",
       "      <th>22</th>\n",
       "      <td>10026</td>\n",
       "      <td>Brian</td>\n",
       "      <td>Alexander</td>\n",
       "      <td>079 DET</td>\n",
       "      <td>3185</td>\n",
       "      <td>32450</td>\n",
       "      <td>4</td>\n",
       "      <td>2015</td>\n",
       "      <td>8</td>\n",
       "      <td>2015</td>\n",
       "      <td>...</td>\n",
       "      <td>29.0</td>\n",
       "      <td>Abuse of Authority</td>\n",
       "      <td>Vehicle stop</td>\n",
       "      <td>79.0</td>\n",
       "      <td>PD suspected C/V of violation/crime - street</td>\n",
       "      <td>No arrest made or summons issued</td>\n",
       "      <td>Substantiated</td>\n",
       "      <td>2015-04-01</td>\n",
       "      <td>2015-08-01</td>\n",
       "      <td>122</td>\n",
       "    </tr>\n",
       "    <tr>\n",
       "      <th>23</th>\n",
       "      <td>10026</td>\n",
       "      <td>Brian</td>\n",
       "      <td>Alexander</td>\n",
       "      <td>079 DET</td>\n",
       "      <td>3185</td>\n",
       "      <td>32450</td>\n",
       "      <td>4</td>\n",
       "      <td>2015</td>\n",
       "      <td>8</td>\n",
       "      <td>2015</td>\n",
       "      <td>...</td>\n",
       "      <td>29.0</td>\n",
       "      <td>Abuse of Authority</td>\n",
       "      <td>Search (of person)</td>\n",
       "      <td>79.0</td>\n",
       "      <td>PD suspected C/V of violation/crime - street</td>\n",
       "      <td>No arrest made or summons issued</td>\n",
       "      <td>Substantiated</td>\n",
       "      <td>2015-04-01</td>\n",
       "      <td>2015-08-01</td>\n",
       "      <td>122</td>\n",
       "    </tr>\n",
       "    <tr>\n",
       "      <th>24</th>\n",
       "      <td>10026</td>\n",
       "      <td>Brian</td>\n",
       "      <td>Alexander</td>\n",
       "      <td>079 DET</td>\n",
       "      <td>3185</td>\n",
       "      <td>32450</td>\n",
       "      <td>4</td>\n",
       "      <td>2015</td>\n",
       "      <td>8</td>\n",
       "      <td>2015</td>\n",
       "      <td>...</td>\n",
       "      <td>29.0</td>\n",
       "      <td>Abuse of Authority</td>\n",
       "      <td>Vehicle search</td>\n",
       "      <td>79.0</td>\n",
       "      <td>PD suspected C/V of violation/crime - street</td>\n",
       "      <td>No arrest made or summons issued</td>\n",
       "      <td>Substantiated</td>\n",
       "      <td>2015-04-01</td>\n",
       "      <td>2015-08-01</td>\n",
       "      <td>122</td>\n",
       "    </tr>\n",
       "    <tr>\n",
       "      <th>25</th>\n",
       "      <td>10026</td>\n",
       "      <td>Brian</td>\n",
       "      <td>Alexander</td>\n",
       "      <td>079 DET</td>\n",
       "      <td>3185</td>\n",
       "      <td>32450</td>\n",
       "      <td>4</td>\n",
       "      <td>2015</td>\n",
       "      <td>8</td>\n",
       "      <td>2015</td>\n",
       "      <td>...</td>\n",
       "      <td>29.0</td>\n",
       "      <td>Abuse of Authority</td>\n",
       "      <td>Refusal to provide name/shield number</td>\n",
       "      <td>79.0</td>\n",
       "      <td>PD suspected C/V of violation/crime - street</td>\n",
       "      <td>No arrest made or summons issued</td>\n",
       "      <td>Substantiated</td>\n",
       "      <td>2015-04-01</td>\n",
       "      <td>2015-08-01</td>\n",
       "      <td>122</td>\n",
       "    </tr>\n",
       "    <tr>\n",
       "      <th>26</th>\n",
       "      <td>10026</td>\n",
       "      <td>Brian</td>\n",
       "      <td>Alexander</td>\n",
       "      <td>079 DET</td>\n",
       "      <td>3185</td>\n",
       "      <td>33608</td>\n",
       "      <td>10</td>\n",
       "      <td>2015</td>\n",
       "      <td>1</td>\n",
       "      <td>2016</td>\n",
       "      <td>...</td>\n",
       "      <td>35.0</td>\n",
       "      <td>Abuse of Authority</td>\n",
       "      <td>Vehicle stop</td>\n",
       "      <td>79.0</td>\n",
       "      <td>Moving violation</td>\n",
       "      <td>No arrest made or summons issued</td>\n",
       "      <td>Unsubstantiated</td>\n",
       "      <td>2015-10-01</td>\n",
       "      <td>2016-01-01</td>\n",
       "      <td>92</td>\n",
       "    </tr>\n",
       "    <tr>\n",
       "      <th>27</th>\n",
       "      <td>10026</td>\n",
       "      <td>Brian</td>\n",
       "      <td>Alexander</td>\n",
       "      <td>079 DET</td>\n",
       "      <td>3185</td>\n",
       "      <td>35092</td>\n",
       "      <td>5</td>\n",
       "      <td>2016</td>\n",
       "      <td>10</td>\n",
       "      <td>2016</td>\n",
       "      <td>...</td>\n",
       "      <td>30.0</td>\n",
       "      <td>Abuse of Authority</td>\n",
       "      <td>Vehicle stop</td>\n",
       "      <td>79.0</td>\n",
       "      <td>Moving violation</td>\n",
       "      <td>No arrest made or summons issued</td>\n",
       "      <td>Exonerated</td>\n",
       "      <td>2016-05-01</td>\n",
       "      <td>2016-10-01</td>\n",
       "      <td>153</td>\n",
       "    </tr>\n",
       "    <tr>\n",
       "      <th>28</th>\n",
       "      <td>10026</td>\n",
       "      <td>Brian</td>\n",
       "      <td>Alexander</td>\n",
       "      <td>079 DET</td>\n",
       "      <td>3185</td>\n",
       "      <td>35092</td>\n",
       "      <td>5</td>\n",
       "      <td>2016</td>\n",
       "      <td>10</td>\n",
       "      <td>2016</td>\n",
       "      <td>...</td>\n",
       "      <td>30.0</td>\n",
       "      <td>Abuse of Authority</td>\n",
       "      <td>Vehicle search</td>\n",
       "      <td>79.0</td>\n",
       "      <td>Moving violation</td>\n",
       "      <td>No arrest made or summons issued</td>\n",
       "      <td>Unsubstantiated</td>\n",
       "      <td>2016-05-01</td>\n",
       "      <td>2016-10-01</td>\n",
       "      <td>153</td>\n",
       "    </tr>\n",
       "    <tr>\n",
       "      <th>29</th>\n",
       "      <td>10026</td>\n",
       "      <td>Brian</td>\n",
       "      <td>Alexander</td>\n",
       "      <td>079 DET</td>\n",
       "      <td>3185</td>\n",
       "      <td>35092</td>\n",
       "      <td>5</td>\n",
       "      <td>2016</td>\n",
       "      <td>10</td>\n",
       "      <td>2016</td>\n",
       "      <td>...</td>\n",
       "      <td>30.0</td>\n",
       "      <td>Abuse of Authority</td>\n",
       "      <td>Strip-searched</td>\n",
       "      <td>79.0</td>\n",
       "      <td>Moving violation</td>\n",
       "      <td>No arrest made or summons issued</td>\n",
       "      <td>Unsubstantiated</td>\n",
       "      <td>2016-05-01</td>\n",
       "      <td>2016-10-01</td>\n",
       "      <td>153</td>\n",
       "    </tr>\n",
       "    <tr>\n",
       "      <th>30</th>\n",
       "      <td>10026</td>\n",
       "      <td>Brian</td>\n",
       "      <td>Alexander</td>\n",
       "      <td>079 DET</td>\n",
       "      <td>3185</td>\n",
       "      <td>39110</td>\n",
       "      <td>3</td>\n",
       "      <td>2018</td>\n",
       "      <td>1</td>\n",
       "      <td>2019</td>\n",
       "      <td>...</td>\n",
       "      <td>29.0</td>\n",
       "      <td>Abuse of Authority</td>\n",
       "      <td>Refusal to provide name/shield number</td>\n",
       "      <td>67.0</td>\n",
       "      <td>Other violation of VTL</td>\n",
       "      <td>Other VTL violation summons issued</td>\n",
       "      <td>Unsubstantiated</td>\n",
       "      <td>2018-03-01</td>\n",
       "      <td>2019-01-01</td>\n",
       "      <td>306</td>\n",
       "    </tr>\n",
       "    <tr>\n",
       "      <th>31</th>\n",
       "      <td>10026</td>\n",
       "      <td>Brian</td>\n",
       "      <td>Alexander</td>\n",
       "      <td>079 DET</td>\n",
       "      <td>3185</td>\n",
       "      <td>41125</td>\n",
       "      <td>12</td>\n",
       "      <td>2018</td>\n",
       "      <td>8</td>\n",
       "      <td>2019</td>\n",
       "      <td>...</td>\n",
       "      <td>28.0</td>\n",
       "      <td>Abuse of Authority</td>\n",
       "      <td>Threat of arrest</td>\n",
       "      <td>67.0</td>\n",
       "      <td>Moving violation</td>\n",
       "      <td>No arrest made or summons issued</td>\n",
       "      <td>Unsubstantiated</td>\n",
       "      <td>2018-12-01</td>\n",
       "      <td>2019-08-01</td>\n",
       "      <td>243</td>\n",
       "    </tr>\n",
       "    <tr>\n",
       "      <th>32</th>\n",
       "      <td>10026</td>\n",
       "      <td>Brian</td>\n",
       "      <td>Alexander</td>\n",
       "      <td>079 DET</td>\n",
       "      <td>3185</td>\n",
       "      <td>41125</td>\n",
       "      <td>12</td>\n",
       "      <td>2018</td>\n",
       "      <td>8</td>\n",
       "      <td>2019</td>\n",
       "      <td>...</td>\n",
       "      <td>28.0</td>\n",
       "      <td>Abuse of Authority</td>\n",
       "      <td>Search (of person)</td>\n",
       "      <td>67.0</td>\n",
       "      <td>Moving violation</td>\n",
       "      <td>No arrest made or summons issued</td>\n",
       "      <td>Unsubstantiated</td>\n",
       "      <td>2018-12-01</td>\n",
       "      <td>2019-08-01</td>\n",
       "      <td>243</td>\n",
       "    </tr>\n",
       "    <tr>\n",
       "      <th>33</th>\n",
       "      <td>10026</td>\n",
       "      <td>Brian</td>\n",
       "      <td>Alexander</td>\n",
       "      <td>079 DET</td>\n",
       "      <td>3185</td>\n",
       "      <td>41125</td>\n",
       "      <td>12</td>\n",
       "      <td>2018</td>\n",
       "      <td>8</td>\n",
       "      <td>2019</td>\n",
       "      <td>...</td>\n",
       "      <td>28.0</td>\n",
       "      <td>Abuse of Authority</td>\n",
       "      <td>Vehicle stop</td>\n",
       "      <td>67.0</td>\n",
       "      <td>Moving violation</td>\n",
       "      <td>No arrest made or summons issued</td>\n",
       "      <td>Unsubstantiated</td>\n",
       "      <td>2018-12-01</td>\n",
       "      <td>2019-08-01</td>\n",
       "      <td>243</td>\n",
       "    </tr>\n",
       "    <tr>\n",
       "      <th>34</th>\n",
       "      <td>10026</td>\n",
       "      <td>Brian</td>\n",
       "      <td>Alexander</td>\n",
       "      <td>079 DET</td>\n",
       "      <td>3185</td>\n",
       "      <td>41125</td>\n",
       "      <td>12</td>\n",
       "      <td>2018</td>\n",
       "      <td>8</td>\n",
       "      <td>2019</td>\n",
       "      <td>...</td>\n",
       "      <td>28.0</td>\n",
       "      <td>Abuse of Authority</td>\n",
       "      <td>Frisk</td>\n",
       "      <td>67.0</td>\n",
       "      <td>Moving violation</td>\n",
       "      <td>No arrest made or summons issued</td>\n",
       "      <td>Substantiated</td>\n",
       "      <td>2018-12-01</td>\n",
       "      <td>2019-08-01</td>\n",
       "      <td>243</td>\n",
       "    </tr>\n",
       "    <tr>\n",
       "      <th>35</th>\n",
       "      <td>10026</td>\n",
       "      <td>Brian</td>\n",
       "      <td>Alexander</td>\n",
       "      <td>079 DET</td>\n",
       "      <td>3185</td>\n",
       "      <td>41169</td>\n",
       "      <td>12</td>\n",
       "      <td>2018</td>\n",
       "      <td>10</td>\n",
       "      <td>2019</td>\n",
       "      <td>...</td>\n",
       "      <td>29.0</td>\n",
       "      <td>Abuse of Authority</td>\n",
       "      <td>Vehicle stop</td>\n",
       "      <td>67.0</td>\n",
       "      <td>Other violation of VTL</td>\n",
       "      <td>No arrest made or summons issued</td>\n",
       "      <td>Unsubstantiated</td>\n",
       "      <td>2018-12-01</td>\n",
       "      <td>2019-10-01</td>\n",
       "      <td>304</td>\n",
       "    </tr>\n",
       "    <tr>\n",
       "      <th>36</th>\n",
       "      <td>10026</td>\n",
       "      <td>Brian</td>\n",
       "      <td>Alexander</td>\n",
       "      <td>079 DET</td>\n",
       "      <td>3185</td>\n",
       "      <td>41178</td>\n",
       "      <td>12</td>\n",
       "      <td>2018</td>\n",
       "      <td>9</td>\n",
       "      <td>2019</td>\n",
       "      <td>...</td>\n",
       "      <td>60.0</td>\n",
       "      <td>Abuse of Authority</td>\n",
       "      <td>Vehicle stop</td>\n",
       "      <td>67.0</td>\n",
       "      <td>Moving violation</td>\n",
       "      <td>No arrest made or summons issued</td>\n",
       "      <td>Exonerated</td>\n",
       "      <td>2018-12-01</td>\n",
       "      <td>2019-09-01</td>\n",
       "      <td>274</td>\n",
       "    </tr>\n",
       "    <tr>\n",
       "      <th>37</th>\n",
       "      <td>10026</td>\n",
       "      <td>Brian</td>\n",
       "      <td>Alexander</td>\n",
       "      <td>079 DET</td>\n",
       "      <td>3185</td>\n",
       "      <td>41178</td>\n",
       "      <td>12</td>\n",
       "      <td>2018</td>\n",
       "      <td>9</td>\n",
       "      <td>2019</td>\n",
       "      <td>...</td>\n",
       "      <td>60.0</td>\n",
       "      <td>Abuse of Authority</td>\n",
       "      <td>Failure to provide RTKA card</td>\n",
       "      <td>67.0</td>\n",
       "      <td>Moving violation</td>\n",
       "      <td>No arrest made or summons issued</td>\n",
       "      <td>Unsubstantiated</td>\n",
       "      <td>2018-12-01</td>\n",
       "      <td>2019-09-01</td>\n",
       "      <td>274</td>\n",
       "    </tr>\n",
       "    <tr>\n",
       "      <th>38</th>\n",
       "      <td>10028</td>\n",
       "      <td>Elijah</td>\n",
       "      <td>Austin</td>\n",
       "      <td>079 DET</td>\n",
       "      <td>833</td>\n",
       "      <td>21254</td>\n",
       "      <td>8</td>\n",
       "      <td>2010</td>\n",
       "      <td>12</td>\n",
       "      <td>2011</td>\n",
       "      <td>...</td>\n",
       "      <td>22.0</td>\n",
       "      <td>Abuse of Authority</td>\n",
       "      <td>Threat of force (verbal or physical)</td>\n",
       "      <td>79.0</td>\n",
       "      <td>Parking violation</td>\n",
       "      <td>No arrest made or summons issued</td>\n",
       "      <td>Substantiated</td>\n",
       "      <td>2010-08-01</td>\n",
       "      <td>2011-12-01</td>\n",
       "      <td>487</td>\n",
       "    </tr>\n",
       "    <tr>\n",
       "      <th>39</th>\n",
       "      <td>10028</td>\n",
       "      <td>Elijah</td>\n",
       "      <td>Austin</td>\n",
       "      <td>079 DET</td>\n",
       "      <td>833</td>\n",
       "      <td>21254</td>\n",
       "      <td>8</td>\n",
       "      <td>2010</td>\n",
       "      <td>12</td>\n",
       "      <td>2011</td>\n",
       "      <td>...</td>\n",
       "      <td>26.0</td>\n",
       "      <td>Abuse of Authority</td>\n",
       "      <td>Refusal to provide name/shield number</td>\n",
       "      <td>79.0</td>\n",
       "      <td>Parking violation</td>\n",
       "      <td>No arrest made or summons issued</td>\n",
       "      <td>Substantiated</td>\n",
       "      <td>2010-08-01</td>\n",
       "      <td>2011-12-01</td>\n",
       "      <td>487</td>\n",
       "    </tr>\n",
       "    <tr>\n",
       "      <th>40</th>\n",
       "      <td>10028</td>\n",
       "      <td>Elijah</td>\n",
       "      <td>Austin</td>\n",
       "      <td>079 DET</td>\n",
       "      <td>833</td>\n",
       "      <td>21254</td>\n",
       "      <td>8</td>\n",
       "      <td>2010</td>\n",
       "      <td>12</td>\n",
       "      <td>2011</td>\n",
       "      <td>...</td>\n",
       "      <td>22.0</td>\n",
       "      <td>Discourtesy</td>\n",
       "      <td>Word</td>\n",
       "      <td>79.0</td>\n",
       "      <td>Parking violation</td>\n",
       "      <td>No arrest made or summons issued</td>\n",
       "      <td>Substantiated</td>\n",
       "      <td>2010-08-01</td>\n",
       "      <td>2011-12-01</td>\n",
       "      <td>487</td>\n",
       "    </tr>\n",
       "    <tr>\n",
       "      <th>41</th>\n",
       "      <td>10028</td>\n",
       "      <td>Elijah</td>\n",
       "      <td>Austin</td>\n",
       "      <td>079 DET</td>\n",
       "      <td>833</td>\n",
       "      <td>24891</td>\n",
       "      <td>1</td>\n",
       "      <td>2012</td>\n",
       "      <td>4</td>\n",
       "      <td>2013</td>\n",
       "      <td>...</td>\n",
       "      <td>33.0</td>\n",
       "      <td>Abuse of Authority</td>\n",
       "      <td>Refusal to provide name/shield number</td>\n",
       "      <td>79.0</td>\n",
       "      <td>PD suspected C/V of violation/crime - street</td>\n",
       "      <td>No arrest made or summons issued</td>\n",
       "      <td>Unsubstantiated</td>\n",
       "      <td>2012-01-01</td>\n",
       "      <td>2013-04-01</td>\n",
       "      <td>456</td>\n",
       "    </tr>\n",
       "    <tr>\n",
       "      <th>42</th>\n",
       "      <td>10028</td>\n",
       "      <td>Elijah</td>\n",
       "      <td>Austin</td>\n",
       "      <td>079 DET</td>\n",
       "      <td>833</td>\n",
       "      <td>33510</td>\n",
       "      <td>9</td>\n",
       "      <td>2015</td>\n",
       "      <td>2</td>\n",
       "      <td>2016</td>\n",
       "      <td>...</td>\n",
       "      <td>17.0</td>\n",
       "      <td>Abuse of Authority</td>\n",
       "      <td>Frisk</td>\n",
       "      <td>77.0</td>\n",
       "      <td>Other</td>\n",
       "      <td>No arrest made or summons issued</td>\n",
       "      <td>Substantiated</td>\n",
       "      <td>2015-09-01</td>\n",
       "      <td>2016-02-01</td>\n",
       "      <td>153</td>\n",
       "    </tr>\n",
       "    <tr>\n",
       "      <th>43</th>\n",
       "      <td>10028</td>\n",
       "      <td>Elijah</td>\n",
       "      <td>Austin</td>\n",
       "      <td>079 DET</td>\n",
       "      <td>833</td>\n",
       "      <td>33510</td>\n",
       "      <td>9</td>\n",
       "      <td>2015</td>\n",
       "      <td>2</td>\n",
       "      <td>2016</td>\n",
       "      <td>...</td>\n",
       "      <td>17.0</td>\n",
       "      <td>Abuse of Authority</td>\n",
       "      <td>Stop</td>\n",
       "      <td>77.0</td>\n",
       "      <td>Other</td>\n",
       "      <td>No arrest made or summons issued</td>\n",
       "      <td>Substantiated</td>\n",
       "      <td>2015-09-01</td>\n",
       "      <td>2016-02-01</td>\n",
       "      <td>153</td>\n",
       "    </tr>\n",
       "    <tr>\n",
       "      <th>44</th>\n",
       "      <td>10028</td>\n",
       "      <td>Elijah</td>\n",
       "      <td>Austin</td>\n",
       "      <td>079 DET</td>\n",
       "      <td>833</td>\n",
       "      <td>35363</td>\n",
       "      <td>6</td>\n",
       "      <td>2016</td>\n",
       "      <td>10</td>\n",
       "      <td>2016</td>\n",
       "      <td>...</td>\n",
       "      <td>30.0</td>\n",
       "      <td>Abuse of Authority</td>\n",
       "      <td>Vehicle stop</td>\n",
       "      <td>81.0</td>\n",
       "      <td>Moving violation</td>\n",
       "      <td>Arrest - other violation/crime</td>\n",
       "      <td>Unsubstantiated</td>\n",
       "      <td>2016-06-01</td>\n",
       "      <td>2016-10-01</td>\n",
       "      <td>122</td>\n",
       "    </tr>\n",
       "    <tr>\n",
       "      <th>45</th>\n",
       "      <td>10028</td>\n",
       "      <td>Elijah</td>\n",
       "      <td>Austin</td>\n",
       "      <td>079 DET</td>\n",
       "      <td>833</td>\n",
       "      <td>35363</td>\n",
       "      <td>6</td>\n",
       "      <td>2016</td>\n",
       "      <td>10</td>\n",
       "      <td>2016</td>\n",
       "      <td>...</td>\n",
       "      <td>22.0</td>\n",
       "      <td>Abuse of Authority</td>\n",
       "      <td>Search (of person)</td>\n",
       "      <td>81.0</td>\n",
       "      <td>Moving violation</td>\n",
       "      <td>Arrest - other violation/crime</td>\n",
       "      <td>Exonerated</td>\n",
       "      <td>2016-06-01</td>\n",
       "      <td>2016-10-01</td>\n",
       "      <td>122</td>\n",
       "    </tr>\n",
       "    <tr>\n",
       "      <th>46</th>\n",
       "      <td>10028</td>\n",
       "      <td>Elijah</td>\n",
       "      <td>Austin</td>\n",
       "      <td>079 DET</td>\n",
       "      <td>833</td>\n",
       "      <td>35363</td>\n",
       "      <td>6</td>\n",
       "      <td>2016</td>\n",
       "      <td>10</td>\n",
       "      <td>2016</td>\n",
       "      <td>...</td>\n",
       "      <td>22.0</td>\n",
       "      <td>Abuse of Authority</td>\n",
       "      <td>Frisk</td>\n",
       "      <td>81.0</td>\n",
       "      <td>Moving violation</td>\n",
       "      <td>Arrest - other violation/crime</td>\n",
       "      <td>Exonerated</td>\n",
       "      <td>2016-06-01</td>\n",
       "      <td>2016-10-01</td>\n",
       "      <td>122</td>\n",
       "    </tr>\n",
       "    <tr>\n",
       "      <th>47</th>\n",
       "      <td>10028</td>\n",
       "      <td>Elijah</td>\n",
       "      <td>Austin</td>\n",
       "      <td>079 DET</td>\n",
       "      <td>833</td>\n",
       "      <td>37921</td>\n",
       "      <td>8</td>\n",
       "      <td>2017</td>\n",
       "      <td>1</td>\n",
       "      <td>2018</td>\n",
       "      <td>...</td>\n",
       "      <td>28.0</td>\n",
       "      <td>Abuse of Authority</td>\n",
       "      <td>Refusal to obtain medical treatment</td>\n",
       "      <td>79.0</td>\n",
       "      <td>PD suspected C/V of violation/crime - street</td>\n",
       "      <td>Arrest - other violation/crime</td>\n",
       "      <td>Unsubstantiated</td>\n",
       "      <td>2017-08-01</td>\n",
       "      <td>2018-01-01</td>\n",
       "      <td>153</td>\n",
       "    </tr>\n",
       "    <tr>\n",
       "      <th>48</th>\n",
       "      <td>10028</td>\n",
       "      <td>Elijah</td>\n",
       "      <td>Austin</td>\n",
       "      <td>079 DET</td>\n",
       "      <td>833</td>\n",
       "      <td>37921</td>\n",
       "      <td>8</td>\n",
       "      <td>2017</td>\n",
       "      <td>1</td>\n",
       "      <td>2018</td>\n",
       "      <td>...</td>\n",
       "      <td>28.0</td>\n",
       "      <td>Abuse of Authority</td>\n",
       "      <td>Stop</td>\n",
       "      <td>79.0</td>\n",
       "      <td>PD suspected C/V of violation/crime - street</td>\n",
       "      <td>Arrest - other violation/crime</td>\n",
       "      <td>Exonerated</td>\n",
       "      <td>2017-08-01</td>\n",
       "      <td>2018-01-01</td>\n",
       "      <td>153</td>\n",
       "    </tr>\n",
       "    <tr>\n",
       "      <th>49</th>\n",
       "      <td>10029</td>\n",
       "      <td>Vearmell</td>\n",
       "      <td>Avenger</td>\n",
       "      <td>079 DET</td>\n",
       "      <td>5076</td>\n",
       "      <td>21803</td>\n",
       "      <td>10</td>\n",
       "      <td>2010</td>\n",
       "      <td>12</td>\n",
       "      <td>2011</td>\n",
       "      <td>...</td>\n",
       "      <td>15.0</td>\n",
       "      <td>Abuse of Authority</td>\n",
       "      <td>Frisk</td>\n",
       "      <td>73.0</td>\n",
       "      <td>PD suspected C/V of violation/crime - street</td>\n",
       "      <td>Summons - other violation/crime</td>\n",
       "      <td>Substantiated</td>\n",
       "      <td>2010-10-01</td>\n",
       "      <td>2011-12-01</td>\n",
       "      <td>426</td>\n",
       "    </tr>\n",
       "  </tbody>\n",
       "</table>\n",
       "<p>50 rows × 30 columns</p>\n",
       "</div>"
      ],
      "text/plain": [
       "    unique_mos_id first_name  last_name command_now  shield_no  complaint_id  \\\n",
       "0           10004   Jonathan       Ruiz     078 PCT       8409         42835   \n",
       "1           10007       John      Sears     078 PCT       5952         24601   \n",
       "2           10007       John      Sears     078 PCT       5952         24601   \n",
       "3           10007       John      Sears     078 PCT       5952         26146   \n",
       "4           10009      Noemi     Sierra     078 PCT      24058         40253   \n",
       "5           10012      Paula      Smith     078 PCT       4021         37256   \n",
       "6           10014    Malachy   Sullivan     078 PCT       4143         33969   \n",
       "7           10017      Fazle      Tanim     078 PCT      15187         40070   \n",
       "8           10017      Fazle      Tanim     078 PCT      15187         41927   \n",
       "9           10017      Fazle      Tanim     078 PCT      15187         41927   \n",
       "10          10018     Shmuel  Tenenbaum     078 PCT       4518         36984   \n",
       "11          10018     Shmuel  Tenenbaum     078 PCT       4518         36984   \n",
       "12          10026      Brian  Alexander     079 DET       3185         35092   \n",
       "13          10026      Brian  Alexander     079 DET       3185         26353   \n",
       "14          10026      Brian  Alexander     079 DET       3185         27482   \n",
       "15          10026      Brian  Alexander     079 DET       3185         27482   \n",
       "16          10026      Brian  Alexander     079 DET       3185         27482   \n",
       "17          10026      Brian  Alexander     079 DET       3185         29270   \n",
       "18          10026      Brian  Alexander     079 DET       3185         29270   \n",
       "19          10026      Brian  Alexander     079 DET       3185         31069   \n",
       "20          10026      Brian  Alexander     079 DET       3185         32450   \n",
       "21          10026      Brian  Alexander     079 DET       3185         32450   \n",
       "22          10026      Brian  Alexander     079 DET       3185         32450   \n",
       "23          10026      Brian  Alexander     079 DET       3185         32450   \n",
       "24          10026      Brian  Alexander     079 DET       3185         32450   \n",
       "25          10026      Brian  Alexander     079 DET       3185         32450   \n",
       "26          10026      Brian  Alexander     079 DET       3185         33608   \n",
       "27          10026      Brian  Alexander     079 DET       3185         35092   \n",
       "28          10026      Brian  Alexander     079 DET       3185         35092   \n",
       "29          10026      Brian  Alexander     079 DET       3185         35092   \n",
       "30          10026      Brian  Alexander     079 DET       3185         39110   \n",
       "31          10026      Brian  Alexander     079 DET       3185         41125   \n",
       "32          10026      Brian  Alexander     079 DET       3185         41125   \n",
       "33          10026      Brian  Alexander     079 DET       3185         41125   \n",
       "34          10026      Brian  Alexander     079 DET       3185         41125   \n",
       "35          10026      Brian  Alexander     079 DET       3185         41169   \n",
       "36          10026      Brian  Alexander     079 DET       3185         41178   \n",
       "37          10026      Brian  Alexander     079 DET       3185         41178   \n",
       "38          10028     Elijah     Austin     079 DET        833         21254   \n",
       "39          10028     Elijah     Austin     079 DET        833         21254   \n",
       "40          10028     Elijah     Austin     079 DET        833         21254   \n",
       "41          10028     Elijah     Austin     079 DET        833         24891   \n",
       "42          10028     Elijah     Austin     079 DET        833         33510   \n",
       "43          10028     Elijah     Austin     079 DET        833         33510   \n",
       "44          10028     Elijah     Austin     079 DET        833         35363   \n",
       "45          10028     Elijah     Austin     079 DET        833         35363   \n",
       "46          10028     Elijah     Austin     079 DET        833         35363   \n",
       "47          10028     Elijah     Austin     079 DET        833         37921   \n",
       "48          10028     Elijah     Austin     079 DET        833         37921   \n",
       "49          10029   Vearmell    Avenger     079 DET       5076         21803   \n",
       "\n",
       "    month_received  year_received  month_closed  year_closed  ...  \\\n",
       "0                7           2019             5         2020  ...   \n",
       "1               11           2011             8         2012  ...   \n",
       "2               11           2011             8         2012  ...   \n",
       "3                7           2012             9         2013  ...   \n",
       "4                8           2018             2         2019  ...   \n",
       "5                5           2017            10         2017  ...   \n",
       "6               11           2015             2         2016  ...   \n",
       "7                8           2018            11         2018  ...   \n",
       "8                3           2019             8         2019  ...   \n",
       "9                3           2019             8         2019  ...   \n",
       "10               4           2017            11         2017  ...   \n",
       "11               4           2017            11         2017  ...   \n",
       "12               5           2016            10         2016  ...   \n",
       "13               8           2012             2         2014  ...   \n",
       "14               3           2013             7         2014  ...   \n",
       "15               3           2013             7         2014  ...   \n",
       "16               3           2013             7         2014  ...   \n",
       "17              10           2013             8         2014  ...   \n",
       "18              10           2013             8         2014  ...   \n",
       "19               7           2014             7         2015  ...   \n",
       "20               4           2015             8         2015  ...   \n",
       "21               4           2015             8         2015  ...   \n",
       "22               4           2015             8         2015  ...   \n",
       "23               4           2015             8         2015  ...   \n",
       "24               4           2015             8         2015  ...   \n",
       "25               4           2015             8         2015  ...   \n",
       "26              10           2015             1         2016  ...   \n",
       "27               5           2016            10         2016  ...   \n",
       "28               5           2016            10         2016  ...   \n",
       "29               5           2016            10         2016  ...   \n",
       "30               3           2018             1         2019  ...   \n",
       "31              12           2018             8         2019  ...   \n",
       "32              12           2018             8         2019  ...   \n",
       "33              12           2018             8         2019  ...   \n",
       "34              12           2018             8         2019  ...   \n",
       "35              12           2018            10         2019  ...   \n",
       "36              12           2018             9         2019  ...   \n",
       "37              12           2018             9         2019  ...   \n",
       "38               8           2010            12         2011  ...   \n",
       "39               8           2010            12         2011  ...   \n",
       "40               8           2010            12         2011  ...   \n",
       "41               1           2012             4         2013  ...   \n",
       "42               9           2015             2         2016  ...   \n",
       "43               9           2015             2         2016  ...   \n",
       "44               6           2016            10         2016  ...   \n",
       "45               6           2016            10         2016  ...   \n",
       "46               6           2016            10         2016  ...   \n",
       "47               8           2017             1         2018  ...   \n",
       "48               8           2017             1         2018  ...   \n",
       "49              10           2010            12         2011  ...   \n",
       "\n",
       "   complainant_age_incident           fado_type  \\\n",
       "0                      38.0  Abuse of Authority   \n",
       "1                      26.0         Discourtesy   \n",
       "2                      26.0  Offensive Language   \n",
       "3                      45.0  Abuse of Authority   \n",
       "4                      16.0               Force   \n",
       "5                      31.0  Abuse of Authority   \n",
       "6                      34.0  Offensive Language   \n",
       "7                      60.0         Discourtesy   \n",
       "8                      39.0  Abuse of Authority   \n",
       "9                      39.0  Abuse of Authority   \n",
       "10                     30.0  Abuse of Authority   \n",
       "11                     30.0  Offensive Language   \n",
       "12                     30.0  Abuse of Authority   \n",
       "13                     35.0               Force   \n",
       "14                     42.0               Force   \n",
       "15                     42.0  Offensive Language   \n",
       "16                     46.0               Force   \n",
       "17                     34.0         Discourtesy   \n",
       "18                     30.0               Force   \n",
       "19                     23.0  Abuse of Authority   \n",
       "20                     29.0  Abuse of Authority   \n",
       "21                     29.0  Abuse of Authority   \n",
       "22                     29.0  Abuse of Authority   \n",
       "23                     29.0  Abuse of Authority   \n",
       "24                     29.0  Abuse of Authority   \n",
       "25                     29.0  Abuse of Authority   \n",
       "26                     35.0  Abuse of Authority   \n",
       "27                     30.0  Abuse of Authority   \n",
       "28                     30.0  Abuse of Authority   \n",
       "29                     30.0  Abuse of Authority   \n",
       "30                     29.0  Abuse of Authority   \n",
       "31                     28.0  Abuse of Authority   \n",
       "32                     28.0  Abuse of Authority   \n",
       "33                     28.0  Abuse of Authority   \n",
       "34                     28.0  Abuse of Authority   \n",
       "35                     29.0  Abuse of Authority   \n",
       "36                     60.0  Abuse of Authority   \n",
       "37                     60.0  Abuse of Authority   \n",
       "38                     22.0  Abuse of Authority   \n",
       "39                     26.0  Abuse of Authority   \n",
       "40                     22.0         Discourtesy   \n",
       "41                     33.0  Abuse of Authority   \n",
       "42                     17.0  Abuse of Authority   \n",
       "43                     17.0  Abuse of Authority   \n",
       "44                     30.0  Abuse of Authority   \n",
       "45                     22.0  Abuse of Authority   \n",
       "46                     22.0  Abuse of Authority   \n",
       "47                     28.0  Abuse of Authority   \n",
       "48                     28.0  Abuse of Authority   \n",
       "49                     15.0  Abuse of Authority   \n",
       "\n",
       "                               allegation precinct  \\\n",
       "0            Failure to provide RTKA card     78.0   \n",
       "1                                  Action     67.0   \n",
       "2                                    Race     67.0   \n",
       "3                                Question     67.0   \n",
       "4                          Physical force     67.0   \n",
       "5   Refusal to process civilian complaint     78.0   \n",
       "6                      Sexual orientation     78.0   \n",
       "7                                    Word     78.0   \n",
       "8        Refusal to provide shield number     78.0   \n",
       "9                     Retaliatory summons     78.0   \n",
       "10  Refusal to provide name/shield number     78.0   \n",
       "11                     Sexual orientation     78.0   \n",
       "12                     Search (of person)     79.0   \n",
       "13                           Pepper spray     79.0   \n",
       "14                         Physical force     79.0   \n",
       "15                                   Race     79.0   \n",
       "16                    Handcuffs too tight     79.0   \n",
       "17                                   Word     79.0   \n",
       "18                         Physical force     79.0   \n",
       "19                                  Frisk     79.0   \n",
       "20                                  Frisk     79.0   \n",
       "21                               Question     79.0   \n",
       "22                           Vehicle stop     79.0   \n",
       "23                     Search (of person)     79.0   \n",
       "24                         Vehicle search     79.0   \n",
       "25  Refusal to provide name/shield number     79.0   \n",
       "26                           Vehicle stop     79.0   \n",
       "27                           Vehicle stop     79.0   \n",
       "28                         Vehicle search     79.0   \n",
       "29                         Strip-searched     79.0   \n",
       "30  Refusal to provide name/shield number     67.0   \n",
       "31                       Threat of arrest     67.0   \n",
       "32                     Search (of person)     67.0   \n",
       "33                           Vehicle stop     67.0   \n",
       "34                                  Frisk     67.0   \n",
       "35                           Vehicle stop     67.0   \n",
       "36                           Vehicle stop     67.0   \n",
       "37           Failure to provide RTKA card     67.0   \n",
       "38   Threat of force (verbal or physical)     79.0   \n",
       "39  Refusal to provide name/shield number     79.0   \n",
       "40                                   Word     79.0   \n",
       "41  Refusal to provide name/shield number     79.0   \n",
       "42                                  Frisk     77.0   \n",
       "43                                   Stop     77.0   \n",
       "44                           Vehicle stop     81.0   \n",
       "45                     Search (of person)     81.0   \n",
       "46                                  Frisk     81.0   \n",
       "47    Refusal to obtain medical treatment     79.0   \n",
       "48                                   Stop     79.0   \n",
       "49                                  Frisk     73.0   \n",
       "\n",
       "                                  contact_reason  \\\n",
       "0                        Report-domestic dispute   \n",
       "1                               Moving violation   \n",
       "2                               Moving violation   \n",
       "3   PD suspected C/V of violation/crime - street   \n",
       "4                                 Report-dispute   \n",
       "5                             C/V telephoned PCT   \n",
       "6   PD suspected C/V of violation/crime - street   \n",
       "7                               Moving violation   \n",
       "8                               Moving violation   \n",
       "9                               Moving violation   \n",
       "10                                         Other   \n",
       "11                                         Other   \n",
       "12                              Moving violation   \n",
       "13  PD suspected C/V of violation/crime - street   \n",
       "14                         Regulatory inspection   \n",
       "15                         Regulatory inspection   \n",
       "16                         Regulatory inspection   \n",
       "17  PD suspected C/V of violation/crime - street   \n",
       "18  PD suspected C/V of violation/crime - street   \n",
       "19                                         Other   \n",
       "20  PD suspected C/V of violation/crime - street   \n",
       "21  PD suspected C/V of violation/crime - street   \n",
       "22  PD suspected C/V of violation/crime - street   \n",
       "23  PD suspected C/V of violation/crime - street   \n",
       "24  PD suspected C/V of violation/crime - street   \n",
       "25  PD suspected C/V of violation/crime - street   \n",
       "26                              Moving violation   \n",
       "27                              Moving violation   \n",
       "28                              Moving violation   \n",
       "29                              Moving violation   \n",
       "30                        Other violation of VTL   \n",
       "31                              Moving violation   \n",
       "32                              Moving violation   \n",
       "33                              Moving violation   \n",
       "34                              Moving violation   \n",
       "35                        Other violation of VTL   \n",
       "36                              Moving violation   \n",
       "37                              Moving violation   \n",
       "38                             Parking violation   \n",
       "39                             Parking violation   \n",
       "40                             Parking violation   \n",
       "41  PD suspected C/V of violation/crime - street   \n",
       "42                                         Other   \n",
       "43                                         Other   \n",
       "44                              Moving violation   \n",
       "45                              Moving violation   \n",
       "46                              Moving violation   \n",
       "47  PD suspected C/V of violation/crime - street   \n",
       "48  PD suspected C/V of violation/crime - street   \n",
       "49  PD suspected C/V of violation/crime - street   \n",
       "\n",
       "                   outcome_description board_disposition  received_date  \\\n",
       "0     No arrest made or summons issued     Substantiated     2019-07-01   \n",
       "1      Moving violation summons issued     Substantiated     2011-11-01   \n",
       "2      Moving violation summons issued     Substantiated     2011-11-01   \n",
       "3     No arrest made or summons issued     Substantiated     2012-07-01   \n",
       "4       Arrest - other violation/crime     Substantiated     2018-08-01   \n",
       "5     No arrest made or summons issued     Substantiated     2017-05-01   \n",
       "6      Summons - other violation/crime     Substantiated     2015-11-01   \n",
       "7      Moving violation summons issued   Unsubstantiated     2018-08-01   \n",
       "8      Moving violation summons issued   Unsubstantiated     2019-03-01   \n",
       "9      Moving violation summons issued     Substantiated     2019-03-01   \n",
       "10    No arrest made or summons issued     Substantiated     2017-04-01   \n",
       "11    No arrest made or summons issued   Unsubstantiated     2017-04-01   \n",
       "12    No arrest made or summons issued   Unsubstantiated     2016-05-01   \n",
       "13                        Arrest - OGA   Unsubstantiated     2012-08-01   \n",
       "14      Arrest - other violation/crime        Exonerated     2013-03-01   \n",
       "15      Arrest - other violation/crime   Unsubstantiated     2013-03-01   \n",
       "16      Arrest - other violation/crime   Unsubstantiated     2013-03-01   \n",
       "17      Arrest - other violation/crime   Unsubstantiated     2013-10-01   \n",
       "18      Arrest - other violation/crime   Unsubstantiated     2013-10-01   \n",
       "19    No arrest made or summons issued   Unsubstantiated     2014-07-01   \n",
       "20    No arrest made or summons issued     Substantiated     2015-04-01   \n",
       "21    No arrest made or summons issued     Substantiated     2015-04-01   \n",
       "22    No arrest made or summons issued     Substantiated     2015-04-01   \n",
       "23    No arrest made or summons issued     Substantiated     2015-04-01   \n",
       "24    No arrest made or summons issued     Substantiated     2015-04-01   \n",
       "25    No arrest made or summons issued     Substantiated     2015-04-01   \n",
       "26    No arrest made or summons issued   Unsubstantiated     2015-10-01   \n",
       "27    No arrest made or summons issued        Exonerated     2016-05-01   \n",
       "28    No arrest made or summons issued   Unsubstantiated     2016-05-01   \n",
       "29    No arrest made or summons issued   Unsubstantiated     2016-05-01   \n",
       "30  Other VTL violation summons issued   Unsubstantiated     2018-03-01   \n",
       "31    No arrest made or summons issued   Unsubstantiated     2018-12-01   \n",
       "32    No arrest made or summons issued   Unsubstantiated     2018-12-01   \n",
       "33    No arrest made or summons issued   Unsubstantiated     2018-12-01   \n",
       "34    No arrest made or summons issued     Substantiated     2018-12-01   \n",
       "35    No arrest made or summons issued   Unsubstantiated     2018-12-01   \n",
       "36    No arrest made or summons issued        Exonerated     2018-12-01   \n",
       "37    No arrest made or summons issued   Unsubstantiated     2018-12-01   \n",
       "38    No arrest made or summons issued     Substantiated     2010-08-01   \n",
       "39    No arrest made or summons issued     Substantiated     2010-08-01   \n",
       "40    No arrest made or summons issued     Substantiated     2010-08-01   \n",
       "41    No arrest made or summons issued   Unsubstantiated     2012-01-01   \n",
       "42    No arrest made or summons issued     Substantiated     2015-09-01   \n",
       "43    No arrest made or summons issued     Substantiated     2015-09-01   \n",
       "44      Arrest - other violation/crime   Unsubstantiated     2016-06-01   \n",
       "45      Arrest - other violation/crime        Exonerated     2016-06-01   \n",
       "46      Arrest - other violation/crime        Exonerated     2016-06-01   \n",
       "47      Arrest - other violation/crime   Unsubstantiated     2017-08-01   \n",
       "48      Arrest - other violation/crime        Exonerated     2017-08-01   \n",
       "49     Summons - other violation/crime     Substantiated     2010-10-01   \n",
       "\n",
       "   closed_date wait_time  \n",
       "0   2020-05-01       305  \n",
       "1   2012-08-01       274  \n",
       "2   2012-08-01       274  \n",
       "3   2013-09-01       427  \n",
       "4   2019-02-01       184  \n",
       "5   2017-10-01       153  \n",
       "6   2016-02-01        92  \n",
       "7   2018-11-01        92  \n",
       "8   2019-08-01       153  \n",
       "9   2019-08-01       153  \n",
       "10  2017-11-01       214  \n",
       "11  2017-11-01       214  \n",
       "12  2016-10-01       153  \n",
       "13  2014-02-01       549  \n",
       "14  2014-07-01       487  \n",
       "15  2014-07-01       487  \n",
       "16  2014-07-01       487  \n",
       "17  2014-08-01       304  \n",
       "18  2014-08-01       304  \n",
       "19  2015-07-01       365  \n",
       "20  2015-08-01       122  \n",
       "21  2015-08-01       122  \n",
       "22  2015-08-01       122  \n",
       "23  2015-08-01       122  \n",
       "24  2015-08-01       122  \n",
       "25  2015-08-01       122  \n",
       "26  2016-01-01        92  \n",
       "27  2016-10-01       153  \n",
       "28  2016-10-01       153  \n",
       "29  2016-10-01       153  \n",
       "30  2019-01-01       306  \n",
       "31  2019-08-01       243  \n",
       "32  2019-08-01       243  \n",
       "33  2019-08-01       243  \n",
       "34  2019-08-01       243  \n",
       "35  2019-10-01       304  \n",
       "36  2019-09-01       274  \n",
       "37  2019-09-01       274  \n",
       "38  2011-12-01       487  \n",
       "39  2011-12-01       487  \n",
       "40  2011-12-01       487  \n",
       "41  2013-04-01       456  \n",
       "42  2016-02-01       153  \n",
       "43  2016-02-01       153  \n",
       "44  2016-10-01       122  \n",
       "45  2016-10-01       122  \n",
       "46  2016-10-01       122  \n",
       "47  2018-01-01       153  \n",
       "48  2018-01-01       153  \n",
       "49  2011-12-01       426  \n",
       "\n",
       "[50 rows x 30 columns]"
      ]
     },
     "execution_count": 130,
     "metadata": {},
     "output_type": "execute_result"
    }
   ],
   "source": [
    "fixed_df.head(50)"
   ]
  },
  {
   "cell_type": "code",
   "execution_count": 115,
   "metadata": {},
   "outputs": [],
   "source": []
  },
  {
   "cell_type": "markdown",
   "metadata": {},
   "source": [
    "Accuracy across the validation sets."
   ]
  },
  {
   "cell_type": "code",
   "execution_count": 92,
   "metadata": {},
   "outputs": [
    {
     "data": {
      "text/plain": [
       "0.7366890789679548"
      ]
     },
     "execution_count": 92,
     "metadata": {},
     "output_type": "execute_result"
    }
   ],
   "source": [
    "accuracy = cross_val_score(pl_optimized, X_train, y_train, cv=5).mean()\n",
    "accuracy"
   ]
  },
  {
   "cell_type": "code",
   "execution_count": 94,
   "metadata": {},
   "outputs": [
    {
     "data": {
      "text/plain": [
       "0.735721085197525"
      ]
     },
     "execution_count": 94,
     "metadata": {},
     "output_type": "execute_result"
    }
   ],
   "source": [
    "pl_optimized.score(X_test, y_test)"
   ]
  },
  {
   "cell_type": "code",
   "execution_count": 38,
   "metadata": {},
   "outputs": [
    {
     "data": {
      "text/plain": [
       "array([2.46933991e-04, 6.91691551e-03, 1.25981609e-02, 1.58661340e-02,\n",
       "       1.66081457e-02, 6.07042964e-03, 6.30832234e-03, 7.58144138e-04,\n",
       "       4.14018215e-03, 1.60583014e-02, 1.50560539e-02, 5.95672197e-03,\n",
       "       2.20961033e-03, 5.65073787e-03, 1.17393427e-02, 1.20397893e-02,\n",
       "       1.14489745e-02, 3.66305996e-04, 6.31889712e-06, 3.43914939e-04,\n",
       "       3.83254931e-02, 7.28708167e-02, 1.15067368e-01, 1.27480362e-02,\n",
       "       3.45387430e-02, 1.57257473e-01, 1.87161425e-01, 1.19623680e-01,\n",
       "       1.12017524e-01])"
      ]
     },
     "execution_count": 38,
     "metadata": {},
     "output_type": "execute_result"
    }
   ],
   "source": [
    "pl_optimized.named_steps['random-forest'].feature_importances_"
   ]
  },
  {
   "cell_type": "code",
   "execution_count": 96,
   "metadata": {},
   "outputs": [],
   "source": [
    "import pickle"
   ]
  },
  {
   "cell_type": "code",
   "execution_count": 114,
   "metadata": {},
   "outputs": [],
   "source": [
    "with open('model_pkl.pkl', 'wb') as files:\n",
    "    pickle.dump(pl_optimized, files)"
   ]
  },
  {
   "cell_type": "code",
   "execution_count": 32,
   "metadata": {},
   "outputs": [],
   "source": [
    "predictions = pl_optimized.predict(X_test)"
   ]
  },
  {
   "cell_type": "markdown",
   "metadata": {},
   "source": [
    "We created a confusion matrix to see the impact of our final model on the recall and specificity."
   ]
  },
  {
   "cell_type": "code",
   "execution_count": 34,
   "metadata": {},
   "outputs": [
    {
     "data": {
      "text/plain": [
       "array([[5638,  463],\n",
       "       [1651,  652]])"
      ]
     },
     "execution_count": 34,
     "metadata": {},
     "output_type": "execute_result"
    }
   ],
   "source": [
    "metrics.confusion_matrix(y_test, predictions)"
   ]
  },
  {
   "cell_type": "code",
   "execution_count": 35,
   "metadata": {},
   "outputs": [
    {
     "data": {
      "text/plain": [
       "0.28310898827616154"
      ]
     },
     "execution_count": 35,
     "metadata": {},
     "output_type": "execute_result"
    }
   ],
   "source": [
    "metrics.recall_score(y_test, predictions)"
   ]
  },
  {
   "cell_type": "code",
   "execution_count": 36,
   "metadata": {},
   "outputs": [
    {
     "data": {
      "text/plain": [
       "0.9241108015079496"
      ]
     },
     "execution_count": 36,
     "metadata": {},
     "output_type": "execute_result"
    }
   ],
   "source": [
    "metrics.recall_score(y_test, predictions, pos_label = 0)"
   ]
  }
 ],
 "metadata": {
  "kernelspec": {
   "display_name": "Python 3",
   "language": "python",
   "name": "python3"
  },
  "language_info": {
   "codemirror_mode": {
    "name": "ipython",
    "version": 3
   },
   "file_extension": ".py",
   "mimetype": "text/x-python",
   "name": "python",
   "nbconvert_exporter": "python",
   "pygments_lexer": "ipython3",
   "version": "3.8.3"
  }
 },
 "nbformat": 4,
 "nbformat_minor": 2
}
